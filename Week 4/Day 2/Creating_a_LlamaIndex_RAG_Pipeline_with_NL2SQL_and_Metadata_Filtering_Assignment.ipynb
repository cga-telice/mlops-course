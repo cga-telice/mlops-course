{
  "cells": [
    {
      "cell_type": "markdown",
      "source": [
        "# Creating a LlamaIndex RAG Pipeline with NL2SQL and Metadata Filtering!\n",
        "\n",
        "We'll be putting together a system for querying both qualitative and quantitative data using LlamaIndex.\n",
        "\n",
        "The acitvities will be broken down as follows:\n",
        "\n",
        "- 🤝 Breakout Room #1\n",
        "  - Task 1: Load Dependencies\n",
        "  - Task 2: Set Env Variables and Set Up WandB Callback\n",
        "  - Task 3: Initialize Settings\n",
        "  - Task 4: Semantic RAG Pipeline with Metadata Filtering\n",
        "- 🤝 Breakout Room #2\n",
        "  - Task 1: Quantitative RAG Pipeline with NL2SQL Tooling\n",
        "  - Task 2: Combined RAG Pipeline\n",
        "\n",
        "Before we get started, however, a quick note on terminology.\n"
      ],
      "metadata": {
        "id": "x5TTdyIoo3i7"
      }
    },
    {
      "cell_type": "markdown",
      "metadata": {
        "id": "vcvGuykZSV_8"
      },
      "source": [
        "### A note on terminology:\n",
        "\n",
        "You'll notice that there are quite a few similarities between LangChain and LlamaIndex. LlamaIndex can largely be thought of as an extension to LangChain, in some ways - but they moved some of the language around. Let's spend a few moments disambiguating the language.\n",
        "\n",
        "- `QueryEngine` -> `LCEL Chain`:\n",
        "  -  `QueryEngine` is just LlamaIndex's way of indicating something is an LLM \"chain\" on top of a retrieval system\n",
        "- `OpenAIAgent` vs. `Agent`:\n",
        "  - The two agents have the same fundamental pattern: Decide which of a list of tools to use to answer a user's query.\n",
        "  - `OpenAIAgent` (LlamaIndex's primary agent) does not need to rely on an agent excecutor due to the fact that it is leveraging OpenAI's [functional api](https://openai.com/blog/function-calling-and-other-api-updates) which allows the agent to interface \"directly\" with the tools instead of operating through an intermediary application process.\n",
        "\n",
        "There is, however, a much large terminological difference when it comes to discussing data.\n",
        "\n",
        "##### Nodes vs. Documents\n",
        "\n",
        "As you're aware of from the previous weeks assignments, there's an idea of `documents` in NLP which refers to text objects that exist within a corpus of documents.\n",
        "\n",
        "LlamaIndex takes this a step further and reclassifies `documents` as `nodes`. Confusingly, it refers to the `Source Document` as simply `Documents`.\n",
        "\n",
        "The `Document` -> `node` structure is, almost exactly, equivalent to the `Source Document` -> `Document` structure found in LangChain - but the new terminology comes with some clarity about different structure-indices.\n",
        "\n",
        "We won't be leveraging those structured indicies today, but we will be leveraging a \"benefit\" of the `node` structure that exists as a default in LlamaIndex, which is the ability to quickly filter nodes based on their metadata.\n",
        "\n",
        "![image](https://i.imgur.com/B1QDjs5.png)"
      ]
    },
    {
      "cell_type": "markdown",
      "source": [
        "# 🤝 Breakout Room #1"
      ],
      "metadata": {
        "id": "dkLLmDFnOfOs"
      }
    },
    {
      "cell_type": "markdown",
      "metadata": {
        "id": "Msvju70DSV_8"
      },
      "source": [
        "## BOILERPLATE\n",
        "\n",
        "This is only relevant when running the code in a Jupyter Notebook."
      ]
    },
    {
      "cell_type": "code",
      "execution_count": 1,
      "metadata": {
        "id": "7VF57GcmSV_9"
      },
      "outputs": [],
      "source": [
        "import nest_asyncio\n",
        "\n",
        "nest_asyncio.apply()\n",
        "\n",
        "import logging\n",
        "import sys\n",
        "\n",
        "logging.basicConfig(stream=sys.stdout, level=logging.INFO)\n",
        "logging.getLogger().addHandler(logging.StreamHandler(stream=sys.stdout))"
      ]
    },
    {
      "cell_type": "markdown",
      "metadata": {
        "id": "6zQBPs6zSV_9"
      },
      "source": [
        "## Task 1: Load Dependencies"
      ]
    },
    {
      "cell_type": "markdown",
      "metadata": {
        "id": "WhEbxl3nSV_9"
      },
      "source": [
        "Let's grab our core `llama-index` library, as well as OpenAI's Python SDK.\n",
        "\n",
        "We'll be leveraging OpenAI's suite of APIs to power our RAG pipelines today.\n",
        "\n",
        "> NOTE: You can safely ignore any pip errors that occur during the running of these cells."
      ]
    },
    {
      "cell_type": "code",
      "execution_count": 2,
      "metadata": {
        "id": "b3oyvtl2SV_9",
        "colab": {
          "base_uri": "https://localhost:8080/"
        },
        "outputId": "25c057ff-7324-4e2e-da01-345eca06f4d9"
      },
      "outputs": [
        {
          "output_type": "stream",
          "name": "stdout",
          "text": [
            "\u001b[2K     \u001b[90m━━━━━━━━━━━━━━━━━━━━━━━━━━━━━━━━━━━━━━━━\u001b[0m \u001b[32m227.4/227.4 kB\u001b[0m \u001b[31m4.8 MB/s\u001b[0m eta \u001b[36m0:00:00\u001b[0m\n",
            "\u001b[2K     \u001b[90m━━━━━━━━━━━━━━━━━━━━━━━━━━━━━━━━━━━━━━━━\u001b[0m \u001b[32m15.3/15.3 MB\u001b[0m \u001b[31m57.8 MB/s\u001b[0m eta \u001b[36m0:00:00\u001b[0m\n",
            "\u001b[2K     \u001b[90m━━━━━━━━━━━━━━━━━━━━━━━━━━━━━━━━━━━━━━━━\u001b[0m \u001b[32m2.0/2.0 MB\u001b[0m \u001b[31m42.4 MB/s\u001b[0m eta \u001b[36m0:00:00\u001b[0m\n",
            "\u001b[2K     \u001b[90m━━━━━━━━━━━━━━━━━━━━━━━━━━━━━━━━━━━━━━━━\u001b[0m \u001b[32m75.6/75.6 kB\u001b[0m \u001b[31m7.2 MB/s\u001b[0m eta \u001b[36m0:00:00\u001b[0m\n",
            "\u001b[2K     \u001b[90m━━━━━━━━━━━━━━━━━━━━━━━━━━━━━━━━━━━━━━━━\u001b[0m \u001b[32m77.8/77.8 kB\u001b[0m \u001b[31m9.2 MB/s\u001b[0m eta \u001b[36m0:00:00\u001b[0m\n",
            "\u001b[2K     \u001b[90m━━━━━━━━━━━━━━━━━━━━━━━━━━━━━━━━━━━━━━━━\u001b[0m \u001b[32m58.3/58.3 kB\u001b[0m \u001b[31m6.1 MB/s\u001b[0m eta \u001b[36m0:00:00\u001b[0m\n",
            "\u001b[2K     \u001b[90m━━━━━━━━━━━━━━━━━━━━━━━━━━━━━━━━━━━━━━━━\u001b[0m \u001b[32m108.0/108.0 kB\u001b[0m \u001b[31m14.0 MB/s\u001b[0m eta \u001b[36m0:00:00\u001b[0m\n",
            "\u001b[2K     \u001b[90m━━━━━━━━━━━━━━━━━━━━━━━━━━━━━━━━━━━━━━━━\u001b[0m \u001b[32m1.8/1.8 MB\u001b[0m \u001b[31m49.7 MB/s\u001b[0m eta \u001b[36m0:00:00\u001b[0m\n",
            "\u001b[2K     \u001b[90m━━━━━━━━━━━━━━━━━━━━━━━━━━━━━━━━━━━━━━━━\u001b[0m \u001b[32m4.4/4.4 MB\u001b[0m \u001b[31m97.1 MB/s\u001b[0m eta \u001b[36m0:00:00\u001b[0m\n",
            "\u001b[2K     \u001b[90m━━━━━━━━━━━━━━━━━━━━━━━━━━━━━━━━━━━━━━━━\u001b[0m \u001b[32m286.1/286.1 kB\u001b[0m \u001b[31m29.4 MB/s\u001b[0m eta \u001b[36m0:00:00\u001b[0m\n",
            "\u001b[2K     \u001b[90m━━━━━━━━━━━━━━━━━━━━━━━━━━━━━━━━━━━━━━━━\u001b[0m \u001b[32m525.5/525.5 kB\u001b[0m \u001b[31m30.9 MB/s\u001b[0m eta \u001b[36m0:00:00\u001b[0m\n",
            "\u001b[2K     \u001b[90m━━━━━━━━━━━━━━━━━━━━━━━━━━━━━━━━━━━━━━━━\u001b[0m \u001b[32m30.6/30.6 MB\u001b[0m \u001b[31m35.5 MB/s\u001b[0m eta \u001b[36m0:00:00\u001b[0m\n",
            "\u001b[2K     \u001b[90m━━━━━━━━━━━━━━━━━━━━━━━━━━━━━━━━━━━━━━━━\u001b[0m \u001b[32m49.4/49.4 kB\u001b[0m \u001b[31m5.6 MB/s\u001b[0m eta \u001b[36m0:00:00\u001b[0m\n",
            "\u001b[2K     \u001b[90m━━━━━━━━━━━━━━━━━━━━━━━━━━━━━━━━━━━━━━━━\u001b[0m \u001b[32m2.4/2.4 MB\u001b[0m \u001b[31m85.7 MB/s\u001b[0m eta \u001b[36m0:00:00\u001b[0m\n",
            "\u001b[2K     \u001b[90m━━━━━━━━━━━━━━━━━━━━━━━━━━━━━━━━━━━━━━━━\u001b[0m \u001b[32m92.1/92.1 kB\u001b[0m \u001b[31m10.9 MB/s\u001b[0m eta \u001b[36m0:00:00\u001b[0m\n",
            "\u001b[2K     \u001b[90m━━━━━━━━━━━━━━━━━━━━━━━━━━━━━━━━━━━━━━━━\u001b[0m \u001b[32m60.6/60.6 kB\u001b[0m \u001b[31m7.5 MB/s\u001b[0m eta \u001b[36m0:00:00\u001b[0m\n",
            "\u001b[2K     \u001b[90m━━━━━━━━━━━━━━━━━━━━━━━━━━━━━━━━━━━━━━━━\u001b[0m \u001b[32m41.3/41.3 kB\u001b[0m \u001b[31m4.4 MB/s\u001b[0m eta \u001b[36m0:00:00\u001b[0m\n",
            "\u001b[2K     \u001b[90m━━━━━━━━━━━━━━━━━━━━━━━━━━━━━━━━━━━━━━━━\u001b[0m \u001b[32m5.4/5.4 MB\u001b[0m \u001b[31m88.0 MB/s\u001b[0m eta \u001b[36m0:00:00\u001b[0m\n",
            "\u001b[2K     \u001b[90m━━━━━━━━━━━━━━━━━━━━━━━━━━━━━━━━━━━━━━━━\u001b[0m \u001b[32m6.8/6.8 MB\u001b[0m \u001b[31m73.8 MB/s\u001b[0m eta \u001b[36m0:00:00\u001b[0m\n",
            "\u001b[2K     \u001b[90m━━━━━━━━━━━━━━━━━━━━━━━━━━━━━━━━━━━━━━━━\u001b[0m \u001b[32m58.4/58.4 kB\u001b[0m \u001b[31m6.1 MB/s\u001b[0m eta \u001b[36m0:00:00\u001b[0m\n",
            "\u001b[2K     \u001b[90m━━━━━━━━━━━━━━━━━━━━━━━━━━━━━━━━━━━━━━━━\u001b[0m \u001b[32m105.7/105.7 kB\u001b[0m \u001b[31m9.5 MB/s\u001b[0m eta \u001b[36m0:00:00\u001b[0m\n",
            "\u001b[2K     \u001b[90m━━━━━━━━━━━━━━━━━━━━━━━━━━━━━━━━━━━━━━━━\u001b[0m \u001b[32m67.3/67.3 kB\u001b[0m \u001b[31m4.7 MB/s\u001b[0m eta \u001b[36m0:00:00\u001b[0m\n",
            "\u001b[?25h  Installing build dependencies ... \u001b[?25l\u001b[?25hdone\n",
            "  Getting requirements to build wheel ... \u001b[?25l\u001b[?25hdone\n",
            "  Preparing metadata (pyproject.toml) ... \u001b[?25l\u001b[?25hdone\n",
            "\u001b[2K     \u001b[90m━━━━━━━━━━━━━━━━━━━━━━━━━━━━━━━━━━━━━━━━\u001b[0m \u001b[32m698.9/698.9 kB\u001b[0m \u001b[31m50.4 MB/s\u001b[0m eta \u001b[36m0:00:00\u001b[0m\n",
            "\u001b[2K     \u001b[90m━━━━━━━━━━━━━━━━━━━━━━━━━━━━━━━━━━━━━━━━\u001b[0m \u001b[32m1.6/1.6 MB\u001b[0m \u001b[31m62.6 MB/s\u001b[0m eta \u001b[36m0:00:00\u001b[0m\n",
            "\u001b[2K     \u001b[90m━━━━━━━━━━━━━━━━━━━━━━━━━━━━━━━━━━━━━━━━\u001b[0m \u001b[32m67.6/67.6 kB\u001b[0m \u001b[31m7.0 MB/s\u001b[0m eta \u001b[36m0:00:00\u001b[0m\n",
            "\u001b[2K     \u001b[90m━━━━━━━━━━━━━━━━━━━━━━━━━━━━━━━━━━━━━━━━\u001b[0m \u001b[32m138.5/138.5 kB\u001b[0m \u001b[31m17.1 MB/s\u001b[0m eta \u001b[36m0:00:00\u001b[0m\n",
            "\u001b[2K     \u001b[90m━━━━━━━━━━━━━━━━━━━━━━━━━━━━━━━━━━━━━━━━\u001b[0m \u001b[32m71.5/71.5 kB\u001b[0m \u001b[31m9.2 MB/s\u001b[0m eta \u001b[36m0:00:00\u001b[0m\n",
            "\u001b[2K     \u001b[90m━━━━━━━━━━━━━━━━━━━━━━━━━━━━━━━━━━━━━━━━\u001b[0m \u001b[32m46.0/46.0 kB\u001b[0m \u001b[31m5.3 MB/s\u001b[0m eta \u001b[36m0:00:00\u001b[0m\n",
            "\u001b[2K     \u001b[90m━━━━━━━━━━━━━━━━━━━━━━━━━━━━━━━━━━━━━━━━\u001b[0m \u001b[32m50.8/50.8 kB\u001b[0m \u001b[31m5.8 MB/s\u001b[0m eta \u001b[36m0:00:00\u001b[0m\n",
            "\u001b[2K     \u001b[90m━━━━━━━━━━━━━━━━━━━━━━━━━━━━━━━━━━━━━━━━\u001b[0m \u001b[32m341.4/341.4 kB\u001b[0m \u001b[31m27.7 MB/s\u001b[0m eta \u001b[36m0:00:00\u001b[0m\n",
            "\u001b[2K     \u001b[90m━━━━━━━━━━━━━━━━━━━━━━━━━━━━━━━━━━━━━━━━\u001b[0m \u001b[32m3.4/3.4 MB\u001b[0m \u001b[31m80.8 MB/s\u001b[0m eta \u001b[36m0:00:00\u001b[0m\n",
            "\u001b[2K     \u001b[90m━━━━━━━━━━━━━━━━━━━━━━━━━━━━━━━━━━━━━━━━\u001b[0m \u001b[32m1.3/1.3 MB\u001b[0m \u001b[31m64.4 MB/s\u001b[0m eta \u001b[36m0:00:00\u001b[0m\n",
            "\u001b[2K     \u001b[90m━━━━━━━━━━━━━━━━━━━━━━━━━━━━━━━━━━━━━━━━\u001b[0m \u001b[32m130.2/130.2 kB\u001b[0m \u001b[31m14.6 MB/s\u001b[0m eta \u001b[36m0:00:00\u001b[0m\n",
            "\u001b[2K     \u001b[90m━━━━━━━━━━━━━━━━━━━━━━━━━━━━━━━━━━━━━━━━\u001b[0m \u001b[32m86.8/86.8 kB\u001b[0m \u001b[31m9.4 MB/s\u001b[0m eta \u001b[36m0:00:00\u001b[0m\n",
            "\u001b[?25h  Building wheel for pypika (pyproject.toml) ... \u001b[?25l\u001b[?25hdone\n"
          ]
        }
      ],
      "source": [
        "!pip install -qU llama-index openai"
      ]
    },
    {
      "cell_type": "markdown",
      "source": [
        "We'll be using [Weights and Biases](https://docs.wandb.ai/guides/prompts) (WandB) again for today's notebook!"
      ],
      "metadata": {
        "id": "6Jifl-qHO8MU"
      }
    },
    {
      "cell_type": "code",
      "source": [
        "!pip install -qU wandb llama-index-callbacks-wandb"
      ],
      "metadata": {
        "id": "9UcQpjG9Ovlk",
        "colab": {
          "base_uri": "https://localhost:8080/"
        },
        "outputId": "977c2ea4-06f2-4282-dcf8-916aaea0b2f8"
      },
      "execution_count": 3,
      "outputs": [
        {
          "output_type": "stream",
          "name": "stdout",
          "text": [
            "\u001b[2K     \u001b[90m━━━━━━━━━━━━━━━━━━━━━━━━━━━━━━━━━━━━━━━━\u001b[0m \u001b[32m2.2/2.2 MB\u001b[0m \u001b[31m12.3 MB/s\u001b[0m eta \u001b[36m0:00:00\u001b[0m\n",
            "\u001b[2K     \u001b[90m━━━━━━━━━━━━━━━━━━━━━━━━━━━━━━━━━━━━━━━━\u001b[0m \u001b[32m195.4/195.4 kB\u001b[0m \u001b[31m7.8 MB/s\u001b[0m eta \u001b[36m0:00:00\u001b[0m\n",
            "\u001b[2K     \u001b[90m━━━━━━━━━━━━━━━━━━━━━━━━━━━━━━━━━━━━━━━━\u001b[0m \u001b[32m258.8/258.8 kB\u001b[0m \u001b[31m14.2 MB/s\u001b[0m eta \u001b[36m0:00:00\u001b[0m\n",
            "\u001b[2K     \u001b[90m━━━━━━━━━━━━━━━━━━━━━━━━━━━━━━━━━━━━━━━━\u001b[0m \u001b[32m62.7/62.7 kB\u001b[0m \u001b[31m3.9 MB/s\u001b[0m eta \u001b[36m0:00:00\u001b[0m\n",
            "\u001b[?25h"
          ]
        }
      ]
    },
    {
      "cell_type": "markdown",
      "source": [
        "We'll be collecting our semantic data from Wikipedia - and so will need the [Wikipedia Reader](https://github.com/run-llama/llama_index/tree/main/llama-index-integrations/readers/llama-index-readers-wikipedia)!"
      ],
      "metadata": {
        "id": "uqTXRTrLPatl"
      }
    },
    {
      "cell_type": "code",
      "execution_count": 4,
      "metadata": {
        "id": "f9kXf7pPSV_-",
        "colab": {
          "base_uri": "https://localhost:8080/"
        },
        "outputId": "c8acfb45-956d-460b-cafe-38affd951fb1"
      },
      "outputs": [
        {
          "output_type": "stream",
          "name": "stdout",
          "text": [
            "  Preparing metadata (setup.py) ... \u001b[?25l\u001b[?25hdone\n",
            "  Building wheel for wikipedia (setup.py) ... \u001b[?25l\u001b[?25hdone\n"
          ]
        }
      ],
      "source": [
        "!pip install -qU wikipedia llama-index-readers-wikipedia"
      ]
    },
    {
      "cell_type": "markdown",
      "source": [
        "Our vector database today will be powered by [ChromaDB](https://github.com/chroma-core/chroma) and so we'll need that package as well!"
      ],
      "metadata": {
        "id": "Qq_rWHZEPrCO"
      }
    },
    {
      "cell_type": "code",
      "source": [
        "!pip install -qU chromadb llama-index-vector-stores-chroma"
      ],
      "metadata": {
        "id": "iMCA8HFGEPF_"
      },
      "execution_count": 5,
      "outputs": []
    },
    {
      "cell_type": "markdown",
      "source": [
        "Finally, we'll need to grab a few dependencies related to our quantitative data!"
      ],
      "metadata": {
        "id": "wNHDqna1P1NQ"
      }
    },
    {
      "cell_type": "code",
      "execution_count": 6,
      "metadata": {
        "id": "BrT8a3c0SV__",
        "colab": {
          "base_uri": "https://localhost:8080/"
        },
        "outputId": "6dfbf8af-9241-4358-db4c-9262c6c9e4dd"
      },
      "outputs": [
        {
          "output_type": "stream",
          "name": "stdout",
          "text": [
            "\u001b[2K     \u001b[90m━━━━━━━━━━━━━━━━━━━━━━━━━━━━━━━━━━━━━━━━\u001b[0m \u001b[32m13.0/13.0 MB\u001b[0m \u001b[31m43.5 MB/s\u001b[0m eta \u001b[36m0:00:00\u001b[0m\n",
            "\u001b[2K     \u001b[90m━━━━━━━━━━━━━━━━━━━━━━━━━━━━━━━━━━━━━━━━\u001b[0m \u001b[32m345.4/345.4 kB\u001b[0m \u001b[31m18.1 MB/s\u001b[0m eta \u001b[36m0:00:00\u001b[0m\n",
            "\u001b[?25h\u001b[31mERROR: pip's dependency resolver does not currently take into account all the packages that are installed. This behaviour is the source of the following dependency conflicts.\n",
            "bigframes 0.22.0 requires pandas<2.1.4,>=1.5.0, but you have pandas 2.2.1 which is incompatible.\n",
            "google-colab 1.0.0 requires pandas==1.5.3, but you have pandas 2.2.1 which is incompatible.\u001b[0m\u001b[31m\n",
            "\u001b[0m"
          ]
        }
      ],
      "source": [
        "!pip install -q -U sqlalchemy pandas"
      ]
    },
    {
      "cell_type": "markdown",
      "source": [
        "We'll grab some additional miscellaneous dependencies here."
      ],
      "metadata": {
        "id": "WuZM6UjePVBk"
      }
    },
    {
      "cell_type": "code",
      "execution_count": 7,
      "metadata": {
        "id": "vqPJv3jUSV_-",
        "colab": {
          "base_uri": "https://localhost:8080/"
        },
        "outputId": "3cf914e7-40bf-49e3-f66f-35a7043f0fbf"
      },
      "outputs": [
        {
          "output_type": "stream",
          "name": "stdout",
          "text": [
            "\u001b[?25l     \u001b[90m━━━━━━━━━━━━━━━━━━━━━━━━━━━━━━━━━━━━━━━━\u001b[0m \u001b[32m0.0/1.7 MB\u001b[0m \u001b[31m?\u001b[0m eta \u001b[36m-:--:--\u001b[0m\r\u001b[2K     \u001b[91m━\u001b[0m\u001b[90m╺\u001b[0m\u001b[90m━━━━━━━━━━━━━━━━━━━━━━━━━━━━━━━━━━━━━━\u001b[0m \u001b[32m0.1/1.7 MB\u001b[0m \u001b[31m1.6 MB/s\u001b[0m eta \u001b[36m0:00:02\u001b[0m\r\u001b[2K     \u001b[91m━━━━━━━━━━━━━━━━━━\u001b[0m\u001b[90m╺\u001b[0m\u001b[90m━━━━━━━━━━━━━━━━━━━━━\u001b[0m \u001b[32m0.8/1.7 MB\u001b[0m \u001b[31m11.1 MB/s\u001b[0m eta \u001b[36m0:00:01\u001b[0m\r\u001b[2K     \u001b[90m━━━━━━━━━━━━━━━━━━━━━━━━━━━━━━━━━━━━━━━━\u001b[0m \u001b[32m1.7/1.7 MB\u001b[0m \u001b[31m16.5 MB/s\u001b[0m eta \u001b[36m0:00:00\u001b[0m\n",
            "\u001b[?25h\u001b[?25l     \u001b[90m━━━━━━━━━━━━━━━━━━━━━━━━━━━━━━━━━━━━━━━━\u001b[0m \u001b[32m0.0/86.0 kB\u001b[0m \u001b[31m?\u001b[0m eta \u001b[36m-:--:--\u001b[0m\r\u001b[2K     \u001b[90m━━━━━━━━━━━━━━━━━━━━━━━━━━━━━━━━━━━━━━━━\u001b[0m \u001b[32m86.0/86.0 kB\u001b[0m \u001b[31m9.5 MB/s\u001b[0m eta \u001b[36m0:00:00\u001b[0m\n",
            "\u001b[?25h  Preparing metadata (setup.py) ... \u001b[?25l\u001b[?25hdone\n",
            "\u001b[2K     \u001b[90m━━━━━━━━━━━━━━━━━━━━━━━━━━━━━━━━━━━━━━━━\u001b[0m \u001b[32m3.1/3.1 MB\u001b[0m \u001b[31m28.2 MB/s\u001b[0m eta \u001b[36m0:00:00\u001b[0m\n",
            "\u001b[?25h  Building wheel for sentence-transformers (setup.py) ... \u001b[?25l\u001b[?25hdone\n"
          ]
        }
      ],
      "source": [
        "!pip install -U -q tiktoken==0.4.0 sentence-transformers==2.2.2 pydantic==1.10.11"
      ]
    },
    {
      "cell_type": "markdown",
      "source": [
        "## Task 2: Set Env Variables and Set Up WandB Callback\n",
        "\n",
        "Let's set our API keys for both OpenAI and WandB!"
      ],
      "metadata": {
        "id": "ibtguieHP6n1"
      }
    },
    {
      "cell_type": "code",
      "execution_count": 8,
      "metadata": {
        "id": "7IBgMTPTSV_9",
        "colab": {
          "base_uri": "https://localhost:8080/"
        },
        "outputId": "93172cd3-ed92-4948-9a15-56a80f2ea2eb"
      },
      "outputs": [
        {
          "name": "stdout",
          "output_type": "stream",
          "text": [
            "OpenAI API Key: ··········\n"
          ]
        }
      ],
      "source": [
        "import os\n",
        "import getpass\n",
        "\n",
        "os.environ[\"OPENAI_API_KEY\"] = getpass.getpass(\"OpenAI API Key: \")"
      ]
    },
    {
      "cell_type": "code",
      "execution_count": 9,
      "metadata": {
        "id": "4OHSwkDySV_-",
        "colab": {
          "base_uri": "https://localhost:8080/"
        },
        "outputId": "84050416-155a-4499-b976-b6701e63e5c5"
      },
      "outputs": [
        {
          "name": "stdout",
          "output_type": "stream",
          "text": [
            "WandB API Key: ··········\n"
          ]
        }
      ],
      "source": [
        "os.environ[\"WANDB_API_KEY\"] = getpass.getpass(\"WandB API Key: \")"
      ]
    },
    {
      "cell_type": "markdown",
      "source": [
        "We'll also need to set a callback handler for WandB to ensure smooth operation of our traces!"
      ],
      "metadata": {
        "id": "Ut8E447rQBjY"
      }
    },
    {
      "cell_type": "code",
      "execution_count": 10,
      "metadata": {
        "id": "MoV2JINuSV_-",
        "colab": {
          "base_uri": "https://localhost:8080/",
          "height": 69
        },
        "outputId": "cebe8e67-0b41-46a9-9a96-4a9dcac7f1f1"
      },
      "outputs": [
        {
          "output_type": "stream",
          "name": "stderr",
          "text": [
            "\u001b[34m\u001b[1mwandb\u001b[0m: Streaming LlamaIndex events to W&B at https://wandb.ai/telice/aie1-llama-index-demo/runs/2w04bnyy\n",
            "\u001b[34m\u001b[1mwandb\u001b[0m: `WandbCallbackHandler` is currently in beta.\n",
            "\u001b[34m\u001b[1mwandb\u001b[0m: Please report any issues to https://github.com/wandb/wandb/issues with the tag `llamaindex`.\n"
          ]
        }
      ],
      "source": [
        "import llama_index\n",
        "from llama_index.core import set_global_handler\n",
        "\n",
        "set_global_handler(\"wandb\", run_args={\"project\": \"aie1-llama-index-demo\"})\n",
        "wandb_callback = llama_index.core.global_handler"
      ]
    },
    {
      "cell_type": "markdown",
      "metadata": {
        "id": "UQwigweOSV_-"
      },
      "source": [
        "### Task 3: Settings\n",
        "\n",
        "LlamaIndex lets us set global settings which we can use to influence the default behaviour of our components.\n",
        "\n",
        "Let's set our LLM and our Embedding Model!"
      ]
    },
    {
      "cell_type": "code",
      "execution_count": 11,
      "metadata": {
        "id": "6KOy21KPSV_-"
      },
      "outputs": [],
      "source": [
        "from llama_index.llms.openai import OpenAI\n",
        "from llama_index.embeddings.openai import OpenAIEmbedding\n",
        "from llama_index.core import Settings\n",
        "\n",
        "Settings.llm = OpenAI(model=\"gpt-3.5-turbo\")\n",
        "Settings.embed_model = OpenAIEmbedding(model=\"text-embedding-3-small\")"
      ]
    },
    {
      "cell_type": "markdown",
      "metadata": {
        "id": "eiOdw7EQSV_-"
      },
      "source": [
        "## Task 4: Semantic RAG Pipeline with Metadata Filtering\n",
        "\n",
        "Now we can get to work creating our semantic `QueryEngine`!\n",
        "\n",
        "We'll start, as we normally do, by grabbing some data.\n",
        "\n",
        "> NOTE: Remember that a query engine is just a different word for a chain!"
      ]
    },
    {
      "cell_type": "markdown",
      "metadata": {
        "id": "iDEtQQWnSV_-"
      },
      "source": [
        "### Data Collection\n",
        "\n",
        "We're just going to be pulling information straight from Wikipedia using the built in `WikipediaReader`.\n",
        "\n",
        "> NOTE: Setting `auto_suggest=False` ensures we run into fewer auto-correct based errors."
      ]
    },
    {
      "cell_type": "code",
      "execution_count": 12,
      "metadata": {
        "id": "OrzzrnYMSV_-"
      },
      "outputs": [],
      "source": [
        "from llama_index.readers.wikipedia import WikipediaReader\n",
        "\n",
        "movie_list = [\"Dune (2021 film)\", \"Dune: Part Two\"]\n",
        "\n",
        "wiki_docs = WikipediaReader().load_data(pages=movie_list, auto_suggest=False)"
      ]
    },
    {
      "cell_type": "markdown",
      "metadata": {
        "id": "-6FRQ4hfSV_-"
      },
      "source": [
        "### Initializing our VectorStoreIndex with ChromaDB\n",
        "\n",
        "ChromaDB is a locally hostable and open-source vector database solution.\n",
        "\n",
        "It offers powerful features like metadata filtering out of the box, and will suit our needs well today!\n",
        "\n",
        "We'll start by creating our local `EphemeralClient()` (in-memory and not meant for production use-cases) and our collection.\n",
        "\n",
        "Then we'll create our `VectorStore` and `StorageContext` which will allow us to create an empty `VectorStoreIndex` which we will be able to add nodes to later!"
      ]
    },
    {
      "cell_type": "code",
      "source": [
        "from llama_index.vector_stores.chroma import ChromaVectorStore\n",
        "import chromadb\n",
        "\n",
        "chroma_client = chromadb.EphemeralClient()\n",
        "chroma_collection = chroma_client.create_collection(\"dune-v0\")"
      ],
      "metadata": {
        "id": "b1ut96aSEVwY"
      },
      "execution_count": 13,
      "outputs": []
    },
    {
      "cell_type": "code",
      "execution_count": 14,
      "metadata": {
        "id": "lZ5xilm1SV_-",
        "outputId": "9c775f36-4e74-4543-8d6a-6e24f1341f44",
        "colab": {
          "base_uri": "https://localhost:8080/"
        }
      },
      "outputs": [
        {
          "output_type": "stream",
          "name": "stderr",
          "text": [
            "\u001b[34m\u001b[1mwandb\u001b[0m: Logged trace tree to W&B.\n"
          ]
        }
      ],
      "source": [
        "from llama_index.core import VectorStoreIndex\n",
        "from llama_index.core import StorageContext\n",
        "\n",
        "vector_store = ChromaVectorStore(chroma_collection=chroma_collection)\n",
        "storage_context = StorageContext.from_defaults(vector_store=vector_store)\n",
        "index = VectorStoreIndex.from_documents([], storage_context=storage_context)"
      ]
    },
    {
      "cell_type": "markdown",
      "metadata": {
        "id": "6qtzVDelSV_-"
      },
      "source": [
        "### Node Construction\n",
        "\n",
        "Now we will loop through our documents and metadata and construct nodes.\n",
        "\n",
        "We'll make sure to explicitly associate our nodes with their respective movie so we can filter by the movie title in the upcoming cells.\n",
        "\n",
        "> NOTE: You can safely ignore any WARNINGs in the following cell."
      ]
    },
    {
      "cell_type": "code",
      "execution_count": 15,
      "metadata": {
        "id": "LP4INgSGSV_-",
        "colab": {
          "base_uri": "https://localhost:8080/"
        },
        "outputId": "18b337b4-38f4-4348-a6f9-2cbec0f3a947"
      },
      "outputs": [
        {
          "output_type": "stream",
          "name": "stderr",
          "text": [
            "WARNING:chromadb.segment.impl.vector.local_hnsw:Add of existing embedding ID: c1c6138d-2ba6-452d-bcc9-e7117b36db60\n"
          ]
        },
        {
          "output_type": "stream",
          "name": "stdout",
          "text": [
            "Add of existing embedding ID: c1c6138d-2ba6-452d-bcc9-e7117b36db60\n"
          ]
        },
        {
          "output_type": "stream",
          "name": "stderr",
          "text": [
            "WARNING:chromadb.segment.impl.vector.local_hnsw:Add of existing embedding ID: 226cd5fc-b6e4-4cc0-a1c0-f5dbe49657b8\n"
          ]
        },
        {
          "output_type": "stream",
          "name": "stdout",
          "text": [
            "Add of existing embedding ID: 226cd5fc-b6e4-4cc0-a1c0-f5dbe49657b8\n"
          ]
        },
        {
          "output_type": "stream",
          "name": "stderr",
          "text": [
            "WARNING:chromadb.segment.impl.vector.local_hnsw:Add of existing embedding ID: 1d64027a-02ad-4aa0-9155-c93f4c2fa41e\n"
          ]
        },
        {
          "output_type": "stream",
          "name": "stdout",
          "text": [
            "Add of existing embedding ID: 1d64027a-02ad-4aa0-9155-c93f4c2fa41e\n"
          ]
        },
        {
          "output_type": "stream",
          "name": "stderr",
          "text": [
            "WARNING:chromadb.segment.impl.vector.local_hnsw:Add of existing embedding ID: dd8de228-7b12-41c6-856a-a77542765251\n"
          ]
        },
        {
          "output_type": "stream",
          "name": "stdout",
          "text": [
            "Add of existing embedding ID: dd8de228-7b12-41c6-856a-a77542765251\n"
          ]
        },
        {
          "output_type": "stream",
          "name": "stderr",
          "text": [
            "WARNING:chromadb.segment.impl.vector.local_hnsw:Add of existing embedding ID: 0182ce11-d84d-4ef5-980b-71db892f6903\n"
          ]
        },
        {
          "output_type": "stream",
          "name": "stdout",
          "text": [
            "Add of existing embedding ID: 0182ce11-d84d-4ef5-980b-71db892f6903\n"
          ]
        },
        {
          "output_type": "stream",
          "name": "stderr",
          "text": [
            "WARNING:chromadb.segment.impl.vector.local_hnsw:Add of existing embedding ID: 7725e8a8-cc4c-4e54-a844-3738fe40d20b\n"
          ]
        },
        {
          "output_type": "stream",
          "name": "stdout",
          "text": [
            "Add of existing embedding ID: 7725e8a8-cc4c-4e54-a844-3738fe40d20b\n"
          ]
        },
        {
          "output_type": "stream",
          "name": "stderr",
          "text": [
            "WARNING:chromadb.segment.impl.vector.local_hnsw:Add of existing embedding ID: e1275e06-db25-466f-8988-c0d3bbac447f\n"
          ]
        },
        {
          "output_type": "stream",
          "name": "stdout",
          "text": [
            "Add of existing embedding ID: e1275e06-db25-466f-8988-c0d3bbac447f\n"
          ]
        },
        {
          "output_type": "stream",
          "name": "stderr",
          "text": [
            "WARNING:chromadb.segment.impl.vector.local_hnsw:Add of existing embedding ID: c4c1157c-f6ad-4e2e-a9d2-f78d744b1026\n"
          ]
        },
        {
          "output_type": "stream",
          "name": "stdout",
          "text": [
            "Add of existing embedding ID: c4c1157c-f6ad-4e2e-a9d2-f78d744b1026\n"
          ]
        },
        {
          "output_type": "stream",
          "name": "stderr",
          "text": [
            "WARNING:chromadb.segment.impl.vector.local_hnsw:Add of existing embedding ID: 6ab7b930-6f42-4580-9c3b-702c32f759fe\n"
          ]
        },
        {
          "output_type": "stream",
          "name": "stdout",
          "text": [
            "Add of existing embedding ID: 6ab7b930-6f42-4580-9c3b-702c32f759fe\n"
          ]
        },
        {
          "output_type": "stream",
          "name": "stderr",
          "text": [
            "WARNING:chromadb.segment.impl.vector.local_hnsw:Add of existing embedding ID: 86f64740-249d-442d-a473-b95ccf216426\n"
          ]
        },
        {
          "output_type": "stream",
          "name": "stdout",
          "text": [
            "Add of existing embedding ID: 86f64740-249d-442d-a473-b95ccf216426\n"
          ]
        },
        {
          "output_type": "stream",
          "name": "stderr",
          "text": [
            "WARNING:chromadb.segment.impl.vector.local_hnsw:Add of existing embedding ID: bb435b53-f55c-4ee5-aead-09660f0f92af\n"
          ]
        },
        {
          "output_type": "stream",
          "name": "stdout",
          "text": [
            "Add of existing embedding ID: bb435b53-f55c-4ee5-aead-09660f0f92af\n"
          ]
        },
        {
          "output_type": "stream",
          "name": "stderr",
          "text": [
            "WARNING:chromadb.segment.impl.vector.local_hnsw:Add of existing embedding ID: 722449fa-36cc-43d0-a35d-507db402a63f\n"
          ]
        },
        {
          "output_type": "stream",
          "name": "stdout",
          "text": [
            "Add of existing embedding ID: 722449fa-36cc-43d0-a35d-507db402a63f\n"
          ]
        },
        {
          "output_type": "stream",
          "name": "stderr",
          "text": [
            "WARNING:chromadb.segment.impl.vector.local_hnsw:Add of existing embedding ID: 2601bcd3-4027-45a5-bb2a-5fd72c6f69ce\n"
          ]
        },
        {
          "output_type": "stream",
          "name": "stdout",
          "text": [
            "Add of existing embedding ID: 2601bcd3-4027-45a5-bb2a-5fd72c6f69ce\n"
          ]
        },
        {
          "output_type": "stream",
          "name": "stderr",
          "text": [
            "WARNING:chromadb.segment.impl.vector.local_hnsw:Add of existing embedding ID: 22769d85-8544-4a54-b1dd-eb433b8e1038\n"
          ]
        },
        {
          "output_type": "stream",
          "name": "stdout",
          "text": [
            "Add of existing embedding ID: 22769d85-8544-4a54-b1dd-eb433b8e1038\n"
          ]
        },
        {
          "output_type": "stream",
          "name": "stderr",
          "text": [
            "WARNING:chromadb.segment.impl.vector.local_hnsw:Add of existing embedding ID: 99560207-61a1-4ca7-93a1-5147ac5eba1e\n"
          ]
        },
        {
          "output_type": "stream",
          "name": "stdout",
          "text": [
            "Add of existing embedding ID: 99560207-61a1-4ca7-93a1-5147ac5eba1e\n"
          ]
        },
        {
          "output_type": "stream",
          "name": "stderr",
          "text": [
            "WARNING:chromadb.segment.impl.vector.local_hnsw:Add of existing embedding ID: c1c2b7b3-c43a-4a74-915c-1347747b1823\n"
          ]
        },
        {
          "output_type": "stream",
          "name": "stdout",
          "text": [
            "Add of existing embedding ID: c1c2b7b3-c43a-4a74-915c-1347747b1823\n"
          ]
        },
        {
          "output_type": "stream",
          "name": "stderr",
          "text": [
            "WARNING:chromadb.segment.impl.vector.local_hnsw:Add of existing embedding ID: 35191554-fd32-4aff-8bc6-53aee72842c9\n"
          ]
        },
        {
          "output_type": "stream",
          "name": "stdout",
          "text": [
            "Add of existing embedding ID: 35191554-fd32-4aff-8bc6-53aee72842c9\n"
          ]
        },
        {
          "output_type": "stream",
          "name": "stderr",
          "text": [
            "WARNING:chromadb.segment.impl.vector.local_hnsw:Add of existing embedding ID: 3301098f-a688-42fd-adc4-5539a147037b\n"
          ]
        },
        {
          "output_type": "stream",
          "name": "stdout",
          "text": [
            "Add of existing embedding ID: 3301098f-a688-42fd-adc4-5539a147037b\n"
          ]
        },
        {
          "output_type": "stream",
          "name": "stderr",
          "text": [
            "WARNING:chromadb.segment.impl.vector.local_hnsw:Add of existing embedding ID: 63cdc438-0356-4c8d-8bcc-5b440fc1e843\n"
          ]
        },
        {
          "output_type": "stream",
          "name": "stdout",
          "text": [
            "Add of existing embedding ID: 63cdc438-0356-4c8d-8bcc-5b440fc1e843\n"
          ]
        },
        {
          "output_type": "stream",
          "name": "stderr",
          "text": [
            "WARNING:chromadb.segment.impl.vector.local_hnsw:Add of existing embedding ID: 48104be0-54e3-4629-a679-7a12c84374a7\n"
          ]
        },
        {
          "output_type": "stream",
          "name": "stdout",
          "text": [
            "Add of existing embedding ID: 48104be0-54e3-4629-a679-7a12c84374a7\n"
          ]
        },
        {
          "output_type": "stream",
          "name": "stderr",
          "text": [
            "WARNING:chromadb.segment.impl.vector.local_hnsw:Add of existing embedding ID: 41b5219f-e78b-4797-a41d-0a843b370e37\n"
          ]
        },
        {
          "output_type": "stream",
          "name": "stdout",
          "text": [
            "Add of existing embedding ID: 41b5219f-e78b-4797-a41d-0a843b370e37\n"
          ]
        },
        {
          "output_type": "stream",
          "name": "stderr",
          "text": [
            "WARNING:chromadb.segment.impl.vector.local_hnsw:Add of existing embedding ID: e4676488-5bab-4da6-a7e0-4d3eea431f92\n"
          ]
        },
        {
          "output_type": "stream",
          "name": "stdout",
          "text": [
            "Add of existing embedding ID: e4676488-5bab-4da6-a7e0-4d3eea431f92\n"
          ]
        },
        {
          "output_type": "stream",
          "name": "stderr",
          "text": [
            "WARNING:chromadb.segment.impl.metadata.sqlite:Insert of existing embedding ID: c1c6138d-2ba6-452d-bcc9-e7117b36db60\n"
          ]
        },
        {
          "output_type": "stream",
          "name": "stdout",
          "text": [
            "Insert of existing embedding ID: c1c6138d-2ba6-452d-bcc9-e7117b36db60\n"
          ]
        },
        {
          "output_type": "stream",
          "name": "stderr",
          "text": [
            "WARNING:chromadb.segment.impl.metadata.sqlite:Insert of existing embedding ID: 226cd5fc-b6e4-4cc0-a1c0-f5dbe49657b8\n"
          ]
        },
        {
          "output_type": "stream",
          "name": "stdout",
          "text": [
            "Insert of existing embedding ID: 226cd5fc-b6e4-4cc0-a1c0-f5dbe49657b8\n"
          ]
        },
        {
          "output_type": "stream",
          "name": "stderr",
          "text": [
            "WARNING:chromadb.segment.impl.metadata.sqlite:Insert of existing embedding ID: 1d64027a-02ad-4aa0-9155-c93f4c2fa41e\n"
          ]
        },
        {
          "output_type": "stream",
          "name": "stdout",
          "text": [
            "Insert of existing embedding ID: 1d64027a-02ad-4aa0-9155-c93f4c2fa41e\n"
          ]
        },
        {
          "output_type": "stream",
          "name": "stderr",
          "text": [
            "WARNING:chromadb.segment.impl.metadata.sqlite:Insert of existing embedding ID: dd8de228-7b12-41c6-856a-a77542765251\n"
          ]
        },
        {
          "output_type": "stream",
          "name": "stdout",
          "text": [
            "Insert of existing embedding ID: dd8de228-7b12-41c6-856a-a77542765251\n"
          ]
        },
        {
          "output_type": "stream",
          "name": "stderr",
          "text": [
            "WARNING:chromadb.segment.impl.metadata.sqlite:Insert of existing embedding ID: 0182ce11-d84d-4ef5-980b-71db892f6903\n"
          ]
        },
        {
          "output_type": "stream",
          "name": "stdout",
          "text": [
            "Insert of existing embedding ID: 0182ce11-d84d-4ef5-980b-71db892f6903\n"
          ]
        },
        {
          "output_type": "stream",
          "name": "stderr",
          "text": [
            "WARNING:chromadb.segment.impl.metadata.sqlite:Insert of existing embedding ID: 7725e8a8-cc4c-4e54-a844-3738fe40d20b\n"
          ]
        },
        {
          "output_type": "stream",
          "name": "stdout",
          "text": [
            "Insert of existing embedding ID: 7725e8a8-cc4c-4e54-a844-3738fe40d20b\n"
          ]
        },
        {
          "output_type": "stream",
          "name": "stderr",
          "text": [
            "WARNING:chromadb.segment.impl.metadata.sqlite:Insert of existing embedding ID: e1275e06-db25-466f-8988-c0d3bbac447f\n"
          ]
        },
        {
          "output_type": "stream",
          "name": "stdout",
          "text": [
            "Insert of existing embedding ID: e1275e06-db25-466f-8988-c0d3bbac447f\n"
          ]
        },
        {
          "output_type": "stream",
          "name": "stderr",
          "text": [
            "WARNING:chromadb.segment.impl.metadata.sqlite:Insert of existing embedding ID: c4c1157c-f6ad-4e2e-a9d2-f78d744b1026\n"
          ]
        },
        {
          "output_type": "stream",
          "name": "stdout",
          "text": [
            "Insert of existing embedding ID: c4c1157c-f6ad-4e2e-a9d2-f78d744b1026\n"
          ]
        },
        {
          "output_type": "stream",
          "name": "stderr",
          "text": [
            "WARNING:chromadb.segment.impl.metadata.sqlite:Insert of existing embedding ID: 6ab7b930-6f42-4580-9c3b-702c32f759fe\n"
          ]
        },
        {
          "output_type": "stream",
          "name": "stdout",
          "text": [
            "Insert of existing embedding ID: 6ab7b930-6f42-4580-9c3b-702c32f759fe\n"
          ]
        },
        {
          "output_type": "stream",
          "name": "stderr",
          "text": [
            "WARNING:chromadb.segment.impl.metadata.sqlite:Insert of existing embedding ID: 86f64740-249d-442d-a473-b95ccf216426\n"
          ]
        },
        {
          "output_type": "stream",
          "name": "stdout",
          "text": [
            "Insert of existing embedding ID: 86f64740-249d-442d-a473-b95ccf216426\n"
          ]
        },
        {
          "output_type": "stream",
          "name": "stderr",
          "text": [
            "WARNING:chromadb.segment.impl.metadata.sqlite:Insert of existing embedding ID: bb435b53-f55c-4ee5-aead-09660f0f92af\n"
          ]
        },
        {
          "output_type": "stream",
          "name": "stdout",
          "text": [
            "Insert of existing embedding ID: bb435b53-f55c-4ee5-aead-09660f0f92af\n"
          ]
        },
        {
          "output_type": "stream",
          "name": "stderr",
          "text": [
            "WARNING:chromadb.segment.impl.metadata.sqlite:Insert of existing embedding ID: 722449fa-36cc-43d0-a35d-507db402a63f\n"
          ]
        },
        {
          "output_type": "stream",
          "name": "stdout",
          "text": [
            "Insert of existing embedding ID: 722449fa-36cc-43d0-a35d-507db402a63f\n"
          ]
        },
        {
          "output_type": "stream",
          "name": "stderr",
          "text": [
            "WARNING:chromadb.segment.impl.metadata.sqlite:Insert of existing embedding ID: 2601bcd3-4027-45a5-bb2a-5fd72c6f69ce\n"
          ]
        },
        {
          "output_type": "stream",
          "name": "stdout",
          "text": [
            "Insert of existing embedding ID: 2601bcd3-4027-45a5-bb2a-5fd72c6f69ce\n"
          ]
        },
        {
          "output_type": "stream",
          "name": "stderr",
          "text": [
            "WARNING:chromadb.segment.impl.metadata.sqlite:Insert of existing embedding ID: 22769d85-8544-4a54-b1dd-eb433b8e1038\n"
          ]
        },
        {
          "output_type": "stream",
          "name": "stdout",
          "text": [
            "Insert of existing embedding ID: 22769d85-8544-4a54-b1dd-eb433b8e1038\n"
          ]
        },
        {
          "output_type": "stream",
          "name": "stderr",
          "text": [
            "WARNING:chromadb.segment.impl.metadata.sqlite:Insert of existing embedding ID: 99560207-61a1-4ca7-93a1-5147ac5eba1e\n"
          ]
        },
        {
          "output_type": "stream",
          "name": "stdout",
          "text": [
            "Insert of existing embedding ID: 99560207-61a1-4ca7-93a1-5147ac5eba1e\n"
          ]
        },
        {
          "output_type": "stream",
          "name": "stderr",
          "text": [
            "WARNING:chromadb.segment.impl.metadata.sqlite:Insert of existing embedding ID: c1c2b7b3-c43a-4a74-915c-1347747b1823\n"
          ]
        },
        {
          "output_type": "stream",
          "name": "stdout",
          "text": [
            "Insert of existing embedding ID: c1c2b7b3-c43a-4a74-915c-1347747b1823\n"
          ]
        },
        {
          "output_type": "stream",
          "name": "stderr",
          "text": [
            "WARNING:chromadb.segment.impl.metadata.sqlite:Insert of existing embedding ID: 35191554-fd32-4aff-8bc6-53aee72842c9\n"
          ]
        },
        {
          "output_type": "stream",
          "name": "stdout",
          "text": [
            "Insert of existing embedding ID: 35191554-fd32-4aff-8bc6-53aee72842c9\n"
          ]
        },
        {
          "output_type": "stream",
          "name": "stderr",
          "text": [
            "WARNING:chromadb.segment.impl.metadata.sqlite:Insert of existing embedding ID: 3301098f-a688-42fd-adc4-5539a147037b\n"
          ]
        },
        {
          "output_type": "stream",
          "name": "stdout",
          "text": [
            "Insert of existing embedding ID: 3301098f-a688-42fd-adc4-5539a147037b\n"
          ]
        },
        {
          "output_type": "stream",
          "name": "stderr",
          "text": [
            "WARNING:chromadb.segment.impl.metadata.sqlite:Insert of existing embedding ID: 63cdc438-0356-4c8d-8bcc-5b440fc1e843\n"
          ]
        },
        {
          "output_type": "stream",
          "name": "stdout",
          "text": [
            "Insert of existing embedding ID: 63cdc438-0356-4c8d-8bcc-5b440fc1e843\n"
          ]
        },
        {
          "output_type": "stream",
          "name": "stderr",
          "text": [
            "WARNING:chromadb.segment.impl.metadata.sqlite:Insert of existing embedding ID: 48104be0-54e3-4629-a679-7a12c84374a7\n"
          ]
        },
        {
          "output_type": "stream",
          "name": "stdout",
          "text": [
            "Insert of existing embedding ID: 48104be0-54e3-4629-a679-7a12c84374a7\n"
          ]
        },
        {
          "output_type": "stream",
          "name": "stderr",
          "text": [
            "WARNING:chromadb.segment.impl.metadata.sqlite:Insert of existing embedding ID: 41b5219f-e78b-4797-a41d-0a843b370e37\n"
          ]
        },
        {
          "output_type": "stream",
          "name": "stdout",
          "text": [
            "Insert of existing embedding ID: 41b5219f-e78b-4797-a41d-0a843b370e37\n"
          ]
        },
        {
          "output_type": "stream",
          "name": "stderr",
          "text": [
            "WARNING:chromadb.segment.impl.metadata.sqlite:Insert of existing embedding ID: e4676488-5bab-4da6-a7e0-4d3eea431f92\n"
          ]
        },
        {
          "output_type": "stream",
          "name": "stdout",
          "text": [
            "Insert of existing embedding ID: e4676488-5bab-4da6-a7e0-4d3eea431f92\n"
          ]
        }
      ],
      "source": [
        "from llama_index.core import SimpleDirectoryReader\n",
        "from llama_index.core.ingestion import IngestionPipeline\n",
        "from llama_index.core.node_parser import TokenTextSplitter\n",
        "from llama_index.core.extractors import TitleExtractor\n",
        "\n",
        "pipeline = IngestionPipeline(transformations=[TokenTextSplitter()])\n",
        "\n",
        "for movie, wiki_doc in zip(movie_list, wiki_docs):\n",
        "    nodes = pipeline.run(documents=wiki_docs)\n",
        "    for node in nodes:\n",
        "        node.metadata = {\"title\" : movie}\n",
        "    index.insert_nodes(nodes)"
      ]
    },
    {
      "cell_type": "markdown",
      "source": [
        "####❓ Question #1:\n",
        "\n",
        "What `metadata` fields will the nodes in our index have?\n",
        "\n",
        "Please write the code to find this information."
      ],
      "metadata": {
        "id": "biVzC-I4UAmB"
      }
    },
    {
      "cell_type": "code",
      "source": [
        "### YOUR CODE HERE\n",
        "nodes[0]"
      ],
      "metadata": {
        "id": "mt1lhxEnUKxO",
        "colab": {
          "base_uri": "https://localhost:8080/"
        },
        "outputId": "fa5565e5-088b-4e0b-b399-357df8a8ff56"
      },
      "execution_count": 16,
      "outputs": [
        {
          "output_type": "execute_result",
          "data": {
            "text/plain": [
              "TextNode(id_='c1c6138d-2ba6-452d-bcc9-e7117b36db60', embedding=None, metadata={'title': 'Dune: Part Two'}, excluded_embed_metadata_keys=[], excluded_llm_metadata_keys=[], relationships={<NodeRelationship.SOURCE: '1'>: RelatedNodeInfo(node_id='52659577', node_type=<ObjectType.DOCUMENT: '4'>, metadata={}, hash='1beb3455b1aabd738daef8a7aa1839b69b5998061b1279e6653d377e8e127a02'), <NodeRelationship.NEXT: '3'>: RelatedNodeInfo(node_id='226cd5fc-b6e4-4cc0-a1c0-f5dbe49657b8', node_type=<ObjectType.TEXT: '1'>, metadata={}, hash='c81ebdfff07a9f7782c5fb01ada609c11b725c5e27d600c25734f79d4b99ad35')}, text='Dune (titled onscreen as Dune: Part One) is a 2021 American epic science fiction film directed and co-produced by Denis Villeneuve, who co-wrote the screenplay with Jon Spaihts and Eric Roth. It is the first of a two-part adaptation of the 1965 novel of the same name by Frank Herbert. Set in the distant future, the film follows Paul Atreides as his family, the noble House Atreides, is thrust into a war for the deadly and inhospitable desert planet Arrakis. The ensemble cast includes Timothée Chalamet, Rebecca Ferguson, Oscar Isaac, Josh Brolin, Stellan Skarsgård, Dave Bautista, Stephen McKinley Henderson, Zendaya, Chang Chen, Sharon Duncan-Brewster, Charlotte Rampling, Jason Momoa, and Javier Bardem.\\nThe film is the third adaptation of Dune, following David Lynch\\'s 1984 film and John Harrison\\'s 2000 television miniseries. After an unsuccessful attempt by Paramount Pictures to produce a new adaptation, Legendary Pictures acquired the Dune film and television rights in 2016, with Villeneuve signing on as director in February 2017. Production contracts were secured only for the first film, relying on its success before a sequel would be produced. Principal photography took place from March to July 2019 at locations including Budapest, Jordan, Norway, and Abu Dhabi.\\nDune was scheduled for a late 2020 release but was delayed due to the COVID-19 pandemic. The film premiered at the 78th Venice International Film Festival on September 3, 2021, before its international release on September 15; it was then released in United States theaters and streaming on HBO Max on October 22. Dune was a box office success, grossing $435 million on a $165 million budget, making it the ninth-highest-grossing film of 2021. It was well received by critics and audiences with praise for Villeneuve\\'s direction, screenplay, the visual effects, ambition, costume design, Hans Zimmer\\'s musical score, cinematography, and faithfulness to the source material. The film won six awards at the 94th Academy Awards and was nominated in four other categories, including Best Picture, in addition to receiving numerous other accolades. The continuation, Dune: Part Two, was released in March 2024.\\n\\n\\n== Plot ==\\nIn the distant future, Duke Leto Atreides, ruler of the planet Caladan, is assigned by the Padishah Emperor Shaddam IV to replace Baron Vladimir Harkonnen as the fiefholder of Arrakis, a harsh desert planet and sole source of \"spice\", a valuable psychotropic substance that imparts heightened vitality and awareness. Spice is key to interstellar travel, giving Spacing Guild Navigators the ability to guide starships to traverse space instantaneously and safely. Shaddam plots for House Harkonnen to retake Arrakis, secretly aided by his Sardaukar troops, and destroy House Atreides. Leto is suspicious of the Emperor but weighs the risks against the power of controlling Arrakis and making an alliance with its mysterious natives, the Fremen.\\nLeto\\'s concubine, Lady Jessica, is an acolyte of the Bene Gesserit, an exclusive sisterhood whose members possess advanced physical and mental abilities. As part of their centuries-long breeding program, they instructed her to bear a daughter whose son would become the Kwisatz Haderach, a Bene Gesserit and messianic superbeing with the clairvoyance necessary to guide humanity to a better future. She disobeyed and bore a son, Paul, who is trained by Leto\\'s aides, Duncan Idaho, Gurney Halleck, the Suk doctor Wellington Yueh, and the Mentat Thufir Hawat; Jessica teaches him Bene Gesserit disciplines. Paul confides in Jessica and Duncan of his troubling visions of the future. The Reverend Mother and Imperial Truthsayer Gaius Helen Mohiam visits Caladan and subjects him to a potentially deadly gom jabbar test to assess his humanity and impulse control, which he passes. At a secret meeting on Giedi Prime, Mohiam insists Baron Harkonnen spare Paul and Jessica in his coup, to which he duplicitously agrees.\\nHouse Atreides arrives at Arrakeen, the fortress stronghold on Arrakis. Duncan\\'s advance party has made contact with the Fremen. The natives revere Paul and Jessica, which Jessica explains is due to the Bene Gesserit sowing beliefs on Arrakis centuries earlier. Leto negotiates with Fremen chieftain Stilgar and meets the Imperial Judge of the Change, Dr. Kynes, a planetologist who lives among the Fremen. Kynes briefs them on the dangers of spice harvesting, and the giant sandworms which travel under the desert and make the use of protective', start_char_idx=0, end_char_idx=4505, text_template='{metadata_str}\\n\\n{content}', metadata_template='{key}: {value}', metadata_seperator='\\n')"
            ]
          },
          "metadata": {},
          "execution_count": 16
        }
      ]
    },
    {
      "cell_type": "markdown",
      "source": [
        "### Persisting and Loading Stored Index with Weights and Biases\n",
        "\n",
        "Now we can utilize a powerful feature of Weights and Biases - index and artifact versioning!\n",
        "\n",
        "We can persist our index to WandB to be used and loaded later!"
      ],
      "metadata": {
        "id": "Sfbon1BwSLFS"
      }
    },
    {
      "cell_type": "code",
      "source": [
        "wandb_callback.persist_index(index, index_name=\"dune-index-chromadb\")"
      ],
      "metadata": {
        "colab": {
          "base_uri": "https://localhost:8080/"
        },
        "id": "PHJd00J3G48_",
        "outputId": "9d1e15c0-5ab9-4ba2-da25-94342a505ea8"
      },
      "execution_count": 17,
      "outputs": [
        {
          "output_type": "stream",
          "name": "stderr",
          "text": [
            "\u001b[34m\u001b[1mwandb\u001b[0m: Adding directory to artifact (/content/wandb/run-20240311_135504-2w04bnyy/files/storage)... Done. 0.0s\n"
          ]
        }
      ]
    },
    {
      "cell_type": "markdown",
      "source": [
        "Now we can load our index from WandB, which is a truly powerful tool!"
      ],
      "metadata": {
        "id": "jvpHLt8UShKa"
      }
    },
    {
      "cell_type": "code",
      "source": [
        "from llama_index.core import load_index_from_storage\n",
        "\n",
        "storage_context = wandb_callback.load_storage_context(\n",
        "    artifact_url=\"telice/aie1-llama-index-demo/dune-index-chromadb:v1\"\n",
        ")"
      ],
      "metadata": {
        "colab": {
          "base_uri": "https://localhost:8080/"
        },
        "id": "FDZLmqTDHDrZ",
        "outputId": "f3716565-396d-409d-8945-ffaa5cea95b8"
      },
      "execution_count": 18,
      "outputs": [
        {
          "output_type": "stream",
          "name": "stderr",
          "text": [
            "\u001b[34m\u001b[1mwandb\u001b[0m: \\ 1 of 4 files downloaded...\r\u001b[34m\u001b[1mwandb\u001b[0m:   4 of 4 files downloaded.  \n"
          ]
        }
      ]
    },
    {
      "cell_type": "markdown",
      "source": [
        "####❓ Question #2:\n",
        "\n",
        "Provide a screenshot of your index version history as shown in WandB.\n",
        "\n",
        "![WandB_screenshot.png](data:image/png;base64,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)![image.png]()"
      ],
      "metadata": {
        "id": "G0pwSiOxUYCE"
      }
    },
    {
      "cell_type": "markdown",
      "metadata": {
        "id": "YUa5sHMsSV__"
      },
      "source": [
        "### Auto Retriever Functional Tool\n",
        "\n",
        "This tool will leverage OpenAI's functional endpoint to select the correct metadata filter and query the filtered index - only looking at nodes with the desired metadata.\n",
        "\n",
        "A simplified diagram: ![image](https://i.imgur.com/AICDPav.png)"
      ]
    },
    {
      "cell_type": "markdown",
      "metadata": {
        "id": "Z2HQHY3pSV__"
      },
      "source": [
        "First, we need to create our `VectoreStoreInfo` object which will hold all the relevant metadata we need for each component (in this case title metadata).\n",
        "\n",
        "Notice that you need to include it in a text list."
      ]
    },
    {
      "cell_type": "code",
      "execution_count": 19,
      "metadata": {
        "id": "KoAYxbdsSV__"
      },
      "outputs": [],
      "source": [
        "from llama_index.core.tools import FunctionTool\n",
        "from llama_index.core.vector_stores.types import (\n",
        "    VectorStoreInfo,\n",
        "    MetadataInfo,\n",
        "    ExactMatchFilter,\n",
        "    MetadataFilters,\n",
        ")\n",
        "from llama_index.core.retrievers import VectorIndexRetriever\n",
        "from llama_index.core.query_engine import RetrieverQueryEngine\n",
        "\n",
        "from typing import List, Tuple, Any\n",
        "from pydantic import BaseModel, Field\n",
        "\n",
        "top_k = 3\n",
        "\n",
        "vector_store_info = VectorStoreInfo(\n",
        "    content_info=\"semantic information about movies\",\n",
        "    metadata_info=[MetadataInfo(\n",
        "        name=\"title\",\n",
        "        type=\"str\",\n",
        "        description=\"title of the movie, one of ['Dune (2021 film)', 'Dune: Part 2']\",\n",
        "    )]\n",
        ")"
      ]
    },
    {
      "cell_type": "markdown",
      "metadata": {
        "id": "NEjK7jcsSV__"
      },
      "source": [
        "Now we'll create our base PyDantic object that we can use to ensure compatability with our application layer. This verifies that the response from the OpenAI endpoint conforms to this schema."
      ]
    },
    {
      "cell_type": "code",
      "execution_count": 20,
      "metadata": {
        "id": "yixkwF8zSV__"
      },
      "outputs": [],
      "source": [
        "class AutoRetrieveModel(BaseModel):\n",
        "    query: str = Field(..., description=\"natural language query string\")\n",
        "    filter_key_list: List[str] = Field(\n",
        "        ..., description=\"List of metadata filter field names\"\n",
        "    )\n",
        "    filter_value_list: List[str] = Field(\n",
        "        ...,\n",
        "        description=(\n",
        "            \"List of metadata filter field values (corresponding to names specified in filter_key_list)\"\n",
        "        )\n",
        "    )"
      ]
    },
    {
      "cell_type": "markdown",
      "metadata": {
        "id": "Ep6ORS3FSV__"
      },
      "source": [
        "Now we can build our function that we will use to query the functional endpoint."
      ]
    },
    {
      "cell_type": "code",
      "execution_count": 21,
      "metadata": {
        "id": "y8sPThxlSV__"
      },
      "outputs": [],
      "source": [
        "def auto_retrieve_fn(\n",
        "    query: str, filter_key_list: List[str], filter_value_list: List[str]\n",
        "):\n",
        "    \"\"\"Auto retrieval function.\n",
        "\n",
        "    Performs auto-retrieval from a vector database, and then applies a set of filters.\n",
        "\n",
        "    \"\"\"\n",
        "    query = query or \"Query\"\n",
        "\n",
        "    exact_match_filters = [\n",
        "        ExactMatchFilter(key=k, value=v)\n",
        "        for k, v in zip(filter_key_list, filter_value_list)\n",
        "    ]\n",
        "    retriever = VectorIndexRetriever(\n",
        "        index, filters=MetadataFilters(filters=exact_match_filters), top_k=top_k\n",
        "    )\n",
        "    query_engine = RetrieverQueryEngine.from_args(retriever)\n",
        "\n",
        "    response = query_engine.query(query)\n",
        "    return str(response)"
      ]
    },
    {
      "cell_type": "markdown",
      "metadata": {
        "id": "Yt4BV6oISV__"
      },
      "source": [
        "Now we need to wrap our system in a tool in order to integrate it into the larger application.\n",
        "\n",
        "Source Code Here:\n",
        "- [`FunctionTool`](https://github.com/jerryjliu/llama_index/blob/d24767b0812ac56104497d8f59095eccbe9f2b08/llama_index/tools/function_tool.py#L21)"
      ]
    },
    {
      "cell_type": "code",
      "execution_count": 22,
      "metadata": {
        "id": "U4lS1NqeSV__"
      },
      "outputs": [],
      "source": [
        "description = f\"\"\"\\\n",
        "Use this tool to look up semantic information about films.\n",
        "The vector database schema is given below:\n",
        "{vector_store_info.json()}\n",
        "\"\"\"\n",
        "\n",
        "auto_retrieve_tool = FunctionTool.from_defaults(\n",
        "    fn=auto_retrieve_fn,\n",
        "    name=\"semantic-film-info\",\n",
        "    description=description,\n",
        "    fn_schema=AutoRetrieveModel\n",
        ")"
      ]
    },
    {
      "cell_type": "markdown",
      "source": [
        "####❓ Question #3:\n",
        "\n",
        "Is the text in the description of our `FunctionTool` important or not? Please explain your answer.\n",
        "**Yes, otherwise the AI model won´t be able to use the tool properly**"
      ],
      "metadata": {
        "id": "9YkXmlexUnP_"
      }
    },
    {
      "cell_type": "markdown",
      "metadata": {
        "id": "ZblimmXVSV__"
      },
      "source": [
        "All that's left to do is attach the tool to an OpenAIAgent and let it rip!\n",
        "\n",
        "Source Code Here:\n",
        "- [`OpenAIAgent`](https://github.com/jerryjliu/llama_index/blob/d24767b0812ac56104497d8f59095eccbe9f2b08/llama_index/agent/openai_agent.py#L361)"
      ]
    },
    {
      "cell_type": "code",
      "execution_count": 23,
      "metadata": {
        "id": "W2hafCTxSV__"
      },
      "outputs": [],
      "source": [
        "from llama_index.agent.openai import OpenAIAgent\n",
        "\n",
        "agent = OpenAIAgent.from_tools(\n",
        "    tools=[auto_retrieve_tool],\n",
        "    verbose=True,\n",
        ")"
      ]
    },
    {
      "cell_type": "code",
      "execution_count": 24,
      "metadata": {
        "id": "DBJWDBK5SV__",
        "outputId": "1a6e236e-3299-4e4b-a1b2-1af359d78ed3",
        "colab": {
          "base_uri": "https://localhost:8080/"
        }
      },
      "outputs": [
        {
          "output_type": "stream",
          "name": "stdout",
          "text": [
            "Added user message to memory: Who starred in the 2021 film?\n",
            "=== Calling Function ===\n",
            "Calling function: semantic-film-info with args: {\"query\":\"cast\",\"filter_key_list\":[\"title\"],\"filter_value_list\":[\"Dune (2021 film)\"]}\n",
            "Got output: The casting process for the film \"Dune\" involved various actors being offered roles directly by director Denis Villeneuve or through auditions conducted by casting director Francine Maisler. Some actors, like Dave Bautista and Zendaya, were offered roles after expressing interest in working with Villeneuve, while others, such as Javier Bardem and Josh Brolin, were contacted directly by Villeneuve for specific roles. Overall, the casting decisions were made based on the director's vision for the characters and the chemistry between the actors, with some roles being offered without the actors even reading the script beforehand.\n",
            "========================\n",
            "\n"
          ]
        },
        {
          "output_type": "stream",
          "name": "stderr",
          "text": [
            "\u001b[34m\u001b[1mwandb\u001b[0m: Logged trace tree to W&B.\n"
          ]
        },
        {
          "output_type": "stream",
          "name": "stdout",
          "text": [
            "The casting process for the film \"Dune\" involved various actors being offered roles directly by director Denis Villeneuve or through auditions conducted by casting director Francine Maisler. Some actors, like Dave Bautista and Zendaya, were offered roles after expressing interest in working with Villeneuve, while others, such as Javier Bardem and Josh Brolin, were contacted directly by Villeneuve for specific roles. Overall, the casting decisions were made based on the director's vision for the characters and the chemistry between the actors, with some roles being offered without the actors even reading the script beforehand.\n"
          ]
        }
      ],
      "source": [
        "response = agent.chat(\"Who starred in the 2021 film?\")\n",
        "print(str(response))"
      ]
    },
    {
      "cell_type": "markdown",
      "source": [
        "# 🤝 Breakout Room #2"
      ],
      "metadata": {
        "id": "kbhAT68RSvnT"
      }
    },
    {
      "cell_type": "markdown",
      "metadata": {
        "id": "yJcJL7VXSV__"
      },
      "source": [
        "## Task 1: Quantitative RAG Pipeline with NL2SQL Tooling\n",
        "\n",
        "We'll walk through the steps of creating a natural language to SQL system in the following section.\n",
        "\n",
        "> NOTICE: This does not have parsing on the inputs or intermediary calls to ensure that users are using safe SQL queries. Use this with caution in a production environment without adding specific guardrails from either side of the application."
      ]
    },
    {
      "cell_type": "markdown",
      "metadata": {
        "id": "SsVcM0-4SV__"
      },
      "source": [
        "The next few steps should be largely straightforward, we'll want to:\n",
        "\n",
        "1. Read in our `.csv` files into `pd.DataFrame` objects\n",
        "2. Create an in-memory `sqlite` powered `sqlalchemy` engine\n",
        "3. Cast our `pd.DataFrame` objects to the SQL engine\n",
        "4. Create an `SQLDatabase` object through LlamaIndex\n",
        "5. Use that to create a `QueryEngineTool` that we can interact with through the `NLSQLTableQueryEngine`!\n",
        "\n",
        "If you get stuck, please consult the documentation."
      ]
    },
    {
      "cell_type": "code",
      "source": [
        "!wget https://raw.githubusercontent.com/AI-Maker-Space/DataRepository/main/dune1.csv"
      ],
      "metadata": {
        "id": "WwWOygTqlNBh",
        "colab": {
          "base_uri": "https://localhost:8080/"
        },
        "outputId": "2a6740b9-3460-4fab-d178-aa1461d3a01c"
      },
      "execution_count": 25,
      "outputs": [
        {
          "output_type": "stream",
          "name": "stdout",
          "text": [
            "--2024-03-11 13:56:41--  https://raw.githubusercontent.com/AI-Maker-Space/DataRepository/main/dune1.csv\n",
            "Resolving raw.githubusercontent.com (raw.githubusercontent.com)... 185.199.108.133, 185.199.109.133, 185.199.110.133, ...\n",
            "Connecting to raw.githubusercontent.com (raw.githubusercontent.com)|185.199.108.133|:443... connected.\n",
            "HTTP request sent, awaiting response... 200 OK\n",
            "Length: 133391 (130K) [text/plain]\n",
            "Saving to: ‘dune1.csv’\n",
            "\n",
            "\rdune1.csv             0%[                    ]       0  --.-KB/s               \rdune1.csv           100%[===================>] 130.26K  --.-KB/s    in 0.004s  \n",
            "\n",
            "2024-03-11 13:56:41 (31.1 MB/s) - ‘dune1.csv’ saved [133391/133391]\n",
            "\n"
          ]
        }
      ]
    },
    {
      "cell_type": "code",
      "source": [
        "!wget https://raw.githubusercontent.com/AI-Maker-Space/DataRepository/main/dune2.csv"
      ],
      "metadata": {
        "id": "TD_9LPL9lTlG",
        "colab": {
          "base_uri": "https://localhost:8080/"
        },
        "outputId": "c0ff01dc-028c-42c3-b27f-3c938c8dc150"
      },
      "execution_count": 26,
      "outputs": [
        {
          "output_type": "stream",
          "name": "stdout",
          "text": [
            "--2024-03-11 13:56:44--  https://raw.githubusercontent.com/AI-Maker-Space/DataRepository/main/dune2.csv\n",
            "Resolving raw.githubusercontent.com (raw.githubusercontent.com)... 185.199.108.133, 185.199.109.133, 185.199.110.133, ...\n",
            "Connecting to raw.githubusercontent.com (raw.githubusercontent.com)|185.199.108.133|:443... connected.\n",
            "HTTP request sent, awaiting response... 200 OK\n",
            "Length: 111843 (109K) [text/plain]\n",
            "Saving to: ‘dune2.csv’\n",
            "\n",
            "\rdune2.csv             0%[                    ]       0  --.-KB/s               \rdune2.csv           100%[===================>] 109.22K  --.-KB/s    in 0.004s  \n",
            "\n",
            "2024-03-11 13:56:44 (24.8 MB/s) - ‘dune2.csv’ saved [111843/111843]\n",
            "\n"
          ]
        }
      ]
    },
    {
      "cell_type": "markdown",
      "metadata": {
        "id": "8PUg-ZuTSWAC"
      },
      "source": [
        "#### Read `.csv` Into Pandas"
      ]
    },
    {
      "cell_type": "code",
      "execution_count": 27,
      "metadata": {
        "id": "52Hd8PM4SWAC"
      },
      "outputs": [],
      "source": [
        "import pandas as pd\n",
        "\n",
        "dune1_df = pd.read_csv(\"./dune1.csv\")\n",
        "dune2_df = pd.read_csv(\"./dune2.csv\")"
      ]
    },
    {
      "cell_type": "markdown",
      "metadata": {
        "id": "fPTNyqmpSWAC"
      },
      "source": [
        "#### Create SQLAlchemy engine with SQLite"
      ]
    },
    {
      "cell_type": "code",
      "execution_count": 28,
      "metadata": {
        "id": "4lfuPKYBSWAC"
      },
      "outputs": [],
      "source": [
        "from sqlalchemy import create_engine\n",
        "\n",
        "engine = create_engine(\"sqlite+pysqlite:///:memory:\")"
      ]
    },
    {
      "cell_type": "markdown",
      "metadata": {
        "id": "iJiYiSuHSWAC"
      },
      "source": [
        "#### Convert `pd.DataFrame` to SQL tables"
      ]
    },
    {
      "cell_type": "code",
      "execution_count": 29,
      "metadata": {
        "id": "W-96asUHSWAC",
        "outputId": "fae2f165-d2b9-414f-f222-26d735692822",
        "colab": {
          "base_uri": "https://localhost:8080/"
        }
      },
      "outputs": [
        {
          "output_type": "execute_result",
          "data": {
            "text/plain": [
              "274"
            ]
          },
          "metadata": {},
          "execution_count": 29
        }
      ],
      "source": [
        "dune1_df.to_sql(\n",
        "    \"Dune (2021 film)\",\n",
        "    engine\n",
        ")"
      ]
    },
    {
      "cell_type": "code",
      "execution_count": 30,
      "metadata": {
        "id": "ZwOi1RE1SWAC",
        "outputId": "45c12f97-7231-4df1-95c7-26d2613908ba",
        "colab": {
          "base_uri": "https://localhost:8080/"
        }
      },
      "outputs": [
        {
          "output_type": "execute_result",
          "data": {
            "text/plain": [
              "175"
            ]
          },
          "metadata": {},
          "execution_count": 30
        }
      ],
      "source": [
        "dune2_df.to_sql(\n",
        "    \"Dune: Part 2\",\n",
        "    engine\n",
        ")"
      ]
    },
    {
      "cell_type": "markdown",
      "metadata": {
        "id": "pibA9qT7SWAC"
      },
      "source": [
        "#### Construct a `SQLDatabase` index\n",
        "\n",
        "Source Code Here:\n",
        "- [`SQLDatabase`](https://github.com/jerryjliu/llama_index/blob/d24767b0812ac56104497d8f59095eccbe9f2b08/llama_index/langchain_helpers/sql_wrapper.py#L9)"
      ]
    },
    {
      "cell_type": "code",
      "execution_count": 31,
      "metadata": {
        "id": "yeDYpR1LSWAD"
      },
      "outputs": [],
      "source": [
        "from llama_index.core import SQLDatabase\n",
        "\n",
        "sql_database = SQLDatabase(\n",
        "    engine=engine,\n",
        "    include_tables=[\"Dune (2021 film)\", \"Dune: Part 2\"]\n",
        ")"
      ]
    },
    {
      "cell_type": "markdown",
      "metadata": {
        "id": "-7VfZBenSWAD"
      },
      "source": [
        "#### Create the NLSQLTableQueryEngine interface for all added SQL tables\n",
        "\n",
        "Source Code Here:\n",
        "- [`NLSQLTableQueryEngine`](https://github.com/jerryjliu/llama_index/blob/d24767b0812ac56104497d8f59095eccbe9f2b08/llama_index/indices/struct_store/sql_query.py#L75C1-L75C1)"
      ]
    },
    {
      "cell_type": "code",
      "execution_count": 32,
      "metadata": {
        "id": "zQWSdMtrSWAD"
      },
      "outputs": [],
      "source": [
        "from llama_index.core.indices.struct_store.sql_query import NLSQLTableQueryEngine\n",
        "\n",
        "sql_query_engine = NLSQLTableQueryEngine(\n",
        "    sql_database=sql_database,\n",
        "    tables=[\"Dune (2021 film)\", \"Dune: Part 2\"],\n",
        ")"
      ]
    },
    {
      "cell_type": "markdown",
      "metadata": {
        "id": "yu8WfwuTSWAD"
      },
      "source": [
        "#### Wrap It All Up in a `QueryEngineTool`\n",
        "\n",
        "You'll want to ensure you have a descriptive...description.\n",
        "\n",
        "An example is provided here:\n",
        "\n",
        "```\n",
        "Useful for translating a natural language query into a SQL query over a table containing:\n",
        "John Wick 1, containing information related to reviews of the first John Wick movie, called John Wick\n",
        "John Wick 2, containing information related to reviews of the second John Wick movie, called John Wick: Chapter 2\n",
        "John Wick 3, containing information related to reviews of the third John Wick movie, called John Wick: Chatper 3 - Parabellum\n",
        "John Wick 4, containing information related to reviews of the fourth John Wick movie, called John Wick: Chatper 4\n",
        "```\n",
        "\n",
        "Sorce Code Here:\n",
        "\n",
        "- [`QueryEngineTool`](https://github.com/jerryjliu/llama_index/blob/d24767b0812ac56104497d8f59095eccbe9f2b08/llama_index/tools/query_engine.py#L13)"
      ]
    },
    {
      "cell_type": "markdown",
      "source": [
        "####🏗️ Activity #1:\n",
        "\n",
        "Please write a Natural Language Description for the tables that we are using today."
      ],
      "metadata": {
        "id": "yDB2m2dnU54L"
      }
    },
    {
      "cell_type": "code",
      "source": [
        "DESCRIPTION = \"\"\"\\SQL tables:\n",
        "\"Dune (2021 film)\", containing information related to the 2021 film Dune, first part\n",
        "\"Dune: Part 2\", the second part of the film Dune from 2021\n",
        "\"\"\""
      ],
      "metadata": {
        "id": "4n567cXVVCtX"
      },
      "execution_count": 42,
      "outputs": []
    },
    {
      "cell_type": "code",
      "execution_count": 43,
      "metadata": {
        "id": "y-mmcBbLSWAD"
      },
      "outputs": [],
      "source": [
        "from llama_index.core.tools.query_engine import QueryEngineTool\n",
        "\n",
        "sql_tool = QueryEngineTool.from_defaults(\n",
        "    query_engine=sql_query_engine,\n",
        "    name=\"sql-query\",\n",
        "    description=DESCRIPTION,\n",
        ")"
      ]
    },
    {
      "cell_type": "code",
      "execution_count": 44,
      "metadata": {
        "id": "feOrlq4XSWAD"
      },
      "outputs": [],
      "source": [
        "agent = OpenAIAgent.from_tools(\n",
        "    tools=[sql_tool],\n",
        "    verbose=True\n",
        ")"
      ]
    },
    {
      "cell_type": "code",
      "execution_count": 45,
      "metadata": {
        "id": "iT4G6stBSWAD",
        "outputId": "c8e6b678-3786-45b8-ea47-ea8b8c792332",
        "colab": {
          "base_uri": "https://localhost:8080/"
        }
      },
      "outputs": [
        {
          "output_type": "stream",
          "name": "stdout",
          "text": [
            "Added user message to memory: What is the average rating of the 2nd Dune movie?\n",
            "=== Calling Function ===\n",
            "Calling function: sql-query with args: {\"input\":\"SELECT AVG(rating) FROM 'Dune: Part 2'\"}\n",
            "Got output: The average rating for 'Dune: Part 2' is approximately 8.71.\n",
            "========================\n",
            "\n"
          ]
        },
        {
          "output_type": "stream",
          "name": "stderr",
          "text": [
            "\u001b[34m\u001b[1mwandb\u001b[0m: Logged trace tree to W&B.\n"
          ]
        }
      ],
      "source": [
        "response = agent.chat(\"What is the average rating of the 2nd Dune movie?\")"
      ]
    },
    {
      "cell_type": "code",
      "execution_count": 46,
      "metadata": {
        "id": "NhsoxOpkSWAD",
        "outputId": "977c603c-3b7f-4f11-91f3-e21c884dd662",
        "colab": {
          "base_uri": "https://localhost:8080/"
        }
      },
      "outputs": [
        {
          "output_type": "stream",
          "name": "stdout",
          "text": [
            "The average rating for the 2nd Dune movie, \"Dune: Part 2,\" is approximately 8.71.\n"
          ]
        }
      ],
      "source": [
        "print(str(response))"
      ]
    },
    {
      "cell_type": "markdown",
      "metadata": {
        "id": "-2LOixbcSWAD"
      },
      "source": [
        "### Task 2: Combined RAG Pipeline\n",
        "\n",
        "Now, we can simply add our tools into the `OpenAIAgent`, and off we go!"
      ]
    },
    {
      "cell_type": "code",
      "execution_count": 47,
      "metadata": {
        "id": "uxFHM2l2SWAD"
      },
      "outputs": [],
      "source": [
        "dune_agent = OpenAIAgent.from_tools(\n",
        "    tools=[auto_retrieve_tool, sql_tool],\n",
        "    verbose=True\n",
        ")"
      ]
    },
    {
      "cell_type": "code",
      "execution_count": 48,
      "metadata": {
        "id": "mYVHuBf9SWAD",
        "outputId": "7ad7de04-b209-4366-f678-2fbef23b29aa",
        "colab": {
          "base_uri": "https://localhost:8080/"
        }
      },
      "outputs": [
        {
          "output_type": "stream",
          "name": "stdout",
          "text": [
            "Added user message to memory: What is the lowest rating of the 1st film?\n",
            "=== Calling Function ===\n",
            "Calling function: sql-query with args: {\"input\":\"SELECT MIN(rating) FROM 'Dune (2021 film)';\"}\n",
            "Got output: The minimum rating for the movie \"Dune (2021 film)\" is 1.0.\n",
            "========================\n",
            "\n"
          ]
        },
        {
          "output_type": "stream",
          "name": "stderr",
          "text": [
            "\u001b[34m\u001b[1mwandb\u001b[0m: Logged trace tree to W&B.\n"
          ]
        }
      ],
      "source": [
        "response = dune_agent.chat(\"What is the lowest rating of the 1st film?\")"
      ]
    },
    {
      "cell_type": "code",
      "execution_count": 49,
      "metadata": {
        "id": "k0w0VbomSWAD",
        "outputId": "b52d2d8c-7533-408b-d7ed-b60461d1e3d7",
        "colab": {
          "base_uri": "https://localhost:8080/"
        }
      },
      "outputs": [
        {
          "output_type": "stream",
          "name": "stdout",
          "text": [
            "The lowest rating for the 1st film \"Dune (2021 film)\" is 1.0.\n"
          ]
        }
      ],
      "source": [
        "print(str(response))"
      ]
    },
    {
      "cell_type": "code",
      "execution_count": 50,
      "metadata": {
        "id": "BJvN-vtJSWAD",
        "outputId": "2aed944d-fe41-4542-a1ad-e95c64a0bf44",
        "colab": {
          "base_uri": "https://localhost:8080/"
        }
      },
      "outputs": [
        {
          "output_type": "stream",
          "name": "stdout",
          "text": [
            "Added user message to memory: What planet does the 1st Dune movie take place on?\n",
            "=== Calling Function ===\n",
            "Calling function: semantic-film-info with args: {\"query\":\"planet where the 1st Dune movie takes place\",\"filter_key_list\":[\"title\"],\"filter_value_list\":[\"Dune (2021 film)\"]}\n",
            "Got output: Arrakis\n",
            "========================\n",
            "\n"
          ]
        },
        {
          "output_type": "stream",
          "name": "stderr",
          "text": [
            "\u001b[34m\u001b[1mwandb\u001b[0m: Logged trace tree to W&B.\n"
          ]
        }
      ],
      "source": [
        "response = dune_agent.chat(\"What planet does the 1st Dune movie take place on?\")"
      ]
    },
    {
      "cell_type": "code",
      "execution_count": 51,
      "metadata": {
        "id": "F74wGv6NSWAD",
        "outputId": "7ffd3d87-b3c0-4905-a300-9880e2911fcb",
        "colab": {
          "base_uri": "https://localhost:8080/"
        }
      },
      "outputs": [
        {
          "output_type": "stream",
          "name": "stdout",
          "text": [
            "The 1st Dune movie takes place on the planet Arrakis.\n"
          ]
        }
      ],
      "source": [
        "print(str(response))"
      ]
    },
    {
      "cell_type": "code",
      "source": [
        "response = dune_agent.chat(\"Calculate the average review of each movie - and then discuss how the average review changed over time.\")"
      ],
      "metadata": {
        "colab": {
          "base_uri": "https://localhost:8080/"
        },
        "id": "Lvat4hmkvn3N",
        "outputId": "83602fde-0d8e-4ed2-f45c-783c1224e058"
      },
      "execution_count": 52,
      "outputs": [
        {
          "output_type": "stream",
          "name": "stdout",
          "text": [
            "Added user message to memory: Calculate the average review of each movie - and then discuss how the average review changed over time.\n",
            "=== Calling Function ===\n",
            "Calling function: sql-query with args: {\"input\": \"SELECT AVG(rating) FROM 'Dune (2021 film)';\"}\n",
            "Got output: The average rating for the movie \"Dune (2021 film)\" is 8.34 out of 10.\n",
            "========================\n",
            "\n",
            "=== Calling Function ===\n",
            "Calling function: sql-query with args: {\"input\": \"SELECT AVG(rating) FROM 'Dune: Part 2';\"}\n",
            "Got output: The average rating for \"Dune: Part 2\" is 8.71.\n",
            "========================\n",
            "\n"
          ]
        },
        {
          "output_type": "stream",
          "name": "stderr",
          "text": [
            "\u001b[34m\u001b[1mwandb\u001b[0m: Logged trace tree to W&B.\n"
          ]
        }
      ]
    },
    {
      "cell_type": "code",
      "source": [
        "print(str(response))"
      ],
      "metadata": {
        "colab": {
          "base_uri": "https://localhost:8080/"
        },
        "id": "BEOpeuAovtZM",
        "outputId": "9985a392-3e24-4f4f-dfb8-1853a3b253e7"
      },
      "execution_count": 53,
      "outputs": [
        {
          "output_type": "stream",
          "name": "stdout",
          "text": [
            "The average review for the movie \"Dune (2021 film)\" is 8.34 out of 10, and for \"Dune: Part 2\" is 8.71 out of 10.\n",
            "\n",
            "Discussing how the average review changed over time:\n",
            "- The average review for \"Dune (2021 film)\" is slightly lower at 8.34 compared to \"Dune: Part 2\" at 8.71.\n",
            "- This indicates that the second part of the Dune series, \"Dune: Part 2,\" received a higher average review compared to the first part.\n",
            "- The increase in the average review from the first film to the second film suggests that the audience may have found the sequel to be even more engaging, captivating, or well-received than the original film.\n"
          ]
        }
      ]
    },
    {
      "cell_type": "markdown",
      "source": [
        "####❓ Question #4:\n",
        "\n",
        "How can you verify which tool was used for which query?\n",
        "**The system message \"Calling Function\" shos the tool used, and the info is logged into wandb**"
      ],
      "metadata": {
        "id": "WUVzyUtKqdUf"
      }
    },
    {
      "cell_type": "code",
      "execution_count": 54,
      "metadata": {
        "id": "D3ELqzOvSWAD"
      },
      "outputs": [],
      "source": [
        "wandb_callback.finish()"
      ]
    }
  ],
  "metadata": {
    "kernelspec": {
      "display_name": "Python 3",
      "language": "python",
      "name": "python3"
    },
    "language_info": {
      "codemirror_mode": {
        "name": "ipython",
        "version": 3
      },
      "file_extension": ".py",
      "mimetype": "text/x-python",
      "name": "python",
      "nbconvert_exporter": "python",
      "pygments_lexer": "ipython3",
      "version": "3.9.18"
    },
    "orig_nbformat": 4,
    "colab": {
      "provenance": []
    }
  },
  "nbformat": 4,
  "nbformat_minor": 0
}