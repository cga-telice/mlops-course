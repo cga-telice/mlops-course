{
 "cells": [
  {
   "cell_type": "markdown",
   "id": "6b2e07ca-cccd-40cc-ba5b-43dfb8c879bb",
   "metadata": {},
   "source": [
    "# Install the dependencies"
   ]
  },
  {
   "cell_type": "code",
   "execution_count": 1,
   "id": "4633458a-3aee-47ab-b58f-bdfa5bcac0fc",
   "metadata": {},
   "outputs": [],
   "source": [
    "!pip install -qU langchain langchain-core langchain-community langchain-openai"
   ]
  },
  {
   "cell_type": "code",
   "execution_count": 2,
   "id": "705f0c55-68dd-4044-bdef-55a077352feb",
   "metadata": {},
   "outputs": [],
   "source": [
    "!pip install -qU tiktoken pymupdf"
   ]
  },
  {
   "cell_type": "code",
   "execution_count": 4,
   "id": "a99fff71-6827-417f-8491-86bb352310b1",
   "metadata": {},
   "outputs": [],
   "source": [
    "import faiss\n",
    "import os\n",
    "import openai\n",
    "from getpass import getpass\n",
    "from langchain_community.document_loaders import PyMuPDFLoader\n",
    "from langchain.text_splitter import RecursiveCharacterTextSplitter\n",
    "from langchain_openai import OpenAIEmbeddings\n",
    "from langchain_community.vectorstores import FAISS"
   ]
  },
  {
   "cell_type": "markdown",
   "id": "c394f153-bfe0-4673-bbd7-ac1930284247",
   "metadata": {},
   "source": [
    "# Set the enviroment values"
   ]
  },
  {
   "cell_type": "code",
   "execution_count": 5,
   "id": "9e5ee059-56d7-4ab0-bdd5-589904a6af1f",
   "metadata": {},
   "outputs": [
    {
     "name": "stdin",
     "output_type": "stream",
     "text": [
      "Please provide your OpenAI Key:  ········\n"
     ]
    }
   ],
   "source": [
    "openai.api_key = getpass(\"Please provide your OpenAI Key: \")\n",
    "os.environ[\"OPENAI_API_KEY\"] = openai.api_key"
   ]
  },
  {
   "cell_type": "markdown",
   "id": "7812c9e7-14e4-459f-96d5-24741685b0e7",
   "metadata": {},
   "source": [
    "# Choose the pdf documents to embed"
   ]
  },
  {
   "cell_type": "code",
   "execution_count": 20,
   "id": "76af4863-11f5-4762-8ff0-fa2ee77f5b4e",
   "metadata": {},
   "outputs": [],
   "source": [
    "file_name = \"Seattle\" "
   ]
  },
  {
   "cell_type": "code",
   "execution_count": 21,
   "id": "dc4ffdfd-720e-45c9-a204-4acb9ecf16ce",
   "metadata": {},
   "outputs": [],
   "source": [
    "path_raw = \"..\\\\data\\\\raw\\\\\" + file_name + \".pdf\" # The path where the raw documents are stored\n",
    "path_processed = \"..\\\\data\\\\processed\\\\\" + file_name + \".faiss\" # The path where we will store the index"
   ]
  },
  {
   "cell_type": "markdown",
   "id": "005c231a-fe94-4e6b-af01-2de2d96b2a2b",
   "metadata": {},
   "source": [
    "# Load the document"
   ]
  },
  {
   "cell_type": "code",
   "execution_count": 22,
   "id": "4f379ca8-ff7d-44f2-8597-69a80990d5fa",
   "metadata": {},
   "outputs": [],
   "source": [
    "loader = PyMuPDFLoader(\n",
    "    path_raw,\n",
    ")\n",
    "\n",
    "documents = loader.load()"
   ]
  },
  {
   "cell_type": "markdown",
   "id": "e91b6a6e-fbff-4bdf-9be0-3f94e4d73cf2",
   "metadata": {},
   "source": [
    "# Split the document into chunks"
   ]
  },
  {
   "cell_type": "code",
   "execution_count": 23,
   "id": "aad958b6-fb77-48c3-9db7-15948a118dee",
   "metadata": {},
   "outputs": [],
   "source": [
    "text_splitter = RecursiveCharacterTextSplitter(\n",
    "    chunk_size = 700,\n",
    "    chunk_overlap = 50\n",
    ")\n",
    "\n",
    "documents = text_splitter.split_documents(documents)"
   ]
  },
  {
   "cell_type": "markdown",
   "id": "9f644c2c-b9fe-49ed-87eb-8e677bd4a0af",
   "metadata": {},
   "source": [
    "# Load the embedding model"
   ]
  },
  {
   "cell_type": "code",
   "execution_count": 24,
   "id": "6f6e2974-0651-4c12-a719-5d35c3067456",
   "metadata": {},
   "outputs": [],
   "source": [
    "embeddings = OpenAIEmbeddings(\n",
    "    model=\"text-embedding-3-small\"\n",
    ")"
   ]
  },
  {
   "cell_type": "markdown",
   "id": "24ab51e0-7179-41a0-9cd2-7dcc53e58329",
   "metadata": {},
   "source": [
    "# Create a FAISS VectorStore"
   ]
  },
  {
   "cell_type": "code",
   "execution_count": 25,
   "id": "1f2e6701-a061-480d-b1c5-51054bfb2b70",
   "metadata": {},
   "outputs": [],
   "source": [
    "vector_store = FAISS.from_documents(documents, embeddings)"
   ]
  },
  {
   "cell_type": "markdown",
   "id": "eccc9aed-0c39-48f5-b0fc-97b3f0ba40ed",
   "metadata": {},
   "source": [
    "# Save the vector store"
   ]
  },
  {
   "cell_type": "code",
   "execution_count": 26,
   "id": "e9e876c9-8a1f-4397-b83b-66d5cbfd8dc3",
   "metadata": {},
   "outputs": [],
   "source": [
    "vector_store.save_local(path_processed)"
   ]
  },
  {
   "cell_type": "code",
   "execution_count": null,
   "id": "fe07891a-bad2-4a50-8c75-670d7e317e8b",
   "metadata": {},
   "outputs": [],
   "source": []
  }
 ],
 "metadata": {
  "kernelspec": {
   "display_name": "Python 3 (ipykernel)",
   "language": "python",
   "name": "python3"
  },
  "language_info": {
   "codemirror_mode": {
    "name": "ipython",
    "version": 3
   },
   "file_extension": ".py",
   "mimetype": "text/x-python",
   "name": "python",
   "nbconvert_exporter": "python",
   "pygments_lexer": "ipython3",
   "version": "3.11.7"
  }
 },
 "nbformat": 4,
 "nbformat_minor": 5
}
