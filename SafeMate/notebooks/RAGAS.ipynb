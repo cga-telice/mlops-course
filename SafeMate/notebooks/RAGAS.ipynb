{
 "cells": [
  {
   "cell_type": "markdown",
   "id": "6b2e07ca-cccd-40cc-ba5b-43dfb8c879bb",
   "metadata": {},
   "source": [
    "# Install dependencies"
   ]
  },
  {
   "cell_type": "code",
   "execution_count": 1,
   "id": "705f0c55-68dd-4044-bdef-55a077352feb",
   "metadata": {},
   "outputs": [],
   "source": [
    "!pip install -qU pymupdf"
   ]
  },
  {
   "cell_type": "code",
   "execution_count": 2,
   "id": "8009fdb0-2c92-4295-a0b9-3462f88c38b3",
   "metadata": {},
   "outputs": [],
   "source": [
    "!pip install -qU ragas"
   ]
  },
  {
   "cell_type": "markdown",
   "id": "c394f153-bfe0-4673-bbd7-ac1930284247",
   "metadata": {},
   "source": [
    "# Set enviroment values"
   ]
  },
  {
   "cell_type": "code",
   "execution_count": 3,
   "id": "9e5ee059-56d7-4ab0-bdd5-589904a6af1f",
   "metadata": {},
   "outputs": [
    {
     "name": "stdin",
     "output_type": "stream",
     "text": [
      "Please provide your OpenAI Key:  ········\n"
     ]
    }
   ],
   "source": [
    "import os\n",
    "import openai\n",
    "from getpass import getpass\n",
    "\n",
    "openai.api_key = getpass(\"Please provide your OpenAI Key: \")\n",
    "os.environ[\"OPENAI_API_KEY\"] = openai.api_key"
   ]
  },
  {
   "cell_type": "markdown",
   "id": "005c231a-fe94-4e6b-af01-2de2d96b2a2b",
   "metadata": {},
   "source": [
    "# Load document"
   ]
  },
  {
   "cell_type": "code",
   "execution_count": 4,
   "id": "4f379ca8-ff7d-44f2-8597-69a80990d5fa",
   "metadata": {},
   "outputs": [],
   "source": [
    "from langchain_community.document_loaders import PyMuPDFLoader\n",
    "\n",
    "loader = PyMuPDFLoader(\n",
    "    r\"..\\data\\raw\\Seattle.pdf\",\n",
    ")\n",
    "\n",
    "documents = loader.load()"
   ]
  },
  {
   "cell_type": "code",
   "execution_count": 5,
   "id": "f64aa3be-a517-4453-b9f8-eef507b21b3c",
   "metadata": {
    "scrolled": true
   },
   "outputs": [
    {
     "data": {
      "text/plain": [
       "Document(page_content=' \\nPort of Seattle \\nv03.22.16 \\nConstruction Safety Manual \\n', metadata={'source': '..\\\\data\\\\raw\\\\Seattle.pdf', 'file_path': '..\\\\data\\\\raw\\\\Seattle.pdf', 'page': 0, 'total_pages': 372, 'format': 'PDF 1.6', 'title': '', 'author': 'Michelle Chatman', 'subject': '', 'keywords': '', 'creator': 'Adobe Acrobat Pro DC 15.8.20082', 'producer': 'Adobe Acrobat Pro DC 15.8.20082', 'creationDate': \"D:20160322131244-07'00'\", 'modDate': \"D:20240323123936+01'00'\", 'trapped': ''})"
      ]
     },
     "execution_count": 5,
     "metadata": {},
     "output_type": "execute_result"
    }
   ],
   "source": [
    "documents[0]"
   ]
  },
  {
   "cell_type": "markdown",
   "id": "e91b6a6e-fbff-4bdf-9be0-3f94e4d73cf2",
   "metadata": {},
   "source": [
    "# Document chunks"
   ]
  },
  {
   "cell_type": "code",
   "execution_count": 6,
   "id": "aad958b6-fb77-48c3-9db7-15948a118dee",
   "metadata": {},
   "outputs": [],
   "source": [
    "from langchain.text_splitter import RecursiveCharacterTextSplitter\n",
    "\n",
    "text_splitter = RecursiveCharacterTextSplitter(\n",
    "    chunk_size = 700,\n",
    "    chunk_overlap = 50\n",
    ")\n",
    "\n",
    "documents = text_splitter.split_documents(documents)"
   ]
  },
  {
   "cell_type": "code",
   "execution_count": 7,
   "id": "5b12cb7b-2ff3-490f-9540-154d5443620f",
   "metadata": {},
   "outputs": [
    {
     "data": {
      "text/plain": [
       "1392"
      ]
     },
     "execution_count": 7,
     "metadata": {},
     "output_type": "execute_result"
    }
   ],
   "source": [
    "len(documents)"
   ]
  },
  {
   "cell_type": "markdown",
   "id": "9f644c2c-b9fe-49ed-87eb-8e677bd4a0af",
   "metadata": {},
   "source": [
    "# Load embedding model"
   ]
  },
  {
   "cell_type": "code",
   "execution_count": 8,
   "id": "6f6e2974-0651-4c12-a719-5d35c3067456",
   "metadata": {},
   "outputs": [],
   "source": [
    "from langchain_openai import OpenAIEmbeddings\n",
    "\n",
    "embeddings = OpenAIEmbeddings(\n",
    "    model=\"text-embedding-3-small\"\n",
    ")"
   ]
  },
  {
   "cell_type": "markdown",
   "id": "1d9684b2-7c66-4c4a-8561-ad2f01e035fd",
   "metadata": {},
   "source": [
    "# Synthetic Dataset Generation using Ragas"
   ]
  },
  {
   "cell_type": "code",
   "execution_count": 23,
   "id": "f4556fae-7dff-4a40-9711-bfdb36211336",
   "metadata": {},
   "outputs": [],
   "source": [
    "eval_documents = documents\n",
    "\n",
    "text_splitter = RecursiveCharacterTextSplitter(\n",
    "    chunk_size = 1500,\n",
    "    chunk_overlap = 400\n",
    ")\n",
    "\n",
    "eval_documents = text_splitter.split_documents(eval_documents)"
   ]
  },
  {
   "cell_type": "code",
   "execution_count": 28,
   "id": "f0e13087-fe78-4a61-aaa0-0fa3ba4c4d12",
   "metadata": {},
   "outputs": [
    {
     "data": {
      "text/plain": [
       "1392"
      ]
     },
     "execution_count": 28,
     "metadata": {},
     "output_type": "execute_result"
    }
   ],
   "source": [
    "len(eval_documents)"
   ]
  },
  {
   "cell_type": "code",
   "execution_count": null,
   "id": "a9aa7603-c5af-41da-bb10-359bdec651d9",
   "metadata": {},
   "outputs": [],
   "source": [
    "from ragas.testset.generator import TestsetGenerator\n",
    "from ragas.testset.evolutions import simple, reasoning, multi_context\n",
    "\n",
    "generator = TestsetGenerator.with_openai()\n",
    "\n",
    "testset = generator.generate_with_langchain_docs(documents, test_size=10, distributions={simple: 0.25, reasoning: 0.25, multi_context: 0.5},raise_exceptions=False)\n",
    "     "
   ]
  },
  {
   "cell_type": "code",
   "execution_count": null,
   "id": "119e1227-6d25-4f80-bb1c-b17cf4266f91",
   "metadata": {
    "scrolled": true
   },
   "outputs": [],
   "source": [
    "testset.test_data[0]"
   ]
  },
  {
   "cell_type": "markdown",
   "id": "0fdfbb6a-8a05-4601-8f73-09188782d112",
   "metadata": {},
   "source": [
    "# Generate the responses to the test questions"
   ]
  },
  {
   "cell_type": "code",
   "execution_count": 40,
   "id": "563546c0-4c89-41bd-b4c5-69e880f5d824",
   "metadata": {},
   "outputs": [],
   "source": [
    "test_df = testset.to_pandas()"
   ]
  },
  {
   "cell_type": "code",
   "execution_count": 41,
   "id": "df0abac6-2e27-44b5-a708-e9cbe77e873b",
   "metadata": {},
   "outputs": [
    {
     "data": {
      "text/html": [
       "<div>\n",
       "<style scoped>\n",
       "    .dataframe tbody tr th:only-of-type {\n",
       "        vertical-align: middle;\n",
       "    }\n",
       "\n",
       "    .dataframe tbody tr th {\n",
       "        vertical-align: top;\n",
       "    }\n",
       "\n",
       "    .dataframe thead th {\n",
       "        text-align: right;\n",
       "    }\n",
       "</style>\n",
       "<table border=\"1\" class=\"dataframe\">\n",
       "  <thead>\n",
       "    <tr style=\"text-align: right;\">\n",
       "      <th></th>\n",
       "      <th>question</th>\n",
       "      <th>contexts</th>\n",
       "      <th>ground_truth</th>\n",
       "      <th>evolution_type</th>\n",
       "      <th>metadata</th>\n",
       "      <th>episode_done</th>\n",
       "    </tr>\n",
       "  </thead>\n",
       "  <tbody>\n",
       "    <tr>\n",
       "      <th>0</th>\n",
       "      <td>How can safety pamphlets be used to inform con...</td>\n",
       "      <td>[160 \\n \\nFig.21.1. Steps in chemical manageme...</td>\n",
       "      <td>Safety pamphlets can be used as a communicatio...</td>\n",
       "      <td>simple</td>\n",
       "      <td>[{'source': '..\\data\\raw\\Delhi.pdf', 'file_pat...</td>\n",
       "      <td>True</td>\n",
       "    </tr>\n",
       "    <tr>\n",
       "      <th>1</th>\n",
       "      <td>How does safety training enhance workers' safe...</td>\n",
       "      <td>[43 \\n \\nChapter 7 \\nTRAINING AND EDUCATION  \\...</td>\n",
       "      <td>Safety training enhances workers' safety compe...</td>\n",
       "      <td>simple</td>\n",
       "      <td>[{'source': '..\\data\\raw\\Delhi.pdf', 'file_pat...</td>\n",
       "      <td>True</td>\n",
       "    </tr>\n",
       "    <tr>\n",
       "      <th>2</th>\n",
       "      <td>What methods should be used to protect workers...</td>\n",
       "      <td>[157 \\n \\nwhere fibrous structures and scar ti...</td>\n",
       "      <td>The methods that should be used to protect wor...</td>\n",
       "      <td>reasoning</td>\n",
       "      <td>[{'source': '..\\data\\raw\\Delhi.pdf', 'file_pat...</td>\n",
       "      <td>True</td>\n",
       "    </tr>\n",
       "    <tr>\n",
       "      <th>3</th>\n",
       "      <td>What measures are recommended for safe handlin...</td>\n",
       "      <td>[160 \\n \\nFig.21.1. Steps in chemical manageme...</td>\n",
       "      <td>The measures recommended for safe handling and...</td>\n",
       "      <td>multi_context</td>\n",
       "      <td>[{'source': '..\\data\\raw\\Delhi.pdf', 'file_pat...</td>\n",
       "      <td>True</td>\n",
       "    </tr>\n",
       "    <tr>\n",
       "      <th>4</th>\n",
       "      <td>How can various methods aid in identifying haz...</td>\n",
       "      <td>[needed. These meetings will remind workers of...</td>\n",
       "      <td>Various methods such as total site health and ...</td>\n",
       "      <td>multi_context</td>\n",
       "      <td>[{'source': '..\\data\\raw\\Delhi.pdf', 'file_pat...</td>\n",
       "      <td>True</td>\n",
       "    </tr>\n",
       "    <tr>\n",
       "      <th>5</th>\n",
       "      <td>How can technology and guidelines help reduce ...</td>\n",
       "      <td>[using cloud and mobile technology is making i...</td>\n",
       "      <td>Technology, such as cloud and mobile technolog...</td>\n",
       "      <td>multi_context</td>\n",
       "      <td>[{'source': '..\\data\\raw\\Delhi.pdf', 'file_pat...</td>\n",
       "      <td>True</td>\n",
       "    </tr>\n",
       "    <tr>\n",
       "      <th>6</th>\n",
       "      <td>What are the risks of arc/flashover hazards an...</td>\n",
       "      <td>[ Identification of multiple voltage sources ...</td>\n",
       "      <td>Arcing faults in electrical equipment are mult...</td>\n",
       "      <td>multi_context</td>\n",
       "      <td>[{'source': '..\\data\\raw\\Delhi.pdf', 'file_pat...</td>\n",
       "      <td>True</td>\n",
       "    </tr>\n",
       "    <tr>\n",
       "      <th>7</th>\n",
       "      <td>What is the purpose of root cause analysis in ...</td>\n",
       "      <td>[methods used are: \\na. Root cause analysis \\n...</td>\n",
       "      <td>The purpose of root cause analysis in incident...</td>\n",
       "      <td>multi_context</td>\n",
       "      <td>[{'source': '..\\data\\raw\\Delhi.pdf', 'file_pat...</td>\n",
       "      <td>True</td>\n",
       "    </tr>\n",
       "    <tr>\n",
       "      <th>8</th>\n",
       "      <td>What are some avoidable risks to employee safe...</td>\n",
       "      <td>[maintenance. \\n \\nSome examples include the f...</td>\n",
       "      <td>Some avoidable risks to employee safety throug...</td>\n",
       "      <td>reasoning</td>\n",
       "      <td>[{'source': '..\\data\\raw\\Delhi.pdf', 'file_pat...</td>\n",
       "      <td>True</td>\n",
       "    </tr>\n",
       "  </tbody>\n",
       "</table>\n",
       "</div>"
      ],
      "text/plain": [
       "                                            question  \\\n",
       "0  How can safety pamphlets be used to inform con...   \n",
       "1  How does safety training enhance workers' safe...   \n",
       "2  What methods should be used to protect workers...   \n",
       "3  What measures are recommended for safe handlin...   \n",
       "4  How can various methods aid in identifying haz...   \n",
       "5  How can technology and guidelines help reduce ...   \n",
       "6  What are the risks of arc/flashover hazards an...   \n",
       "7  What is the purpose of root cause analysis in ...   \n",
       "8  What are some avoidable risks to employee safe...   \n",
       "\n",
       "                                            contexts  \\\n",
       "0  [160 \\n \\nFig.21.1. Steps in chemical manageme...   \n",
       "1  [43 \\n \\nChapter 7 \\nTRAINING AND EDUCATION  \\...   \n",
       "2  [157 \\n \\nwhere fibrous structures and scar ti...   \n",
       "3  [160 \\n \\nFig.21.1. Steps in chemical manageme...   \n",
       "4  [needed. These meetings will remind workers of...   \n",
       "5  [using cloud and mobile technology is making i...   \n",
       "6  [ Identification of multiple voltage sources ...   \n",
       "7  [methods used are: \\na. Root cause analysis \\n...   \n",
       "8  [maintenance. \\n \\nSome examples include the f...   \n",
       "\n",
       "                                        ground_truth evolution_type  \\\n",
       "0  Safety pamphlets can be used as a communicatio...         simple   \n",
       "1  Safety training enhances workers' safety compe...         simple   \n",
       "2  The methods that should be used to protect wor...      reasoning   \n",
       "3  The measures recommended for safe handling and...  multi_context   \n",
       "4  Various methods such as total site health and ...  multi_context   \n",
       "5  Technology, such as cloud and mobile technolog...  multi_context   \n",
       "6  Arcing faults in electrical equipment are mult...  multi_context   \n",
       "7  The purpose of root cause analysis in incident...  multi_context   \n",
       "8  Some avoidable risks to employee safety throug...      reasoning   \n",
       "\n",
       "                                            metadata  episode_done  \n",
       "0  [{'source': '..\\data\\raw\\Delhi.pdf', 'file_pat...          True  \n",
       "1  [{'source': '..\\data\\raw\\Delhi.pdf', 'file_pat...          True  \n",
       "2  [{'source': '..\\data\\raw\\Delhi.pdf', 'file_pat...          True  \n",
       "3  [{'source': '..\\data\\raw\\Delhi.pdf', 'file_pat...          True  \n",
       "4  [{'source': '..\\data\\raw\\Delhi.pdf', 'file_pat...          True  \n",
       "5  [{'source': '..\\data\\raw\\Delhi.pdf', 'file_pat...          True  \n",
       "6  [{'source': '..\\data\\raw\\Delhi.pdf', 'file_pat...          True  \n",
       "7  [{'source': '..\\data\\raw\\Delhi.pdf', 'file_pat...          True  \n",
       "8  [{'source': '..\\data\\raw\\Delhi.pdf', 'file_pat...          True  "
      ]
     },
     "execution_count": 41,
     "metadata": {},
     "output_type": "execute_result"
    }
   ],
   "source": [
    "test_df"
   ]
  },
  {
   "cell_type": "code",
   "execution_count": 44,
   "id": "9b334ee7-598a-4001-b4b7-aa13163e73c2",
   "metadata": {},
   "outputs": [],
   "source": [
    "test_questions = test_df[\"question\"].values.tolist()\n",
    "test_groundtruths = test_df[\"ground_truth\"].values.tolist()"
   ]
  },
  {
   "cell_type": "code",
   "execution_count": 48,
   "id": "73abaf4e-6f2e-4682-9f81-78663efd0218",
   "metadata": {},
   "outputs": [],
   "source": [
    "answers = []\n",
    "contexts = []\n",
    "\n",
    "for question in test_questions:\n",
    "  response = retrieval_augmented_qa_chain.invoke({\"question\" : question})\n",
    "  answers.append(response[\"response\"].content)\n",
    "  contexts.append([context.page_content for context in response[\"context\"]])"
   ]
  },
  {
   "cell_type": "code",
   "execution_count": 49,
   "id": "5cc1c16b-cbb0-4db3-a5b6-0849f78b03ec",
   "metadata": {},
   "outputs": [],
   "source": [
    "from datasets import Dataset\n",
    "\n",
    "response_dataset = Dataset.from_dict({\n",
    "    \"question\" : test_questions,\n",
    "    \"answer\" : answers,\n",
    "    \"contexts\" : contexts,\n",
    "    \"ground_truth\" : test_groundtruths\n",
    "})"
   ]
  },
  {
   "cell_type": "code",
   "execution_count": 50,
   "id": "9f91fee7-046b-4c19-90c4-7709f22533a1",
   "metadata": {
    "scrolled": true
   },
   "outputs": [
    {
     "data": {
      "text/plain": [
       "{'question': 'How can safety pamphlets be used to inform construction workers about hazardous chemicals?',\n",
       " 'answer': 'Safety pamphlets can be used to inform construction workers about hazardous chemicals by providing them with important information and guidelines on handling and storing these chemicals safely.',\n",
       " 'contexts': ['160 \\n \\nFig.21.1. Steps in chemical management \\nUsing proper communication mediums like supply of SDS (Safety Data Sheet), Safety pamphlets, \\ndisplay notices etc., keep everyone informed about hazardous chemicals, so information is \\naccessible to everyone. \\nIt is the responsibility of safety teams on construction sites to ensure the safe practices. It is \\nrequired to include provisions and procedures for handling and storing hazardous chemicals and \\nmaterials. Specific best practices include: \\na. Provide Correct Training \\nConstruction workers must be aware of the hazardous materials they will be likely to handle and',\n",
       "  '21.4 Chemical Management for the Construction Industry \\nContractors and those working in construction settings and worksites must be informed about the \\nhazardous chemicals they may be exposed to. Close the gap on health and workplace safety with \\ncontractors/ sub-contractors by using tools to share information on the hazards of chemicals on the \\nworksite. Identify occupational health and safety hazards is the first step to being proactive in \\nprevention in the field of construction. Many hazardous products when improperly handled may \\ncause acute or chronic health effects in workers. Communicating controls reduces risk when using \\nhazardous products.',\n",
       "  '156 \\n \\nChapter 21 \\nCHEMICAL SAFETY  \\n21.1 INTRODUCTION \\nConstruction workers are exposed to various chemical hazards in their day to day activities on the \\nsite. Activities like change of job on daily basis, simultaneous operations and movement of workers \\non a jobsite require chemical management systems to minimize the risk. There are two primary \\nproblems when it comes to addressing and protecting construction employees for personal injuries \\nsustained from chemical exposure. The first issue is that many workers do not realize they were \\nexposed to any chemical at all, until a health condition related to toxic exposure presents itself.',\n",
       "  'Employees may not be able to recall when they were exposed, at what location, or under what \\ncircumstances they came into contact with a hazardous chemical. \\nUnlike other common types of injury on the construction site, including falls or abrasions that are \\ntreated with emergency care (and documented by employer at job site/ a clinic or hospital), the \\nworker may leave the job site and never know that they have been exposed to a potentially life-\\nthreatening chemical. One that could contribute to serious chronic diseases, organ failure or \\ncancer over time. This is why safe work procedure and regulatory provisions are critical to \\nprotecting workers from chemical exposure.'],\n",
       " 'ground_truth': 'Safety pamphlets can be used as a communication medium to inform construction workers about hazardous chemicals. They can provide information on the hazards of chemicals and best practices for handling and storing them.'}"
      ]
     },
     "execution_count": 50,
     "metadata": {},
     "output_type": "execute_result"
    }
   ],
   "source": [
    "response_dataset[0]"
   ]
  },
  {
   "cell_type": "markdown",
   "id": "ba3f7e59-8637-46cb-a4e9-011fddcf6fca",
   "metadata": {},
   "source": [
    "# Evaluation"
   ]
  },
  {
   "cell_type": "code",
   "execution_count": 51,
   "id": "34a20306-ba53-4b6c-be55-8dd54cb0c5c4",
   "metadata": {},
   "outputs": [],
   "source": [
    "from ragas import evaluate\n",
    "from ragas.metrics import (\n",
    "    faithfulness,\n",
    "    answer_relevancy,\n",
    "    answer_correctness,\n",
    "    context_recall,\n",
    "    context_precision,\n",
    ")\n",
    "\n",
    "metrics = [\n",
    "    faithfulness,\n",
    "    answer_relevancy,\n",
    "    context_recall,\n",
    "    context_precision,\n",
    "    answer_correctness,\n",
    "]"
   ]
  },
  {
   "cell_type": "code",
   "execution_count": 52,
   "id": "d5cfefda-adcb-4130-9b33-50993b5603dd",
   "metadata": {},
   "outputs": [
    {
     "data": {
      "application/vnd.jupyter.widget-view+json": {
       "model_id": "4e5cd78daf1542bfa9e0073d2fcfa146",
       "version_major": 2,
       "version_minor": 0
      },
      "text/plain": [
       "Evaluating:   0%|          | 0/45 [00:00<?, ?it/s]"
      ]
     },
     "metadata": {},
     "output_type": "display_data"
    }
   ],
   "source": [
    "results = evaluate(response_dataset, metrics)"
   ]
  },
  {
   "cell_type": "code",
   "execution_count": 53,
   "id": "8898119c-11ee-4876-b312-4b8f08bd23ce",
   "metadata": {},
   "outputs": [
    {
     "data": {
      "text/plain": [
       "{'faithfulness': 0.9120, 'answer_relevancy': 0.9825, 'context_recall': 0.9630, 'context_precision': 0.9259, 'answer_correctness': 0.6149}"
      ]
     },
     "execution_count": 53,
     "metadata": {},
     "output_type": "execute_result"
    }
   ],
   "source": [
    "results"
   ]
  },
  {
   "cell_type": "code",
   "execution_count": 54,
   "id": "be81a78f-e95c-4db2-aa5a-6248d3d3cecc",
   "metadata": {
    "scrolled": true
   },
   "outputs": [
    {
     "data": {
      "text/html": [
       "<div>\n",
       "<style scoped>\n",
       "    .dataframe tbody tr th:only-of-type {\n",
       "        vertical-align: middle;\n",
       "    }\n",
       "\n",
       "    .dataframe tbody tr th {\n",
       "        vertical-align: top;\n",
       "    }\n",
       "\n",
       "    .dataframe thead th {\n",
       "        text-align: right;\n",
       "    }\n",
       "</style>\n",
       "<table border=\"1\" class=\"dataframe\">\n",
       "  <thead>\n",
       "    <tr style=\"text-align: right;\">\n",
       "      <th></th>\n",
       "      <th>question</th>\n",
       "      <th>answer</th>\n",
       "      <th>contexts</th>\n",
       "      <th>ground_truth</th>\n",
       "      <th>faithfulness</th>\n",
       "      <th>answer_relevancy</th>\n",
       "      <th>context_recall</th>\n",
       "      <th>context_precision</th>\n",
       "      <th>answer_correctness</th>\n",
       "    </tr>\n",
       "  </thead>\n",
       "  <tbody>\n",
       "    <tr>\n",
       "      <th>0</th>\n",
       "      <td>How can safety pamphlets be used to inform con...</td>\n",
       "      <td>Safety pamphlets can be used to inform constru...</td>\n",
       "      <td>[160 \\n \\nFig.21.1. Steps in chemical manageme...</td>\n",
       "      <td>Safety pamphlets can be used as a communicatio...</td>\n",
       "      <td>1.000000</td>\n",
       "      <td>1.000000</td>\n",
       "      <td>1.000000</td>\n",
       "      <td>1.000000</td>\n",
       "      <td>0.497016</td>\n",
       "    </tr>\n",
       "    <tr>\n",
       "      <th>1</th>\n",
       "      <td>How does safety training enhance workers' safe...</td>\n",
       "      <td>Safety training enhances workers' safety compe...</td>\n",
       "      <td>[43 \\n \\nChapter 7 \\nTRAINING AND EDUCATION  \\...</td>\n",
       "      <td>Safety training enhances workers' safety compe...</td>\n",
       "      <td>1.000000</td>\n",
       "      <td>1.000000</td>\n",
       "      <td>1.000000</td>\n",
       "      <td>0.805556</td>\n",
       "      <td>0.622839</td>\n",
       "    </tr>\n",
       "    <tr>\n",
       "      <th>2</th>\n",
       "      <td>What methods should be used to protect workers...</td>\n",
       "      <td>i. Limit exposure.\\nii. Substitute less hazard...</td>\n",
       "      <td>[157 \\n \\nwhere fibrous structures and scar ti...</td>\n",
       "      <td>The methods that should be used to protect wor...</td>\n",
       "      <td>1.000000</td>\n",
       "      <td>0.948765</td>\n",
       "      <td>1.000000</td>\n",
       "      <td>0.805556</td>\n",
       "      <td>0.984617</td>\n",
       "    </tr>\n",
       "    <tr>\n",
       "      <th>3</th>\n",
       "      <td>What measures are recommended for safe handlin...</td>\n",
       "      <td>The recommended measures for safe handling and...</td>\n",
       "      <td>[160 \\n \\nFig.21.1. Steps in chemical manageme...</td>\n",
       "      <td>The measures recommended for safe handling and...</td>\n",
       "      <td>0.875000</td>\n",
       "      <td>0.972037</td>\n",
       "      <td>1.000000</td>\n",
       "      <td>1.000000</td>\n",
       "      <td>0.365432</td>\n",
       "    </tr>\n",
       "    <tr>\n",
       "      <th>4</th>\n",
       "      <td>How can various methods aid in identifying haz...</td>\n",
       "      <td>Various methods can aid in identifying hazards...</td>\n",
       "      <td>[25 \\n \\nshould develop the workers confidence...</td>\n",
       "      <td>Various methods such as total site health and ...</td>\n",
       "      <td>1.000000</td>\n",
       "      <td>0.983844</td>\n",
       "      <td>1.000000</td>\n",
       "      <td>1.000000</td>\n",
       "      <td>0.299227</td>\n",
       "    </tr>\n",
       "    <tr>\n",
       "      <th>5</th>\n",
       "      <td>How can technology and guidelines help reduce ...</td>\n",
       "      <td>Technology and guidelines can help reduce work...</td>\n",
       "      <td>[formulate and reviewed regularly   in the saf...</td>\n",
       "      <td>Technology, such as cloud and mobile technolog...</td>\n",
       "      <td>0.333333</td>\n",
       "      <td>1.000000</td>\n",
       "      <td>1.000000</td>\n",
       "      <td>0.916667</td>\n",
       "      <td>0.706485</td>\n",
       "    </tr>\n",
       "    <tr>\n",
       "      <th>6</th>\n",
       "      <td>What are the risks of arc/flashover hazards an...</td>\n",
       "      <td>The risks of arc/flashover hazards include sev...</td>\n",
       "      <td>[ It takes place due to phase to phase and ph...</td>\n",
       "      <td>Arcing faults in electrical equipment are mult...</td>\n",
       "      <td>1.000000</td>\n",
       "      <td>0.992027</td>\n",
       "      <td>0.666667</td>\n",
       "      <td>0.805556</td>\n",
       "      <td>0.359766</td>\n",
       "    </tr>\n",
       "    <tr>\n",
       "      <th>7</th>\n",
       "      <td>What is the purpose of root cause analysis in ...</td>\n",
       "      <td>The purpose of root cause analysis in incident...</td>\n",
       "      <td>[c. Source of initiation of event \\nd. What sa...</td>\n",
       "      <td>The purpose of root cause analysis in incident...</td>\n",
       "      <td>1.000000</td>\n",
       "      <td>0.945813</td>\n",
       "      <td>1.000000</td>\n",
       "      <td>1.000000</td>\n",
       "      <td>0.849732</td>\n",
       "    </tr>\n",
       "    <tr>\n",
       "      <th>8</th>\n",
       "      <td>What are some avoidable risks to employee safe...</td>\n",
       "      <td>Some avoidable risks to employee safety throug...</td>\n",
       "      <td>[maintenance. \\n \\nSome examples include the f...</td>\n",
       "      <td>Some avoidable risks to employee safety throug...</td>\n",
       "      <td>1.000000</td>\n",
       "      <td>1.000000</td>\n",
       "      <td>1.000000</td>\n",
       "      <td>1.000000</td>\n",
       "      <td>0.849197</td>\n",
       "    </tr>\n",
       "  </tbody>\n",
       "</table>\n",
       "</div>"
      ],
      "text/plain": [
       "                                            question  \\\n",
       "0  How can safety pamphlets be used to inform con...   \n",
       "1  How does safety training enhance workers' safe...   \n",
       "2  What methods should be used to protect workers...   \n",
       "3  What measures are recommended for safe handlin...   \n",
       "4  How can various methods aid in identifying haz...   \n",
       "5  How can technology and guidelines help reduce ...   \n",
       "6  What are the risks of arc/flashover hazards an...   \n",
       "7  What is the purpose of root cause analysis in ...   \n",
       "8  What are some avoidable risks to employee safe...   \n",
       "\n",
       "                                              answer  \\\n",
       "0  Safety pamphlets can be used to inform constru...   \n",
       "1  Safety training enhances workers' safety compe...   \n",
       "2  i. Limit exposure.\\nii. Substitute less hazard...   \n",
       "3  The recommended measures for safe handling and...   \n",
       "4  Various methods can aid in identifying hazards...   \n",
       "5  Technology and guidelines can help reduce work...   \n",
       "6  The risks of arc/flashover hazards include sev...   \n",
       "7  The purpose of root cause analysis in incident...   \n",
       "8  Some avoidable risks to employee safety throug...   \n",
       "\n",
       "                                            contexts  \\\n",
       "0  [160 \\n \\nFig.21.1. Steps in chemical manageme...   \n",
       "1  [43 \\n \\nChapter 7 \\nTRAINING AND EDUCATION  \\...   \n",
       "2  [157 \\n \\nwhere fibrous structures and scar ti...   \n",
       "3  [160 \\n \\nFig.21.1. Steps in chemical manageme...   \n",
       "4  [25 \\n \\nshould develop the workers confidence...   \n",
       "5  [formulate and reviewed regularly   in the saf...   \n",
       "6  [ It takes place due to phase to phase and ph...   \n",
       "7  [c. Source of initiation of event \\nd. What sa...   \n",
       "8  [maintenance. \\n \\nSome examples include the f...   \n",
       "\n",
       "                                        ground_truth  faithfulness  \\\n",
       "0  Safety pamphlets can be used as a communicatio...      1.000000   \n",
       "1  Safety training enhances workers' safety compe...      1.000000   \n",
       "2  The methods that should be used to protect wor...      1.000000   \n",
       "3  The measures recommended for safe handling and...      0.875000   \n",
       "4  Various methods such as total site health and ...      1.000000   \n",
       "5  Technology, such as cloud and mobile technolog...      0.333333   \n",
       "6  Arcing faults in electrical equipment are mult...      1.000000   \n",
       "7  The purpose of root cause analysis in incident...      1.000000   \n",
       "8  Some avoidable risks to employee safety throug...      1.000000   \n",
       "\n",
       "   answer_relevancy  context_recall  context_precision  answer_correctness  \n",
       "0          1.000000        1.000000           1.000000            0.497016  \n",
       "1          1.000000        1.000000           0.805556            0.622839  \n",
       "2          0.948765        1.000000           0.805556            0.984617  \n",
       "3          0.972037        1.000000           1.000000            0.365432  \n",
       "4          0.983844        1.000000           1.000000            0.299227  \n",
       "5          1.000000        1.000000           0.916667            0.706485  \n",
       "6          0.992027        0.666667           0.805556            0.359766  \n",
       "7          0.945813        1.000000           1.000000            0.849732  \n",
       "8          1.000000        1.000000           1.000000            0.849197  "
      ]
     },
     "execution_count": 54,
     "metadata": {},
     "output_type": "execute_result"
    }
   ],
   "source": [
    "results_df = results.to_pandas()\n",
    "results_df"
   ]
  }
 ],
 "metadata": {
  "kernelspec": {
   "display_name": "Python 3 (ipykernel)",
   "language": "python",
   "name": "python3"
  },
  "language_info": {
   "codemirror_mode": {
    "name": "ipython",
    "version": 3
   },
   "file_extension": ".py",
   "mimetype": "text/x-python",
   "name": "python",
   "nbconvert_exporter": "python",
   "pygments_lexer": "ipython3",
   "version": "3.11.8"
  }
 },
 "nbformat": 4,
 "nbformat_minor": 5
}
