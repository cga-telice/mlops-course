{
  "cells": [
    {
      "cell_type": "markdown",
      "metadata": {
        "id": "KLVPYqpx64SA"
      },
      "source": [
        "### ⚠ IMPORTANT ⚠\n",
        "\n",
        "You will need at least 15GB of VRAM (GPU RAM) to run this notebook.\n",
        "\n",
        "If you're running this locally - please ensure you have the correct hardware to support the fine-tuning."
      ]
    },
    {
      "cell_type": "markdown",
      "metadata": {
        "id": "LcHIaw2A7ZDo"
      },
      "source": [
        "# Task Fine-tuning a GPT-style model using `peft`, `transformers` and `bitsandbytes`\n",
        "\n",
        "In the following notebook, we'll task fine-tune a GPT-style model on the summarization task using:\n",
        "\n",
        "- [QLoRA](https://arxiv.org/pdf/2305.14314.pdf)/[LoRA](https://arxiv.org/pdf/2106.09685.pdf)\n",
        "\n",
        "The basic idea is that we will fine-tune an \"adapter\" which will represent a small subset of trainable weights on our task. This will allow us to instruct-tune a comparitively large model with consumer level resources.\n",
        "\n",
        "The model we'll be instruct-tuning today is [`mistralai/Mistral-7B-Instruct-v0.2`](https://huggingface.co/mistralai/Mistral-7B-Instruct-v0.2)!"
      ]
    },
    {
      "cell_type": "markdown",
      "metadata": {
        "id": "OAYkA8oxzytn"
      },
      "source": [
        "#### ❓Question #1:\n",
        "\n",
        "What makes Mistral-7B-Instruct-v0.2 a good model to use for a summarization task?"
      ]
    },
    {
      "cell_type": "markdown",
      "metadata": {
        "id": "hqGcgWVq7I5l"
      },
      "source": [
        "### Overview of PEFT and LoRA:\n",
        "\n",
        "Based on some awesome research [here](https://github.com/huggingface/peft), we can leverage techniques like PEFT and LoRA to train/fine-tune large models a lot more efficiently.\n",
        "\n",
        "It can't be explained much better than the overview given in the above link:\n",
        "\n",
        "```\n",
        "Parameter-Efficient Fine-Tuning (PEFT) methods enable efficient adaptation of\n",
        "pre-trained language models (PLMs) to various downstream applications without\n",
        "fine-tuning all the model's parameters. Fine-tuning large-scale PLMs is often\n",
        "prohibitively costly. In this regard, PEFT methods only fine-tune a small\n",
        "number of (extra) model parameters, thereby greatly decreasing the\n",
        "computational and storage costs. Recent State-of-the-Art PEFT techniques\n",
        "achieve performance comparable to that of full fine-tuning.\n",
        "```"
      ]
    },
    {
      "cell_type": "markdown",
      "metadata": {
        "id": "FeM7ktgt6qP_"
      },
      "source": [
        "# 🤝 Breakout #1"
      ]
    },
    {
      "cell_type": "markdown",
      "metadata": {
        "id": "dWhsAldJ5jlk"
      },
      "source": [
        "### Setting Up Dependencies\n",
        "\n",
        "We'll start by setting up the dependencies!"
      ]
    },
    {
      "cell_type": "code",
      "execution_count": null,
      "metadata": {
        "colab": {
          "base_uri": "https://localhost:8080/"
        },
        "id": "_hYu_1WI7CkD",
        "outputId": "b98d4ddf-3ab8-421b-8a69-f3e194984019"
      },
      "outputs": [
        {
          "name": "stdout",
          "output_type": "stream",
          "text": [
            "\u001b[2K     \u001b[90m━━━━━━━━━━━━━━━━━━━━━━━━━━━━━━━━━━━━━━━━\u001b[0m \u001b[32m105.0/105.0 MB\u001b[0m \u001b[31m15.7 MB/s\u001b[0m eta \u001b[36m0:00:00\u001b[0m\n",
            "\u001b[2K     \u001b[90m━━━━━━━━━━━━━━━━━━━━━━━━━━━━━━━━━━━━━━━━\u001b[0m \u001b[32m536.7/536.7 kB\u001b[0m \u001b[31m38.1 MB/s\u001b[0m eta \u001b[36m0:00:00\u001b[0m\n",
            "\u001b[2K     \u001b[90m━━━━━━━━━━━━━━━━━━━━━━━━━━━━━━━━━━━━━━━━\u001b[0m \u001b[32m280.0/280.0 kB\u001b[0m \u001b[31m26.8 MB/s\u001b[0m eta \u001b[36m0:00:00\u001b[0m\n",
            "\u001b[2K     \u001b[90m━━━━━━━━━━━━━━━━━━━━━━━━━━━━━━━━━━━━━━━━\u001b[0m \u001b[32m183.4/183.4 kB\u001b[0m \u001b[31m22.9 MB/s\u001b[0m eta \u001b[36m0:00:00\u001b[0m\n",
            "\u001b[2K     \u001b[90m━━━━━━━━━━━━━━━━━━━━━━━━━━━━━━━━━━━━━━━━\u001b[0m \u001b[32m8.5/8.5 MB\u001b[0m \u001b[31m102.5 MB/s\u001b[0m eta \u001b[36m0:00:00\u001b[0m\n",
            "\u001b[2K     \u001b[90m━━━━━━━━━━━━━━━━━━━━━━━━━━━━━━━━━━━━━━━━\u001b[0m \u001b[32m155.3/155.3 kB\u001b[0m \u001b[31m20.0 MB/s\u001b[0m eta \u001b[36m0:00:00\u001b[0m\n",
            "\u001b[2K     \u001b[90m━━━━━━━━━━━━━━━━━━━━━━━━━━━━━━━━━━━━━━━━\u001b[0m \u001b[32m116.3/116.3 kB\u001b[0m \u001b[31m14.9 MB/s\u001b[0m eta \u001b[36m0:00:00\u001b[0m\n",
            "\u001b[2K     \u001b[90m━━━━━━━━━━━━━━━━━━━━━━━━━━━━━━━━━━━━━━━━\u001b[0m \u001b[32m134.8/134.8 kB\u001b[0m \u001b[31m19.2 MB/s\u001b[0m eta \u001b[36m0:00:00\u001b[0m\n",
            "\u001b[2K     \u001b[90m━━━━━━━━━━━━━━━━━━━━━━━━━━━━━━━━━━━━━━━━\u001b[0m \u001b[32m79.8/79.8 kB\u001b[0m \u001b[31m10.6 MB/s\u001b[0m eta \u001b[36m0:00:00\u001b[0m\n",
            "\u001b[?25h"
          ]
        }
      ],
      "source": [
        "!pip install -qU bitsandbytes datasets accelerate loralib peft transformers trl"
      ]
    },
    {
      "cell_type": "markdown",
      "metadata": {
        "id": "BxBKz4qY9tHa"
      },
      "source": [
        "We'll first verify we're in a GPU instance."
      ]
    },
    {
      "cell_type": "code",
      "execution_count": null,
      "metadata": {
        "colab": {
          "base_uri": "https://localhost:8080/"
        },
        "id": "4p6AAvhS7_QK",
        "outputId": "06ee7dae-b7a1-4a51-b177-2057c2e6d5bb"
      },
      "outputs": [
        {
          "data": {
            "text/plain": [
              "True"
            ]
          },
          "execution_count": 1,
          "metadata": {},
          "output_type": "execute_result"
        }
      ],
      "source": [
        "import torch\n",
        "torch.cuda.is_available()"
      ]
    },
    {
      "cell_type": "markdown",
      "metadata": {
        "id": "lKENlsCg9wEj"
      },
      "source": [
        "Time to import some dependencies!"
      ]
    },
    {
      "cell_type": "code",
      "execution_count": null,
      "metadata": {
        "id": "gSXLjUd28II6"
      },
      "outputs": [],
      "source": [
        "import os\n",
        "os.environ[\"CUDA_VISIBLE_DEVICES\"]=\"0\"\n",
        "import torch\n",
        "import torch.nn as nn\n",
        "import bitsandbytes as bnb\n",
        "from transformers import AutoTokenizer, AutoConfig, AutoModelForCausalLM, BitsAndBytesConfig"
      ]
    },
    {
      "cell_type": "markdown",
      "metadata": {
        "id": "dB-idiGO51Pf"
      },
      "source": [
        "## Task #1: Loading the Model\n",
        "\n",
        "In the following task you will be expected to load the model from Hugging Face."
      ]
    },
    {
      "cell_type": "markdown",
      "metadata": {
        "id": "-kRnvzynAKm3"
      },
      "source": [
        "### Overview of Quantization:\n",
        "\n",
        "Quantization is ultimately a simple concept with some very clever and tricky techniques that power it.\n",
        "\n",
        "In today's notebook, we'll be exclusively focusing on the `bitsandbytes` quantization strategy which includes the idea of `k-bit` training.\n",
        "\n",
        "Let's look at the QLoRA paper's definition of quantization:\n",
        "\n",
        "\n",
        "```\n",
        "Quantization is the process of discretizing an input from a representation that\n",
        "holds more information to a representation with less information\n",
        "```\n",
        "\n",
        "Easy enough then!\n",
        "\n",
        "Let's take a look at what that actually means."
      ]
    },
    {
      "cell_type": "markdown",
      "metadata": {
        "id": "GEfa7xxROTsZ"
      },
      "source": [
        "### Block-wise k-bit Quantization\n",
        "\n",
        "Ultimately, the QLoRA paper relies on a very specific form of quantization that relies on a few key ideas:\n",
        "\n",
        "1. Model weights are mostly normally distributed\n",
        "2. NF4 is a information-theoretically optimal data-type (this was later found to be [untrue](https://x.com/Tim_Dettmers/status/1668649436724199425?s=20), but NF4 is close to *empirically* optimal)\n",
        "\n",
        "\n",
        "Let's think about quantization from a very high level - and use some oversimplifications to understand what's really happening under the hood.\n",
        "\n",
        "In essence, we can think of quantization as placing a pin on the number line (our quantization constant) and then expressing a low-precision zero-centered size-64 block range around that pinned number. Exploiting the fact that our weights are normally distributed and that we scale them to be in the range [-1, 1], this lets use use our NF4 datatype to roughly optimally express our high precision weights in a low precision format. While we still do need *some* higher precision numbers - this process lets use represent many numbers in low precision for the cost of 1 number in high precision.\n",
        "\n",
        "However, we can take it one step further - and we can actually quantize the range of quantization constants we wind up with as well! This winds up saving us ~0.373 bits per parameter."
      ]
    },
    {
      "cell_type": "markdown",
      "metadata": {
        "id": "n767TbH99y_S"
      },
      "source": [
        "Leveraging the work done in [QLoRA](https://arxiv.org/pdf/2305.14314.pdf) means we need to set some specific hyper-parameters for our [`quantization_config`](https://github.com/huggingface/transformers/blob/2fc33ebead50383f7707b17f0e2a178d86347d10/src/transformers/utils/quantization_config.py#L151).\n",
        "\n",
        "- `load_in_4bit` - we'll want to set this to true so we can load and train our model on a single 40GB GPU.\n",
        "- `bnb_4bit_quant_type` - setting this to the desired format of `nf4` will ensure we're using the most memory efficient datatype for 4bit storage.\n",
        "- `bnb_double_quant` - setting this to true will save us memory by quantizing the quantization config\n",
        "- `bnb_4bit_compute_dtype` - since we will not use a 4-bit representation to compute, we need to provide a desired format for our compute type so our weights can be upcast to something while we flow information through our network.\n",
        "\n"
      ]
    },
    {
      "cell_type": "code",
      "execution_count": null,
      "metadata": {
        "id": "pAO9CUR_8bIH"
      },
      "outputs": [],
      "source": [
        "bnb_config = BitsAndBytesConfig(\n",
        "    load_in_4bit=True,\n",
        "    bnb_4bit_quant_type=\"nf4\",\n",
        "    bnb_double_quant=True,\n",
        "    bnb_4bit_compute_dtype=torch.float16,\n",
        ")"
      ]
    },
    {
      "cell_type": "markdown",
      "metadata": {
        "id": "tjLzuU7kAiez"
      },
      "source": [
        "Now we can load the model."
      ]
    },
    {
      "cell_type": "code",
      "execution_count": null,
      "metadata": {
        "colab": {
          "base_uri": "https://localhost:8080/",
          "height": 153,
          "referenced_widgets": [
            "41898678bb4e4c1294f27fa9b91ea4c5",
            "e45c6d73325f42b58b5a0910273fa918",
            "9413b1f0928c40b2a98a689b24998ec8",
            "30ca5ee4ad664286976531ddc472a246",
            "3b335478bc1c4fc08a2966039800f743",
            "e4df123fa442428aa6f28148e2384452",
            "58381d6e91c04e3683c1015b8aa76d8a",
            "b99076c778b9469091ee356a3e121ad4",
            "b6d9b660332b404f9f52c3739a7fd771",
            "41c4ce4280814c949e05b9cd4f9e1e48",
            "dd8134b2417d4dc2b48d6d6d5ecb55fb"
          ]
        },
        "id": "N9yU8vbs8jpX",
        "outputId": "3e6fd3d5-3ed5-4895-f746-6b9de53c61ae"
      },
      "outputs": [
        {
          "name": "stderr",
          "output_type": "stream",
          "text": [
            "/usr/local/lib/python3.10/dist-packages/huggingface_hub/utils/_token.py:88: UserWarning: \n",
            "The secret `HF_TOKEN` does not exist in your Colab secrets.\n",
            "To authenticate with the Hugging Face Hub, create a token in your settings tab (https://huggingface.co/settings/tokens), set it as secret in your Google Colab and restart your session.\n",
            "You will be able to reuse this secret in all of your notebooks.\n",
            "Please note that authentication is recommended but still optional to access public models or datasets.\n",
            "  warnings.warn(\n"
          ]
        },
        {
          "data": {
            "application/vnd.jupyter.widget-view+json": {
              "model_id": "41898678bb4e4c1294f27fa9b91ea4c5",
              "version_major": 2,
              "version_minor": 0
            },
            "text/plain": [
              "Loading checkpoint shards:   0%|          | 0/3 [00:00<?, ?it/s]"
            ]
          },
          "metadata": {},
          "output_type": "display_data"
        }
      ],
      "source": [
        "model_id = \"mistralai/Mistral-7B-Instruct-v0.2\"\n",
        "\n",
        "model = AutoModelForCausalLM.from_pretrained(\n",
        "    model_id,\n",
        "    quantization_config=bnb_config,\n",
        "    device_map='auto',\n",
        ")"
      ]
    },
    {
      "cell_type": "code",
      "execution_count": null,
      "metadata": {
        "id": "lZ5IYoVuU9om"
      },
      "outputs": [],
      "source": [
        "tokenizer = AutoTokenizer.from_pretrained(model_id)"
      ]
    },
    {
      "cell_type": "code",
      "execution_count": null,
      "metadata": {
        "id": "MYafv_k-8rvj"
      },
      "outputs": [],
      "source": [
        "tokenizer.pad_token = tokenizer.unk_token\n",
        "tokenizer.padding_side = \"right\""
      ]
    },
    {
      "cell_type": "markdown",
      "metadata": {
        "id": "R6TnjLfZ-0gt"
      },
      "source": [
        "### Model Architecture\n",
        "\n",
        "It's important to observe the model's construction!\n",
        "\n",
        "This one should look familiar!"
      ]
    },
    {
      "cell_type": "code",
      "execution_count": null,
      "metadata": {
        "colab": {
          "base_uri": "https://localhost:8080/"
        },
        "id": "NA2Qcp-KCtZI",
        "outputId": "ccefe272-5b3c-4d70-adfd-3bc55bf2467a"
      },
      "outputs": [
        {
          "name": "stdout",
          "output_type": "stream",
          "text": [
            "MistralForCausalLM(\n",
            "  (model): MistralModel(\n",
            "    (embed_tokens): Embedding(32000, 4096)\n",
            "    (layers): ModuleList(\n",
            "      (0-31): 32 x MistralDecoderLayer(\n",
            "        (self_attn): MistralAttention(\n",
            "          (q_proj): Linear4bit(in_features=4096, out_features=4096, bias=False)\n",
            "          (k_proj): Linear4bit(in_features=4096, out_features=1024, bias=False)\n",
            "          (v_proj): Linear4bit(in_features=4096, out_features=1024, bias=False)\n",
            "          (o_proj): Linear4bit(in_features=4096, out_features=4096, bias=False)\n",
            "          (rotary_emb): MistralRotaryEmbedding()\n",
            "        )\n",
            "        (mlp): MistralMLP(\n",
            "          (gate_proj): Linear4bit(in_features=4096, out_features=14336, bias=False)\n",
            "          (up_proj): Linear4bit(in_features=4096, out_features=14336, bias=False)\n",
            "          (down_proj): Linear4bit(in_features=14336, out_features=4096, bias=False)\n",
            "          (act_fn): SiLU()\n",
            "        )\n",
            "        (input_layernorm): MistralRMSNorm()\n",
            "        (post_attention_layernorm): MistralRMSNorm()\n",
            "      )\n",
            "    )\n",
            "    (norm): MistralRMSNorm()\n",
            "  )\n",
            "  (lm_head): Linear(in_features=4096, out_features=32000, bias=False)\n",
            ")\n"
          ]
        }
      ],
      "source": [
        "print(model)"
      ]
    },
    {
      "cell_type": "code",
      "execution_count": null,
      "metadata": {
        "colab": {
          "base_uri": "https://localhost:8080/"
        },
        "id": "qBgj1TEi-6DL",
        "outputId": "204c8461-abac-4ea0-8f9d-e70c77dd9114"
      },
      "outputs": [
        {
          "data": {
            "text/plain": [
              "MistralConfig {\n",
              "  \"_name_or_path\": \"mistralai/Mistral-7B-Instruct-v0.2\",\n",
              "  \"architectures\": [\n",
              "    \"MistralForCausalLM\"\n",
              "  ],\n",
              "  \"attention_dropout\": 0.0,\n",
              "  \"bos_token_id\": 1,\n",
              "  \"eos_token_id\": 2,\n",
              "  \"hidden_act\": \"silu\",\n",
              "  \"hidden_size\": 4096,\n",
              "  \"initializer_range\": 0.02,\n",
              "  \"intermediate_size\": 14336,\n",
              "  \"max_position_embeddings\": 32768,\n",
              "  \"model_type\": \"mistral\",\n",
              "  \"num_attention_heads\": 32,\n",
              "  \"num_hidden_layers\": 32,\n",
              "  \"num_key_value_heads\": 8,\n",
              "  \"quantization_config\": {\n",
              "    \"_load_in_4bit\": true,\n",
              "    \"_load_in_8bit\": false,\n",
              "    \"bnb_4bit_compute_dtype\": \"float16\",\n",
              "    \"bnb_4bit_quant_type\": \"nf4\",\n",
              "    \"bnb_4bit_use_double_quant\": false,\n",
              "    \"llm_int8_enable_fp32_cpu_offload\": false,\n",
              "    \"llm_int8_has_fp16_weight\": false,\n",
              "    \"llm_int8_skip_modules\": null,\n",
              "    \"llm_int8_threshold\": 6.0,\n",
              "    \"load_in_4bit\": true,\n",
              "    \"load_in_8bit\": false,\n",
              "    \"quant_method\": \"bitsandbytes\"\n",
              "  },\n",
              "  \"rms_norm_eps\": 1e-05,\n",
              "  \"rope_theta\": 1000000.0,\n",
              "  \"sliding_window\": null,\n",
              "  \"tie_word_embeddings\": false,\n",
              "  \"torch_dtype\": \"bfloat16\",\n",
              "  \"transformers_version\": \"4.38.1\",\n",
              "  \"use_cache\": true,\n",
              "  \"vocab_size\": 32000\n",
              "}"
            ]
          },
          "execution_count": 8,
          "metadata": {},
          "output_type": "execute_result"
        }
      ],
      "source": [
        "model.config"
      ]
    },
    {
      "cell_type": "markdown",
      "metadata": {
        "id": "nsuhWmPK-9-u"
      },
      "source": [
        "#### ❓Question #2:\n",
        "\n",
        "![image](https://i.imgur.com/N8y2crZ.png)\n",
        "\n",
        "Label the image with the appropriate layer from `mistralai/Mistral-7B-Instruct-v0.2`'s architecture.\n",
        "\n",
        "- EXAMPLE - Layer Norm: `post_attention_layernorm`/`input_layernorm`\n",
        "- Feed Forward:\n",
        "- Masked Multi Self-Attention:\n",
        "- Text & Position Embed:\n",
        "- Text Prediction:"
      ]
    },
    {
      "cell_type": "markdown",
      "metadata": {
        "id": "ohfBuGZ16fT8"
      },
      "source": [
        "# 🤝 Breakout #2:"
      ]
    },
    {
      "cell_type": "markdown",
      "metadata": {
        "id": "VzBFKvsDCV2S"
      },
      "source": [
        "## Task #2: Data and Data Preparation\n",
        "\n",
        "Since we'll be focusing on summarization fine-tuning - we'll need to find a summarization dataset!\n",
        "\n",
        "There are a few good examples available to use on the Hugging Face [dataset](https://huggingface.co/datasets?task_categories=task_categories:summarization&sort=trending) hub - let's check a few of them out!\n",
        "\n",
        "> NOTE: The link above is pre-filtered to include datasets with the summarization tag"
      ]
    },
    {
      "cell_type": "markdown",
      "metadata": {
        "id": "3X2uybuiJEIF"
      },
      "source": [
        "### Summarization Datasets\n",
        "\n",
        "Let's see what is available for us:\n",
        "\n",
        "- [`databricks/databricks-dolly-15k`](https://huggingface.co/datasets/databricks/databricks-dolly-15k)\n",
        "  - this dataset is comprised of ~15K rows of various tasks of which ~7% is summarization data\n",
        "- [`samsum`](https://huggingface.co/datasets/samsum)\n",
        "  - this dataset contains ~16K conversations in messenger format as well as their summaries\n",
        "- [`CohereForAI/aya_collection`](https://huggingface.co/datasets/CohereForAI/aya_collection)\n",
        "  - similar to Dolly-15K, this dataset contains a wide range of *multilingual* tasks - a subset of which is summarization\n",
        "\n",
        "For simplicities sake - we'll stick with the `samsum` (here's the [paper](https://arxiv.org/abs/1911.12237v2)) dataset as it's a focused summarization dataset.\n",
        "\n",
        "The first step will be to load the dataset!\n",
        "\n",
        "> NOTE: While we're going to use a subset of the data for illustrative reasons  - you could use the full dataset and train the model on the task to completion"
      ]
    },
    {
      "cell_type": "code",
      "execution_count": null,
      "metadata": {
        "id": "iSN7Ht0jCbuu"
      },
      "outputs": [],
      "source": [
        "from datasets import load_dataset\n",
        "\n",
        "dataset_name = \"samsum\"\n",
        "dataset = load_dataset(dataset_name)"
      ]
    },
    {
      "cell_type": "markdown",
      "metadata": {
        "id": "9zlbhGCKLmI8"
      },
      "source": [
        "Let's check how many items we have in each of our training, validation, and test subsets."
      ]
    },
    {
      "cell_type": "code",
      "execution_count": null,
      "metadata": {
        "colab": {
          "base_uri": "https://localhost:8080/"
        },
        "id": "TjK2stUKLdwK",
        "outputId": "c26d537e-0b23-4aec-944c-5cebe7227fd5"
      },
      "outputs": [
        {
          "data": {
            "text/plain": [
              "DatasetDict({\n",
              "    train: Dataset({\n",
              "        features: ['id', 'dialogue', 'summary'],\n",
              "        num_rows: 14732\n",
              "    })\n",
              "    test: Dataset({\n",
              "        features: ['id', 'dialogue', 'summary'],\n",
              "        num_rows: 819\n",
              "    })\n",
              "    validation: Dataset({\n",
              "        features: ['id', 'dialogue', 'summary'],\n",
              "        num_rows: 818\n",
              "    })\n",
              "})"
            ]
          },
          "execution_count": 10,
          "metadata": {},
          "output_type": "execute_result"
        }
      ],
      "source": [
        "dataset"
      ]
    },
    {
      "cell_type": "markdown",
      "metadata": {
        "id": "UQ2xiBXpLqjh"
      },
      "source": [
        "We'll select only a small portion of each in order to keep our example reasonable."
      ]
    },
    {
      "cell_type": "code",
      "execution_count": null,
      "metadata": {
        "id": "COu4oraqJwtT"
      },
      "outputs": [],
      "source": [
        "dataset[\"test\"] = dataset[\"test\"].select(range(50))"
      ]
    },
    {
      "cell_type": "code",
      "execution_count": null,
      "metadata": {
        "id": "v6C7BNtWLQa2"
      },
      "outputs": [],
      "source": [
        "dataset[\"train\"] = dataset[\"train\"].select(range(1000))"
      ]
    },
    {
      "cell_type": "code",
      "execution_count": null,
      "metadata": {
        "id": "_KsfXGRMLXDd"
      },
      "outputs": [],
      "source": [
        "dataset[\"validation\"] = dataset[\"validation\"].select(range(50))"
      ]
    },
    {
      "cell_type": "code",
      "execution_count": null,
      "metadata": {
        "colab": {
          "base_uri": "https://localhost:8080/"
        },
        "id": "rIJx_DebLU1Y",
        "outputId": "89e9c6be-2ec3-4601-91a2-bd0e3d502982"
      },
      "outputs": [
        {
          "data": {
            "text/plain": [
              "DatasetDict({\n",
              "    train: Dataset({\n",
              "        features: ['id', 'dialogue', 'summary'],\n",
              "        num_rows: 1000\n",
              "    })\n",
              "    test: Dataset({\n",
              "        features: ['id', 'dialogue', 'summary'],\n",
              "        num_rows: 50\n",
              "    })\n",
              "    validation: Dataset({\n",
              "        features: ['id', 'dialogue', 'summary'],\n",
              "        num_rows: 50\n",
              "    })\n",
              "})"
            ]
          },
          "execution_count": 14,
          "metadata": {},
          "output_type": "execute_result"
        }
      ],
      "source": [
        "dataset"
      ]
    },
    {
      "cell_type": "markdown",
      "metadata": {
        "id": "VV-FaXKSMTCq"
      },
      "source": [
        "Let's look at a single example to see the format we're working with!"
      ]
    },
    {
      "cell_type": "code",
      "execution_count": null,
      "metadata": {
        "colab": {
          "base_uri": "https://localhost:8080/"
        },
        "id": "scuhjiffMWi5",
        "outputId": "ff5e8ac4-bd9b-45d7-92cc-1b567c9c8179"
      },
      "outputs": [
        {
          "data": {
            "text/plain": [
              "{'id': '13818513',\n",
              " 'dialogue': \"Amanda: I baked  cookies. Do you want some?\\r\\nJerry: Sure!\\r\\nAmanda: I'll bring you tomorrow :-)\",\n",
              " 'summary': 'Amanda baked cookies and will bring Jerry some tomorrow.'}"
            ]
          },
          "execution_count": 15,
          "metadata": {},
          "output_type": "execute_result"
        }
      ],
      "source": [
        "dataset[\"train\"][0]"
      ]
    },
    {
      "cell_type": "markdown",
      "metadata": {
        "id": "zArIo4DzNkY5"
      },
      "source": [
        "We want to put our data in the format:\n",
        "\n",
        "```\n",
        "<s>[INST]Provide a summary of the following text:\n",
        "\n",
        "[INPUT_TEXT_START]\n",
        "TEXT_TO_SUMMARIZE\n",
        "[INPUT_TEXT_END]\n",
        "\n",
        "[/INST]\n",
        "\n",
        "SUMMARY</s>\n",
        "```\n",
        "\n",
        "The more general idea here is that we want to show our model examples of a prompt, and its completion.\n",
        "\n",
        "Here's a specific example!\n",
        "\n",
        "```\n",
        "<s>[INST]Provide a summary of the following text:\n",
        "\n",
        "[INPUT_TEXT_START]\n",
        "Amanda: I baked  cookies. Do you want some?\\r\\nJerry: Sure!\\r\\nAmanda: I'll bring you tomorrow :-)\n",
        "[INPUT_TEXT_END]\n",
        "\n",
        "[/INST]\n",
        "\n",
        "Amanda baked cookies and will bring Jerry some tomorrow.</s>\n",
        "```"
      ]
    },
    {
      "cell_type": "markdown",
      "metadata": {
        "id": "omfhGFFS140q"
      },
      "source": [
        "#### 🏗️ Activity #1: Creating the `create_prompt` function\n",
        "\n",
        "We'll create a function that will take a row of our dataset, along with a default False flag that creates the prompt in the format expressed above."
      ]
    },
    {
      "cell_type": "code",
      "execution_count": null,
      "metadata": {
        "id": "2dNUqlGVCir7"
      },
      "outputs": [],
      "source": [
        "def create_prompt(sample, include_response = True):\n",
        "  \"\"\"\n",
        "  Parameters:\n",
        "    - sample: dict representing row of dataset\n",
        "    - include_response: bool\n",
        "\n",
        "  Functionality:\n",
        "    This function should build the Python str `full_prompt`.\n",
        "\n",
        "    If `include_response` is true, it should include the summary -\n",
        "    else it should not contain the summary (useful for prompting) and testing\n",
        "\n",
        "  Returns:\n",
        "    - full_prompt: str\n",
        "  \"\"\"\n",
        "\n",
        "  ### YOUR CODE HERE\n",
        "\n",
        "  return full_prompt"
      ]
    },
    {
      "cell_type": "code",
      "execution_count": null,
      "metadata": {
        "colab": {
          "base_uri": "https://localhost:8080/"
        },
        "id": "BzI2Q3POEvJe",
        "outputId": "655aefb0-e3ce-4adb-dcc9-8fd8649e7c91"
      },
      "outputs": [
        {
          "name": "stdout",
          "output_type": "stream",
          "text": [
            "<s>[INST]Provide a summary of the following text:\n",
            "\n",
            "[INPUT_TEXT_START]\n",
            "Eric: MACHINE!\r\n",
            "Rob: That's so gr8!\r\n",
            "Eric: I know! And shows how Americans see Russian ;)\r\n",
            "Rob: And it's really funny!\r\n",
            "Eric: I know! I especially like the train part!\r\n",
            "Rob: Hahaha! No one talks to the machine like that!\r\n",
            "Eric: Is this his only stand-up?\r\n",
            "Rob: Idk. I'll check.\r\n",
            "Eric: Sure.\r\n",
            "Rob: Turns out no! There are some of his stand-ups on youtube.\r\n",
            "Eric: Gr8! I'll watch them now!\r\n",
            "Rob: Me too!\r\n",
            "Eric: MACHINE!\r\n",
            "Rob: MACHINE!\r\n",
            "Eric: TTYL?\r\n",
            "Rob: Sure :)\n",
            "[INPUT_TEXT_END]\n",
            "\n",
            "[/INST]\n",
            "\n",
            "Eric and Rob are going to watch a stand-up on youtube.</s>\n"
          ]
        }
      ],
      "source": [
        "print(create_prompt(dataset[\"test\"][1]))"
      ]
    },
    {
      "cell_type": "code",
      "execution_count": null,
      "metadata": {
        "id": "mERZFXCdFLgI"
      },
      "outputs": [],
      "source": [
        "def generate_response(prompt, model, tokenizer):\n",
        "  \"\"\"\n",
        "  Parameters:\n",
        "    - prompt: str representing formatted prompt\n",
        "    - model: model object\n",
        "    - tokenizer: tokenizer object\n",
        "\n",
        "  Functionality:\n",
        "    This will allow our model to generate a response to a prompt!\n",
        "\n",
        "  Returns:\n",
        "    - str response of the model\n",
        "  \"\"\"\n",
        "\n",
        "  # convert str input into tokenized input\n",
        "  encoded_input = tokenizer(prompt,  return_tensors=\"pt\")\n",
        "\n",
        "  # send the tokenized inputs to our GPU\n",
        "  model_inputs = encoded_input.to('cuda')\n",
        "\n",
        "  # generate response and set desired generation parameters\n",
        "  generated_ids = model.generate(\n",
        "      **model_inputs,\n",
        "      max_new_tokens=256,\n",
        "      do_sample=True,\n",
        "      pad_token_id=tokenizer.eos_token_id\n",
        "  )\n",
        "\n",
        "  # decode output from tokenized output to str output\n",
        "  decoded_output = tokenizer.batch_decode(generated_ids)\n",
        "\n",
        "  # return only the generated response (not the prompt) as output\n",
        "  return decoded_output[0].split(\"[/INST]\")[-1]"
      ]
    },
    {
      "cell_type": "code",
      "execution_count": null,
      "metadata": {
        "colab": {
          "base_uri": "https://localhost:8080/",
          "height": 70
        },
        "id": "2JUb6X9UFPbs",
        "outputId": "cae1ee9e-233d-49e8-d63f-3f42ab202890"
      },
      "outputs": [
        {
          "data": {
            "application/vnd.google.colaboratory.intrinsic+json": {
              "type": "string"
            },
            "text/plain": [
              "'Eric and Rob are having a conversation about a stand-up comedy performance by an unnamed comedian named \"Machine.\" They find the performance hilarious, particularly a part involving a train. They discuss how Americans perceive Russians based on the comedy routine. Eric wonders if this is Machine\\'s only stand-up performance, and Rob agrees to help him find more of Machine\\'s comedy content on YouTube. They both express excitement and plan to watch the other performances together. They sign off with the phrase \"talk to you later\" (TTYL) before ending the conversation.</s>'"
            ]
          },
          "execution_count": 19,
          "metadata": {},
          "output_type": "execute_result"
        }
      ],
      "source": [
        "generate_response(create_prompt(dataset[\"test\"][1], include_response=False),\n",
        "                  model,\n",
        "                  tokenizer)"
      ]
    },
    {
      "cell_type": "code",
      "execution_count": null,
      "metadata": {
        "colab": {
          "base_uri": "https://localhost:8080/",
          "height": 35
        },
        "id": "RezcTeu7Ql1J",
        "outputId": "adc307f6-71bb-40e1-d4dd-103e876070dc"
      },
      "outputs": [
        {
          "data": {
            "application/vnd.google.colaboratory.intrinsic+json": {
              "type": "string"
            },
            "text/plain": [
              "'Eric and Rob are going to watch a stand-up on youtube.'"
            ]
          },
          "execution_count": 20,
          "metadata": {},
          "output_type": "execute_result"
        }
      ],
      "source": [
        "# Ground Truth Summary\n",
        "dataset[\"test\"][1][\"summary\"]"
      ]
    },
    {
      "cell_type": "markdown",
      "metadata": {
        "id": "5QvMe4e0erLR"
      },
      "source": [
        "Let's try another just to see how the model responds to a different prompt."
      ]
    },
    {
      "cell_type": "code",
      "execution_count": null,
      "metadata": {
        "colab": {
          "base_uri": "https://localhost:8080/",
          "height": 35
        },
        "id": "894V7SAaevsG",
        "outputId": "f53fdd45-0566-4b0f-89f6-feafd6afb838"
      },
      "outputs": [
        {
          "data": {
            "application/vnd.google.colaboratory.intrinsic+json": {
              "type": "string"
            },
            "text/plain": [
              "\" Emma won't be home for dinner tonight, she has a problem, but she doesn't want Will to worry. She'll let him know when she's home. She'll be coming soon.</s>\""
            ]
          },
          "execution_count": 40,
          "metadata": {},
          "output_type": "execute_result"
        }
      ],
      "source": [
        "generate_response(create_prompt(dataset[\"test\"][3], include_response=False),\n",
        "                  model,\n",
        "                  tokenizer)"
      ]
    },
    {
      "cell_type": "code",
      "execution_count": null,
      "metadata": {
        "colab": {
          "base_uri": "https://localhost:8080/",
          "height": 35
        },
        "id": "TDr329g8eyr_",
        "outputId": "be06106b-498c-463c-856d-068f3e412eb9"
      },
      "outputs": [
        {
          "data": {
            "application/vnd.google.colaboratory.intrinsic+json": {
              "type": "string"
            },
            "text/plain": [
              "'Emma will be home soon and she will let Will know.'"
            ]
          },
          "execution_count": 41,
          "metadata": {},
          "output_type": "execute_result"
        }
      ],
      "source": [
        "# Ground Truth Summary\n",
        "dataset[\"test\"][3][\"summary\"]"
      ]
    },
    {
      "cell_type": "markdown",
      "metadata": {
        "id": "aOJgxPnOQFXp"
      },
      "source": [
        "The response, while an accurate *recounting* of the conversation is certainly not what would be consider to be a summary.\n",
        "\n",
        "Let's see how fine-tuning can improve these responses."
      ]
    },
    {
      "cell_type": "markdown",
      "metadata": {
        "id": "KXNW9sbI_1u_"
      },
      "source": [
        "### Required Post Processing\n",
        "\n",
        "Finally, we need to apply some post-processing on the 4-bit model to enable training, let's freeze all our layers, and cast the layer-norm in `float32` for stability. We also cast the output of the last layer in `float32` for the same reasons.\n",
        "\n",
        "Instead of doing this manually, of course, we can use the helper function `prepare_model_for_kbit_training`! You can look at the source code [here](https://github.com/huggingface/peft/blob/18773290938fc632c42ac49f462ab34bd1abd3ea/src/peft/utils/other.py#L67)"
      ]
    },
    {
      "cell_type": "code",
      "execution_count": null,
      "metadata": {
        "id": "jGn--bDL_2S3"
      },
      "outputs": [],
      "source": [
        "from peft import prepare_model_for_kbit_training\n",
        "model.config.use_cache = False\n",
        "model = prepare_model_for_kbit_training(model)"
      ]
    },
    {
      "cell_type": "markdown",
      "metadata": {
        "id": "m0qk0mSs_7E2"
      },
      "source": [
        "## Task #3: Setting up PEFT LoRA\n",
        "\n",
        "Here comes the magic with `peft`! Let's load a `PeftModel` and specify that we are going to use low-rank adapters (LoRA) using `get_peft_model` utility function from `peft`."
      ]
    },
    {
      "cell_type": "markdown",
      "metadata": {
        "id": "nppxaazH_-hS"
      },
      "source": [
        "#### Helper Function to Print Parameter %age\n",
        "\n",
        "This is just a helper function to print out just how much LoRA reduces the number of trainable parameters."
      ]
    },
    {
      "cell_type": "code",
      "execution_count": null,
      "metadata": {
        "id": "5cpYkvkqAAHw"
      },
      "outputs": [],
      "source": [
        "def print_trainable_parameters(model):\n",
        "    \"\"\"\n",
        "    Prints the number of trainable parameters in the model.\n",
        "    \"\"\"\n",
        "    trainable_params = 0\n",
        "    all_param = 0\n",
        "    for _, param in model.named_parameters():\n",
        "        all_param += param.numel()\n",
        "        if param.requires_grad:\n",
        "            trainable_params += param.numel()\n",
        "    print(\n",
        "        f\"trainable params: {trainable_params} || all params: {all_param} || trainable%: {100 * trainable_params / all_param}\"\n",
        "    )"
      ]
    },
    {
      "cell_type": "markdown",
      "metadata": {
        "id": "5N11Mu9RAEVO"
      },
      "source": [
        "#### Initializing LoRA Config\n",
        "\n",
        "There's a lot to unpack here - so let's talk about the main parameters:\n",
        "\n",
        "- `r`: is the \"rank\" of the two decomposed matrices we'll be using to represent our weight matrix. In reality, this is the dimension of the decomposed matrices.\n",
        "\n",
        "Here is an exerpt from the paper to help provide context for the selected `r`\n",
        "\n",
        "![image.png](data:image/png;base64,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)\n",
        "\n",
        "\n",
        "- `target_modules`: As LoRA can be applied to *any* weight matrix - we need to configure *which* module (weight matrix) it's being applied to. The LoRA paper suggests applying it to the Attention weights, but the QLoRA paper suggests we apply it to all Linear layers. Thus, we'll omit `target_module` from our hyper-parameters.\n",
        "\n",
        "\n",
        "- `task_type`: This is a derived property. If you're using a causal model, this should be set to `CAUSAL_LM`. Please ensure this property is set based on your selected model.\n",
        "\n",
        "Again, while this is the way we're leveraging LoRA in this notebook - it can be used in conjunction with many different models - and many different tasks. You can even use it for tasks like [token classification!](https://huggingface.co/docs/peft/task_guides/token-classification-lora)"
      ]
    },
    {
      "cell_type": "code",
      "execution_count": null,
      "metadata": {
        "id": "xJCsUuo18ts0"
      },
      "outputs": [],
      "source": [
        "from peft import LoraConfig, get_peft_model\n",
        "\n",
        "# set our rank (higher value is more memory/better performance)\n",
        "lora_r = 16\n",
        "\n",
        "# set our dropout (default value)\n",
        "lora_dropout = 0.1\n",
        "\n",
        "# rule of thumb: alpha should be (lora_r * 2)\n",
        "lora_alpha = 32\n",
        "\n",
        "# construct our LoraConfig with the above hyperparameters\n",
        "peft_config = LoraConfig(\n",
        "    lora_alpha=lora_alpha,\n",
        "    lora_dropout=lora_dropout,\n",
        "    r=lora_r,\n",
        "    bias=\"none\",\n",
        "    task_type=\"CAUSAL_LM\"\n",
        ")"
      ]
    },
    {
      "cell_type": "markdown",
      "metadata": {
        "id": "GEYPx-HHBpTI"
      },
      "source": [
        "Now that we have our PEFT config - we need to convert our model into a PEFT model!\n",
        "\n",
        "We can use the convenient helper function `get_peft_model` to do so.\n",
        "\n",
        "Documentation found [here](https://github.com/huggingface/peft/blob/18773290938fc632c42ac49f462ab34bd1abd3ea/src/peft/mapping.py#L98)!"
      ]
    },
    {
      "cell_type": "code",
      "execution_count": null,
      "metadata": {
        "colab": {
          "base_uri": "https://localhost:8080/"
        },
        "id": "I-BrOR1FBcbG",
        "outputId": "97847115-2f23-41c7-f9a5-fd5128195fd4"
      },
      "outputs": [
        {
          "name": "stdout",
          "output_type": "stream",
          "text": [
            "trainable params: 6815744 || all params: 3758886912 || trainable%: 0.18132346515244138\n"
          ]
        }
      ],
      "source": [
        "model = get_peft_model(\n",
        "    model,\n",
        "    peft_config\n",
        ")\n",
        "\n",
        "print_trainable_parameters(model)"
      ]
    },
    {
      "cell_type": "code",
      "execution_count": null,
      "metadata": {
        "colab": {
          "base_uri": "https://localhost:8080/"
        },
        "id": "lwm5wUpN9TJm",
        "outputId": "37789f2f-2112-4b9d-fcae-36a85bde78cf"
      },
      "outputs": [
        {
          "name": "stdout",
          "output_type": "stream",
          "text": [
            "PeftModelForCausalLM(\n",
            "  (base_model): LoraModel(\n",
            "    (model): MistralForCausalLM(\n",
            "      (model): MistralModel(\n",
            "        (embed_tokens): Embedding(32000, 4096)\n",
            "        (layers): ModuleList(\n",
            "          (0-31): 32 x MistralDecoderLayer(\n",
            "            (self_attn): MistralAttention(\n",
            "              (q_proj): lora.Linear4bit(\n",
            "                (base_layer): Linear4bit(in_features=4096, out_features=4096, bias=False)\n",
            "                (lora_dropout): ModuleDict(\n",
            "                  (default): Dropout(p=0.1, inplace=False)\n",
            "                )\n",
            "                (lora_A): ModuleDict(\n",
            "                  (default): Linear(in_features=4096, out_features=16, bias=False)\n",
            "                )\n",
            "                (lora_B): ModuleDict(\n",
            "                  (default): Linear(in_features=16, out_features=4096, bias=False)\n",
            "                )\n",
            "                (lora_embedding_A): ParameterDict()\n",
            "                (lora_embedding_B): ParameterDict()\n",
            "              )\n",
            "              (k_proj): Linear4bit(in_features=4096, out_features=1024, bias=False)\n",
            "              (v_proj): lora.Linear4bit(\n",
            "                (base_layer): Linear4bit(in_features=4096, out_features=1024, bias=False)\n",
            "                (lora_dropout): ModuleDict(\n",
            "                  (default): Dropout(p=0.1, inplace=False)\n",
            "                )\n",
            "                (lora_A): ModuleDict(\n",
            "                  (default): Linear(in_features=4096, out_features=16, bias=False)\n",
            "                )\n",
            "                (lora_B): ModuleDict(\n",
            "                  (default): Linear(in_features=16, out_features=1024, bias=False)\n",
            "                )\n",
            "                (lora_embedding_A): ParameterDict()\n",
            "                (lora_embedding_B): ParameterDict()\n",
            "              )\n",
            "              (o_proj): Linear4bit(in_features=4096, out_features=4096, bias=False)\n",
            "              (rotary_emb): MistralRotaryEmbedding()\n",
            "            )\n",
            "            (mlp): MistralMLP(\n",
            "              (gate_proj): Linear4bit(in_features=4096, out_features=14336, bias=False)\n",
            "              (up_proj): Linear4bit(in_features=4096, out_features=14336, bias=False)\n",
            "              (down_proj): Linear4bit(in_features=14336, out_features=4096, bias=False)\n",
            "              (act_fn): SiLU()\n",
            "            )\n",
            "            (input_layernorm): MistralRMSNorm()\n",
            "            (post_attention_layernorm): MistralRMSNorm()\n",
            "          )\n",
            "        )\n",
            "        (norm): MistralRMSNorm()\n",
            "      )\n",
            "      (lm_head): Linear(in_features=4096, out_features=32000, bias=False)\n",
            "    )\n",
            "  )\n",
            ")\n"
          ]
        }
      ],
      "source": [
        "print(model)"
      ]
    },
    {
      "cell_type": "markdown",
      "metadata": {
        "id": "xmvh6b2T9XDB"
      },
      "source": [
        "#### ❓Question #3:\n",
        "\n",
        "What modules (or groupings of layers) did we apply LoRA too - and how can we tell from the model summary?"
      ]
    },
    {
      "cell_type": "markdown",
      "metadata": {
        "id": "TrBzhBTGHGLy"
      },
      "source": [
        "## Task #4: Training the Model\n",
        "\n",
        "Now we'll be training our model with the created dataset!\n",
        "\n"
      ]
    },
    {
      "cell_type": "markdown",
      "metadata": {
        "id": "AWtLUFNY7XDC"
      },
      "source": [
        "### Setting up Training\n",
        "\n",
        "The `Trainer` class contains all the usual suspects - these are the same hyper-parameters you know and love from from previous notebooks!\n",
        "\n",
        "If you're running into CUDA memory issues - please modify both the `per_device_train_batch_size` to be lower, and also reduce `r` in your LoRAConfig. You'll need to restart and re-run your notebook after doing so."
      ]
    },
    {
      "cell_type": "code",
      "execution_count": null,
      "metadata": {
        "id": "1hZso8c0HH6T"
      },
      "outputs": [],
      "source": [
        "from transformers import TrainingArguments\n",
        "\n",
        "args = TrainingArguments(\n",
        "  output_dir = \"mistral7binstruct_summarize\",\n",
        "  #num_train_epochs=5,\n",
        "  max_steps = 50, # comment out this line if you want to train in epochs\n",
        "  per_device_train_batch_size = 1,\n",
        "  warmup_steps = 0.03,\n",
        "  logging_steps=10,\n",
        "  #evaluation_strategy=\"epoch\",\n",
        "  evaluation_strategy=\"steps\",\n",
        "  eval_steps=25, # comment out this line if you want to evaluate at the end of each epoch\n",
        "  learning_rate=2e-4,\n",
        "  lr_scheduler_type='constant',\n",
        ")"
      ]
    },
    {
      "cell_type": "markdown",
      "metadata": {
        "id": "qPxBo1od3eiy"
      },
      "source": [
        "#### ❓Question #4:\n",
        "\n",
        "Describe what the following parameters are doing:\n",
        "\n",
        "- `warmup_steps`\n",
        "- `learning_rate`\n",
        "- `lr_scheduler_type`\n",
        "\n",
        "> NOTE: Feel free to consult the [documentation](https://huggingface.co/docs/transformers/main_classes/trainer#transformers.TrainingArguments) or other resources!"
      ]
    },
    {
      "cell_type": "code",
      "execution_count": null,
      "metadata": {
        "id": "NwyIyTxOHNAN"
      },
      "outputs": [],
      "source": [
        "from trl import SFTTrainer\n",
        "\n",
        "max_seq_length = 2048\n",
        "\n",
        "trainer = SFTTrainer(\n",
        "  model=model,\n",
        "  peft_config=peft_config,\n",
        "  max_seq_length=max_seq_length,\n",
        "  tokenizer=tokenizer,\n",
        "  packing=True,\n",
        "  formatting_func=create_prompt,\n",
        "  args=args,\n",
        "  train_dataset=dataset[\"train\"],\n",
        "  eval_dataset=dataset[\"validation\"]\n",
        ")"
      ]
    },
    {
      "cell_type": "markdown",
      "metadata": {
        "id": "DrX0k4J6RDnB"
      },
      "source": [
        "> NOTE: The following cell should take ~45min. or so to complete on a T4 GPU with the pre-set hyper-parameters."
      ]
    },
    {
      "cell_type": "code",
      "execution_count": null,
      "metadata": {
        "colab": {
          "base_uri": "https://localhost:8080/",
          "height": 228
        },
        "id": "2-FCYtt7HkGM",
        "outputId": "5650cc29-9f8b-4e69-abd4-58a3a2cc1a0b"
      },
      "outputs": [
        {
          "name": "stderr",
          "output_type": "stream",
          "text": [
            "/usr/local/lib/python3.10/dist-packages/torch/utils/checkpoint.py:429: UserWarning: torch.utils.checkpoint: please pass in use_reentrant=True or use_reentrant=False explicitly. The default value of use_reentrant will be updated to be False in the future. To maintain current behavior, pass use_reentrant=True. It is recommended that you use use_reentrant=False. Refer to docs for more details on the differences between the two variants.\n",
            "  warnings.warn(\n"
          ]
        },
        {
          "data": {
            "text/html": [
              "\n",
              "    <div>\n",
              "      \n",
              "      <progress value='50' max='50' style='width:300px; height:20px; vertical-align: middle;'></progress>\n",
              "      [50/50 08:24, Epoch 0/1]\n",
              "    </div>\n",
              "    <table border=\"1\" class=\"dataframe\">\n",
              "  <thead>\n",
              " <tr style=\"text-align: left;\">\n",
              "      <th>Step</th>\n",
              "      <th>Training Loss</th>\n",
              "      <th>Validation Loss</th>\n",
              "    </tr>\n",
              "  </thead>\n",
              "  <tbody>\n",
              "    <tr>\n",
              "      <td>25</td>\n",
              "      <td>1.679000</td>\n",
              "      <td>1.545886</td>\n",
              "    </tr>\n",
              "    <tr>\n",
              "      <td>50</td>\n",
              "      <td>1.557000</td>\n",
              "      <td>1.467936</td>\n",
              "    </tr>\n",
              "  </tbody>\n",
              "</table><p>"
            ],
            "text/plain": [
              "<IPython.core.display.HTML object>"
            ]
          },
          "metadata": {},
          "output_type": "display_data"
        },
        {
          "data": {
            "text/plain": [
              "TrainOutput(global_step=50, training_loss=1.6945546913146972, metrics={'train_runtime': 514.6004, 'train_samples_per_second': 0.097, 'train_steps_per_second': 0.097, 'total_flos': 4372977156096000.0, 'train_loss': 1.6945546913146972, 'epoch': 0.43})"
            ]
          },
          "execution_count": 30,
          "metadata": {},
          "output_type": "execute_result"
        }
      ],
      "source": [
        "trainer.train()"
      ]
    },
    {
      "cell_type": "markdown",
      "metadata": {
        "id": "IYYoxEoEOPDY"
      },
      "source": [
        "## Task #5: Share Your Model!\n",
        "\n",
        "Normally, we would only seek to push the LoRA adapters to the hub. This is a lightweight and memory efficient way to push this model - as you can pull the base model down as part of the inference pipeline.\n",
        "\n",
        "However, if you want to leverage the one-click-deploy features of Hugging Face, you'll need to first `merge_and_unload()` the model and push the resulting model to the hub. This process will merge the LoRA weights back into the base model."
      ]
    },
    {
      "cell_type": "markdown",
      "metadata": {
        "id": "cxj0VqEXOUKX"
      },
      "source": [
        "If you run into issues during upload - please ensure you're using a HF Token with `WRITE` access!"
      ]
    },
    {
      "cell_type": "code",
      "execution_count": null,
      "metadata": {
        "colab": {
          "base_uri": "https://localhost:8080/",
          "height": 145,
          "referenced_widgets": [
            "9a1a00385cb14a98892869f06dc9d7a4",
            "83d97572b3ae482bab424a023c36f20b",
            "d4dea0b1c0bd4195882bfa6b24d24b54",
            "522e502f02fc410a95004c6430422e5f",
            "55a4de73a5b94cd4b199752f1c38d024",
            "ba117f36cd28484bba64fcc59587fb69",
            "28cf168bc7aa4157aa30374767a2f89d",
            "0518f95d1ab74e95ac8171fb375b2ade",
            "93b1fac730a342489edce0fc80c83ed5",
            "eb2d6d449d7b422483615c195cb7cf4c",
            "1118531964af46ef97c048b13c8af41f",
            "8a4cb3de6a4049f9b25d7851d9623345",
            "63232ed550be4565b7f2a93f3ec8bda7",
            "faac4d03a8bb4b6189fb2df0f9303666",
            "e5df79dffb2b4fdd912ed64ce0fa1c3d",
            "3fc94fe0a3684f8ea58a8da969d645c3",
            "eff37e27ce124c42826f1a41250a7c6e",
            "0049926f44ff483b961ad8c18b2a6de7",
            "425fa2aa7c494e88a41704126bbe7344",
            "9782ceb0961741bf84fafe623365a668",
            "1890aa8d18ea445a8a347902de894262",
            "88cf7145286f40008b3b2af44f57c0c0",
            "0f353f1f05df4b57b7fe3a0c49c82ab9",
            "a92140cd3ac746d2af84a4fc666d7ca1",
            "8eabb1fe30dd4dc184a7d62079a2a737",
            "3ff87a32105640a0b2b17b35ce27ce01",
            "a8dc337251d94100a668c25366b99114",
            "47d9136f41fb4eefa8a9b04bb614487f",
            "6e3b3f2915fa484cba8f31ccd909da25",
            "cc1794d053a2413c8d2bf5dde5921897",
            "9af0f7b2e97e47ab996a029e928898ed",
            "1580b1136e4b4b9eaa6f7ebd8cc742ee"
          ]
        },
        "id": "nkD5hMhLMSzZ",
        "outputId": "aaaa0226-e4d0-465d-be9d-dbc24e4e3269"
      },
      "outputs": [
        {
          "data": {
            "application/vnd.jupyter.widget-view+json": {
              "model_id": "9a1a00385cb14a98892869f06dc9d7a4",
              "version_major": 2,
              "version_minor": 0
            },
            "text/plain": [
              "VBox(children=(HTML(value='<center> <img\\nsrc=https://huggingface.co/front/assets/huggingface_logo-noborder.sv…"
            ]
          },
          "metadata": {},
          "output_type": "display_data"
        }
      ],
      "source": [
        "from huggingface_hub import notebook_login\n",
        "\n",
        "notebook_login()"
      ]
    },
    {
      "cell_type": "code",
      "execution_count": null,
      "metadata": {
        "colab": {
          "base_uri": "https://localhost:8080/",
          "height": 276,
          "referenced_widgets": [
            "9d7df2a0187f4e53a7030e50a1ace9e9",
            "c890606537bb4bd8b68cf15606dd6ea1",
            "ca34da3482ee44f7b7ceba79740e98cd",
            "069efb20a3004208b11ab72c50dcfe86",
            "333e667135f345c98eb3f852f5713c09",
            "dc58144aac8c4ad1a7a9f1eeca4099ee",
            "a5bf3dbc1e224dfdab39fb4174edbf1c",
            "7f3a935fc6c74994b2c05378ad10d9da",
            "690d24cc9272429cb5027d684255d332",
            "3330f1bc90c24fa780d2d6bfc4675f40",
            "dec59b14b22c4b40b81766f1ae057749",
            "6b746a3f9abb43e4985bac049acb1c06",
            "db4befddf76643e989e5a3ca7255194f",
            "7fff644da05b4ab994bd5fb083aeeecf",
            "1c88aecefcd940ba9cd5557280842b74",
            "3b836f3c74c6423d9bf2ac7c25b6de36",
            "cfa353c987f94972a80b9bb8c60c4ea7",
            "0bfcf8b75c414bcf9bad9fae499bf9bd",
            "ff777ad346324307b85377d020b82159",
            "9ba434279ca34d75b6905836e88eb752",
            "db666eff11a44211a6d922cee08634ce",
            "f4e354f0ce0f4f96a349659b47955216",
            "44cb13d9e8a848789f40a8659f8c3bcb",
            "126f16a27f244a8d9a68d1efcd55626b",
            "b7412d1c00ec4c46baf47eccbcbf80cd",
            "f87ab72fecc64b1dbce8b7e467e30fa0",
            "94625eb29f3c47759528d76282e52311",
            "93775186903e4f9082b7a2d067a612b8",
            "47d09b90c3f84e5e8b4f8e11061c44d4",
            "adba2dfa32a24dfca2922d3b5d1c7a8d",
            "0d5429e8fffe47008b15c6bf7485ada5",
            "89e45dc80bcb406bb918450882570a6a",
            "527c5f72cc424c86817aa7466207d7ed",
            "4cedb381167345abb531d091c1d7deed",
            "0b17d1a50d4146a88ffd2b5264fdcdae",
            "b8fc9504cb8e412582b07b523ba1f39c",
            "619f73d7aaf14f51a38b06d5374c0f8a",
            "81660184c30e4ee4bfe1f4fce46c9b4d",
            "a399922ca31d4c00874140d1394cda43",
            "3df9930e8f994d818692a7a22a1df2d7",
            "aa6ef38bb45b493ab69c2d1a195ecccd",
            "f753559322c3468bb138bc3131f14b8e",
            "bd092faddf3b42299a19755d921a4290",
            "cf14c0e9b8744e3ea4b26b1a6db4b3db",
            "471c5f4dbd764e53a94950dc671525b5",
            "de51b89ecca54cc1a4f970b0a545caa6",
            "0b3b8a07c87146a48f63b8da981ecb3d",
            "947b23773eac4f358d57de55a9720692",
            "9a6acc5bf136410f86d769721307d297",
            "550a05e45482408086f30306dca0534d",
            "0f68334488a74ba8b147f39cec8fa9e1",
            "38cbe44e1aa94c1a8017e519c6ef7f2c",
            "e5398b01196b4f6fad534f27e488a1cb",
            "3f111ffab44f4e498ff64f7f177c1499",
            "62d2690e61304e50a18bc5bbdfbb5c00",
            "8b2212419c8845ce8beba2dd1944a633",
            "4ab814e1926b43a39d3fcaab31103199",
            "0479d55ba72b4983a129ab999cafda98",
            "4af0aae026ee464fa4effd6ebbf2cc65",
            "9e5d061c876f4ac5b4fceb8315f616cd",
            "84caaf332b96446b8de8e61d8db88964",
            "ccb526c6be3744f7ac87df5b6f5fb16a",
            "f80949c7c0734631a0302e291ed3e71d",
            "4ac95f88b15e45fd9502ed2d6d8d2833",
            "aa67922852864c4d96d35d47b95e7fdc",
            "0cdc032650254375a33450344fd0983e",
            "0ab34ee8dbb14384bef2491f9bbc62c2",
            "1a32dcf9b45b4a878137ddbad4a4a55d",
            "e937ea4e83ac4ed384d09bdabada1891",
            "54c7bf9decbf4b1bb1933b3db1098485",
            "2ff90308a48f414b8e5068369fc7201f",
            "87c8d1710e0543a2b056b65b903d7962",
            "a00645571ddb4bb3b9808058ae761877",
            "63fea19087d44a6bbcda2015e13f7d06",
            "0c09346797e943bc9bab79c189a4d5c2",
            "a4dd5943f4404d96bb127337ced709e2",
            "a89b53ebf8054858a23ef937374d4f48"
          ]
        },
        "id": "3UOvMTDXMX28",
        "outputId": "16ea93c7-6ff2-4ce1-978e-f982aa2430c2"
      },
      "outputs": [
        {
          "data": {
            "application/vnd.jupyter.widget-view+json": {
              "model_id": "9d7df2a0187f4e53a7030e50a1ace9e9",
              "version_major": 2,
              "version_minor": 0
            },
            "text/plain": [
              "adapter_model.safetensors:   0%|          | 0.00/27.3M [00:00<?, ?B/s]"
            ]
          },
          "metadata": {},
          "output_type": "display_data"
        },
        {
          "data": {
            "application/vnd.jupyter.widget-view+json": {
              "model_id": "6b746a3f9abb43e4985bac049acb1c06",
              "version_major": 2,
              "version_minor": 0
            },
            "text/plain": [
              "Upload 6 LFS files:   0%|          | 0/6 [00:00<?, ?it/s]"
            ]
          },
          "metadata": {},
          "output_type": "display_data"
        },
        {
          "data": {
            "application/vnd.jupyter.widget-view+json": {
              "model_id": "44cb13d9e8a848789f40a8659f8c3bcb",
              "version_major": 2,
              "version_minor": 0
            },
            "text/plain": [
              "events.out.tfevents.1709068347.58ad8fef54b1.9186.0:   0%|          | 0.00/6.97k [00:00<?, ?B/s]"
            ]
          },
          "metadata": {},
          "output_type": "display_data"
        },
        {
          "data": {
            "application/vnd.jupyter.widget-view+json": {
              "model_id": "4cedb381167345abb531d091c1d7deed",
              "version_major": 2,
              "version_minor": 0
            },
            "text/plain": [
              "events.out.tfevents.1709067084.58ad8fef54b1.979.0:   0%|          | 0.00/5.05k [00:00<?, ?B/s]"
            ]
          },
          "metadata": {},
          "output_type": "display_data"
        },
        {
          "data": {
            "application/vnd.jupyter.widget-view+json": {
              "model_id": "471c5f4dbd764e53a94950dc671525b5",
              "version_major": 2,
              "version_minor": 0
            },
            "text/plain": [
              "events.out.tfevents.1709067161.58ad8fef54b1.979.1:   0%|          | 0.00/6.35k [00:00<?, ?B/s]"
            ]
          },
          "metadata": {},
          "output_type": "display_data"
        },
        {
          "data": {
            "application/vnd.jupyter.widget-view+json": {
              "model_id": "8b2212419c8845ce8beba2dd1944a633",
              "version_major": 2,
              "version_minor": 0
            },
            "text/plain": [
              "tokenizer.model:   0%|          | 0.00/493k [00:00<?, ?B/s]"
            ]
          },
          "metadata": {},
          "output_type": "display_data"
        },
        {
          "data": {
            "application/vnd.jupyter.widget-view+json": {
              "model_id": "0ab34ee8dbb14384bef2491f9bbc62c2",
              "version_major": 2,
              "version_minor": 0
            },
            "text/plain": [
              "training_args.bin:   0%|          | 0.00/4.92k [00:00<?, ?B/s]"
            ]
          },
          "metadata": {},
          "output_type": "display_data"
        },
        {
          "data": {
            "application/vnd.google.colaboratory.intrinsic+json": {
              "type": "string"
            },
            "text/plain": [
              "CommitInfo(commit_url='https://huggingface.co/c-s-ale/mistral7binstruct_summarize/commit/77956eeedef7f9b4b50560e083eb088bd4a3e2b2', commit_message='ai-maker-space/mistral-7binstruct-summary-100s', commit_description='', oid='77956eeedef7f9b4b50560e083eb088bd4a3e2b2', pr_url=None, pr_revision=None, pr_num=None)"
            ]
          },
          "execution_count": 32,
          "metadata": {},
          "output_type": "execute_result"
        }
      ],
      "source": [
        "trainer.push_to_hub(\"ai-maker-space/mistral-7binstruct-summary-100s\")"
      ]
    },
    {
      "cell_type": "markdown",
      "metadata": {
        "id": "QsAudsV-O4nT"
      },
      "source": [
        "### Compare Outputs\n",
        "\n",
        "Let's see how our model fairs at this task, now!"
      ]
    },
    {
      "cell_type": "code",
      "execution_count": null,
      "metadata": {
        "colab": {
          "base_uri": "https://localhost:8080/"
        },
        "id": "AKXqRmOLMdYD",
        "outputId": "f8b35687-69a0-4240-a508-0bf0ec57de49"
      },
      "outputs": [
        {
          "name": "stderr",
          "output_type": "stream",
          "text": [
            "/usr/local/lib/python3.10/dist-packages/peft/tuners/lora/bnb.py:249: UserWarning: Merge lora module to 4-bit linear may get different generations due to rounding errors.\n",
            "  warnings.warn(\n"
          ]
        }
      ],
      "source": [
        "merged_model = model.merge_and_unload()"
      ]
    },
    {
      "cell_type": "markdown",
      "metadata": {
        "id": "nNxFetci4Htb"
      },
      "source": [
        "#### ❓Question #5:\n",
        "\n",
        "What does the `merge_and_unload()` method do?\n",
        "\n",
        "> NOTE: Check out the [documentation](https://huggingface.co/docs/trl/v0.7.11/use_model) or the [source code](https://github.com/huggingface/peft/blob/096fe537370cf8a2cb55cc9bd05c7812ca919405/src/peft/tuners/lora/model.py#L685) to find out!"
      ]
    },
    {
      "cell_type": "code",
      "execution_count": null,
      "metadata": {
        "colab": {
          "base_uri": "https://localhost:8080/",
          "height": 53
        },
        "id": "mikYCAawMf7p",
        "outputId": "5b2a9649-29ef-4800-89b3-603f3875b1b1"
      },
      "outputs": [
        {
          "data": {
            "application/vnd.google.colaboratory.intrinsic+json": {
              "type": "string"
            },
            "text/plain": [
              "\" Eric and Rob watched a MACHINE comedy stand-up video and found it funny. Eric is especially impressed by the Russian accent in the video. He asks Rob if that was MACHINE'S only stand-up and if there are any others. Rob confirms that there are several MACHINE'S stand-up videos on Youtube. Eric and Rob agree to watch them together.</s>\""
            ]
          },
          "execution_count": 35,
          "metadata": {},
          "output_type": "execute_result"
        }
      ],
      "source": [
        "generate_response(create_prompt(dataset[\"test\"][1], include_response=False),\n",
        "                  merged_model,\n",
        "                  tokenizer)"
      ]
    },
    {
      "cell_type": "markdown",
      "metadata": {
        "id": "xGlu-lwdbqgr"
      },
      "source": [
        "Let's look at the base model response:\n",
        "\n",
        "> *Eric and Rob are having a conversation about a stand-up comedy performance by an unnamed comedian named \"Machine.\" They find the performance hilarious, particularly a part involving a train. They discuss how Americans perceive Russians based on the comedy routine. Eric wonders if this is Machine\\'s only stand-up performance, and Rob agrees to help him find more of Machine\\'s comedy content on YouTube. They both express excitement and plan to watch the other performances together. They sign off with the phrase \"talk to you later\" (TTYL) before ending the conversation.</s>*\n",
        "\n",
        "Now the fine-tuned response:\n",
        "\n",
        "> *Eric and Rob watched a MACHINE comedy stand-up video and found it funny. Eric is especially impressed by the Russian accent in the video. He asks Rob if that was MACHINE'S only stand-up and if there are any others. Rob confirms that there are several MACHINE'S stand-up videos on Youtube. Eric and Rob agree to watch them together.</s>*\n",
        "\n"
      ]
    },
    {
      "cell_type": "markdown",
      "metadata": {
        "id": "1EutP0TveMLH"
      },
      "source": [
        "We can see that, directionally, our model is getting much closer to our desired results with only *100* steps of training.\n",
        "\n",
        "Let's try another example to make sure it wasn't a fluke!"
      ]
    },
    {
      "cell_type": "code",
      "execution_count": null,
      "metadata": {
        "colab": {
          "base_uri": "https://localhost:8080/"
        },
        "id": "cBDisWg5fsUS",
        "outputId": "552ea4bd-8188-4a28-c29c-5965f68234a8"
      },
      "outputs": [
        {
          "name": "stdout",
          "output_type": "stream",
          "text": [
            "Will: hey babe, what do you want for dinner tonight?\r\n",
            "Emma:  gah, don't even worry about it tonight\r\n",
            "Will: what do you mean? everything ok?\r\n",
            "Emma: not really, but it's ok, don't worry about cooking though, I'm not hungry\r\n",
            "Will: Well what time will you be home?\r\n",
            "Emma: soon, hopefully\r\n",
            "Will: you sure? Maybe you want me to pick you up?\r\n",
            "Emma: no no it's alright. I'll be home soon, i'll tell you when I get home. \r\n",
            "Will: Alright, love you. \r\n",
            "Emma: love you too. \n"
          ]
        }
      ],
      "source": [
        "print(dataset[\"test\"][3][\"dialogue\"])"
      ]
    },
    {
      "cell_type": "code",
      "execution_count": null,
      "metadata": {
        "colab": {
          "base_uri": "https://localhost:8080/",
          "height": 35
        },
        "id": "aQuDEmNGdCFi",
        "outputId": "0a57990f-a927-40cf-ba4e-c7e5d7c62063"
      },
      "outputs": [
        {
          "data": {
            "application/vnd.google.colaboratory.intrinsic+json": {
              "type": "string"
            },
            "text/plain": [
              "\" Emma is not feeling well. She will be home soon. She doesn't want Will to cook anything for dinner.</s>\""
            ]
          },
          "execution_count": 39,
          "metadata": {},
          "output_type": "execute_result"
        }
      ],
      "source": [
        "generate_response(create_prompt(dataset[\"test\"][3], include_response=False),\n",
        "                  merged_model,\n",
        "                  tokenizer)"
      ]
    },
    {
      "cell_type": "code",
      "execution_count": null,
      "metadata": {
        "colab": {
          "base_uri": "https://localhost:8080/",
          "height": 35
        },
        "id": "OO4uEcuHfhWH",
        "outputId": "10594e36-03a7-4a1e-8f23-5d83e10ff2c4"
      },
      "outputs": [
        {
          "data": {
            "application/vnd.google.colaboratory.intrinsic+json": {
              "type": "string"
            },
            "text/plain": [
              "'Emma will be home soon and she will let Will know.'"
            ]
          },
          "execution_count": 42,
          "metadata": {},
          "output_type": "execute_result"
        }
      ],
      "source": [
        "# Ground Truth Summary\n",
        "dataset[\"test\"][3][\"summary\"]"
      ]
    },
    {
      "cell_type": "markdown",
      "metadata": {
        "id": "_lc6KLr5e6Ng"
      },
      "source": [
        "Lets look at the base model response:\n",
        "\n",
        ">  *Emma won't be home for dinner tonight, she has a problem, but she doesn't want Will to worry. She'll let him know when she's home. She'll be coming soon.</s>*\n",
        "\n",
        "And the fine-tuned model:\n",
        "\n",
        "> *Emma is not feeling well. She will be home soon. She doesn't want Will to cook anything for dinner.</s>*\n",
        "\n",
        "And again, we can see that the model performs the task *better* than the original un-fine-tuned model - though there is still work to do."
      ]
    }
  ],
  "metadata": {
    "accelerator": "GPU",
    "colab": {
      "gpuType": "T4",
      "machine_shape": "hm",
      "provenance": [],
      "toc_visible": true
    },
    "kernelspec": {
      "display_name": "Python 3",
      "name": "python3"
    },
    "language_info": {
      "name": "python"
    },
    "widgets": {
      "application/vnd.jupyter.widget-state+json": {
        "0049926f44ff483b961ad8c18b2a6de7": {
          "model_module": "@jupyter-widgets/controls",
          "model_module_version": "1.5.0",
          "model_name": "LabelModel",
          "state": {
            "_dom_classes": [],
            "_model_module": "@jupyter-widgets/controls",
            "_model_module_version": "1.5.0",
            "_model_name": "LabelModel",
            "_view_count": null,
            "_view_module": "@jupyter-widgets/controls",
            "_view_module_version": "1.5.0",
            "_view_name": "LabelView",
            "description": "",
            "description_tooltip": null,
            "layout": "IPY_MODEL_425fa2aa7c494e88a41704126bbe7344",
            "placeholder": "​",
            "style": "IPY_MODEL_9782ceb0961741bf84fafe623365a668",
            "value": "Connecting..."
          }
        },
        "0479d55ba72b4983a129ab999cafda98": {
          "model_module": "@jupyter-widgets/controls",
          "model_module_version": "1.5.0",
          "model_name": "FloatProgressModel",
          "state": {
            "_dom_classes": [],
            "_model_module": "@jupyter-widgets/controls",
            "_model_module_version": "1.5.0",
            "_model_name": "FloatProgressModel",
            "_view_count": null,
            "_view_module": "@jupyter-widgets/controls",
            "_view_module_version": "1.5.0",
            "_view_name": "ProgressView",
            "bar_style": "success",
            "description": "",
            "description_tooltip": null,
            "layout": "IPY_MODEL_f80949c7c0734631a0302e291ed3e71d",
            "max": 493443,
            "min": 0,
            "orientation": "horizontal",
            "style": "IPY_MODEL_4ac95f88b15e45fd9502ed2d6d8d2833",
            "value": 493443
          }
        },
        "0518f95d1ab74e95ac8171fb375b2ade": {
          "model_module": "@jupyter-widgets/base",
          "model_module_version": "1.2.0",
          "model_name": "LayoutModel",
          "state": {
            "_model_module": "@jupyter-widgets/base",
            "_model_module_version": "1.2.0",
            "_model_name": "LayoutModel",
            "_view_count": null,
            "_view_module": "@jupyter-widgets/base",
            "_view_module_version": "1.2.0",
            "_view_name": "LayoutView",
            "align_content": null,
            "align_items": null,
            "align_self": null,
            "border": null,
            "bottom": null,
            "display": null,
            "flex": null,
            "flex_flow": null,
            "grid_area": null,
            "grid_auto_columns": null,
            "grid_auto_flow": null,
            "grid_auto_rows": null,
            "grid_column": null,
            "grid_gap": null,
            "grid_row": null,
            "grid_template_areas": null,
            "grid_template_columns": null,
            "grid_template_rows": null,
            "height": null,
            "justify_content": null,
            "justify_items": null,
            "left": null,
            "margin": null,
            "max_height": null,
            "max_width": null,
            "min_height": null,
            "min_width": null,
            "object_fit": null,
            "object_position": null,
            "order": null,
            "overflow": null,
            "overflow_x": null,
            "overflow_y": null,
            "padding": null,
            "right": null,
            "top": null,
            "visibility": null,
            "width": null
          }
        },
        "069efb20a3004208b11ab72c50dcfe86": {
          "model_module": "@jupyter-widgets/controls",
          "model_module_version": "1.5.0",
          "model_name": "HTMLModel",
          "state": {
            "_dom_classes": [],
            "_model_module": "@jupyter-widgets/controls",
            "_model_module_version": "1.5.0",
            "_model_name": "HTMLModel",
            "_view_count": null,
            "_view_module": "@jupyter-widgets/controls",
            "_view_module_version": "1.5.0",
            "_view_name": "HTMLView",
            "description": "",
            "description_tooltip": null,
            "layout": "IPY_MODEL_3330f1bc90c24fa780d2d6bfc4675f40",
            "placeholder": "​",
            "style": "IPY_MODEL_dec59b14b22c4b40b81766f1ae057749",
            "value": " 27.3M/27.3M [00:05&lt;00:00, 4.57MB/s]"
          }
        },
        "0ab34ee8dbb14384bef2491f9bbc62c2": {
          "model_module": "@jupyter-widgets/controls",
          "model_module_version": "1.5.0",
          "model_name": "HBoxModel",
          "state": {
            "_dom_classes": [],
            "_model_module": "@jupyter-widgets/controls",
            "_model_module_version": "1.5.0",
            "_model_name": "HBoxModel",
            "_view_count": null,
            "_view_module": "@jupyter-widgets/controls",
            "_view_module_version": "1.5.0",
            "_view_name": "HBoxView",
            "box_style": "",
            "children": [
              "IPY_MODEL_1a32dcf9b45b4a878137ddbad4a4a55d",
              "IPY_MODEL_e937ea4e83ac4ed384d09bdabada1891",
              "IPY_MODEL_54c7bf9decbf4b1bb1933b3db1098485"
            ],
            "layout": "IPY_MODEL_2ff90308a48f414b8e5068369fc7201f"
          }
        },
        "0b17d1a50d4146a88ffd2b5264fdcdae": {
          "model_module": "@jupyter-widgets/controls",
          "model_module_version": "1.5.0",
          "model_name": "HTMLModel",
          "state": {
            "_dom_classes": [],
            "_model_module": "@jupyter-widgets/controls",
            "_model_module_version": "1.5.0",
            "_model_name": "HTMLModel",
            "_view_count": null,
            "_view_module": "@jupyter-widgets/controls",
            "_view_module_version": "1.5.0",
            "_view_name": "HTMLView",
            "description": "",
            "description_tooltip": null,
            "layout": "IPY_MODEL_a399922ca31d4c00874140d1394cda43",
            "placeholder": "​",
            "style": "IPY_MODEL_3df9930e8f994d818692a7a22a1df2d7",
            "value": "events.out.tfevents.1709067084.58ad8fef54b1.979.0: 100%"
          }
        },
        "0b3b8a07c87146a48f63b8da981ecb3d": {
          "model_module": "@jupyter-widgets/controls",
          "model_module_version": "1.5.0",
          "model_name": "FloatProgressModel",
          "state": {
            "_dom_classes": [],
            "_model_module": "@jupyter-widgets/controls",
            "_model_module_version": "1.5.0",
            "_model_name": "FloatProgressModel",
            "_view_count": null,
            "_view_module": "@jupyter-widgets/controls",
            "_view_module_version": "1.5.0",
            "_view_name": "ProgressView",
            "bar_style": "success",
            "description": "",
            "description_tooltip": null,
            "layout": "IPY_MODEL_38cbe44e1aa94c1a8017e519c6ef7f2c",
            "max": 6353,
            "min": 0,
            "orientation": "horizontal",
            "style": "IPY_MODEL_e5398b01196b4f6fad534f27e488a1cb",
            "value": 6353
          }
        },
        "0bfcf8b75c414bcf9bad9fae499bf9bd": {
          "model_module": "@jupyter-widgets/controls",
          "model_module_version": "1.5.0",
          "model_name": "DescriptionStyleModel",
          "state": {
            "_model_module": "@jupyter-widgets/controls",
            "_model_module_version": "1.5.0",
            "_model_name": "DescriptionStyleModel",
            "_view_count": null,
            "_view_module": "@jupyter-widgets/base",
            "_view_module_version": "1.2.0",
            "_view_name": "StyleView",
            "description_width": ""
          }
        },
        "0c09346797e943bc9bab79c189a4d5c2": {
          "model_module": "@jupyter-widgets/controls",
          "model_module_version": "1.5.0",
          "model_name": "ProgressStyleModel",
          "state": {
            "_model_module": "@jupyter-widgets/controls",
            "_model_module_version": "1.5.0",
            "_model_name": "ProgressStyleModel",
            "_view_count": null,
            "_view_module": "@jupyter-widgets/base",
            "_view_module_version": "1.2.0",
            "_view_name": "StyleView",
            "bar_color": null,
            "description_width": ""
          }
        },
        "0cdc032650254375a33450344fd0983e": {
          "model_module": "@jupyter-widgets/controls",
          "model_module_version": "1.5.0",
          "model_name": "DescriptionStyleModel",
          "state": {
            "_model_module": "@jupyter-widgets/controls",
            "_model_module_version": "1.5.0",
            "_model_name": "DescriptionStyleModel",
            "_view_count": null,
            "_view_module": "@jupyter-widgets/base",
            "_view_module_version": "1.2.0",
            "_view_name": "StyleView",
            "description_width": ""
          }
        },
        "0d5429e8fffe47008b15c6bf7485ada5": {
          "model_module": "@jupyter-widgets/controls",
          "model_module_version": "1.5.0",
          "model_name": "ProgressStyleModel",
          "state": {
            "_model_module": "@jupyter-widgets/controls",
            "_model_module_version": "1.5.0",
            "_model_name": "ProgressStyleModel",
            "_view_count": null,
            "_view_module": "@jupyter-widgets/base",
            "_view_module_version": "1.2.0",
            "_view_name": "StyleView",
            "bar_color": null,
            "description_width": ""
          }
        },
        "0f353f1f05df4b57b7fe3a0c49c82ab9": {
          "model_module": "@jupyter-widgets/controls",
          "model_module_version": "1.5.0",
          "model_name": "LabelModel",
          "state": {
            "_dom_classes": [],
            "_model_module": "@jupyter-widgets/controls",
            "_model_module_version": "1.5.0",
            "_model_name": "LabelModel",
            "_view_count": null,
            "_view_module": "@jupyter-widgets/controls",
            "_view_module_version": "1.5.0",
            "_view_name": "LabelView",
            "description": "",
            "description_tooltip": null,
            "layout": "IPY_MODEL_6e3b3f2915fa484cba8f31ccd909da25",
            "placeholder": "​",
            "style": "IPY_MODEL_cc1794d053a2413c8d2bf5dde5921897",
            "value": "Your token has been saved to /root/.cache/huggingface/token"
          }
        },
        "0f68334488a74ba8b147f39cec8fa9e1": {
          "model_module": "@jupyter-widgets/controls",
          "model_module_version": "1.5.0",
          "model_name": "DescriptionStyleModel",
          "state": {
            "_model_module": "@jupyter-widgets/controls",
            "_model_module_version": "1.5.0",
            "_model_name": "DescriptionStyleModel",
            "_view_count": null,
            "_view_module": "@jupyter-widgets/base",
            "_view_module_version": "1.2.0",
            "_view_name": "StyleView",
            "description_width": ""
          }
        },
        "1118531964af46ef97c048b13c8af41f": {
          "model_module": "@jupyter-widgets/controls",
          "model_module_version": "1.5.0",
          "model_name": "DescriptionStyleModel",
          "state": {
            "_model_module": "@jupyter-widgets/controls",
            "_model_module_version": "1.5.0",
            "_model_name": "DescriptionStyleModel",
            "_view_count": null,
            "_view_module": "@jupyter-widgets/base",
            "_view_module_version": "1.2.0",
            "_view_name": "StyleView",
            "description_width": ""
          }
        },
        "126f16a27f244a8d9a68d1efcd55626b": {
          "model_module": "@jupyter-widgets/controls",
          "model_module_version": "1.5.0",
          "model_name": "HTMLModel",
          "state": {
            "_dom_classes": [],
            "_model_module": "@jupyter-widgets/controls",
            "_model_module_version": "1.5.0",
            "_model_name": "HTMLModel",
            "_view_count": null,
            "_view_module": "@jupyter-widgets/controls",
            "_view_module_version": "1.5.0",
            "_view_name": "HTMLView",
            "description": "",
            "description_tooltip": null,
            "layout": "IPY_MODEL_93775186903e4f9082b7a2d067a612b8",
            "placeholder": "​",
            "style": "IPY_MODEL_47d09b90c3f84e5e8b4f8e11061c44d4",
            "value": "events.out.tfevents.1709068347.58ad8fef54b1.9186.0: 100%"
          }
        },
        "1580b1136e4b4b9eaa6f7ebd8cc742ee": {
          "model_module": "@jupyter-widgets/controls",
          "model_module_version": "1.5.0",
          "model_name": "DescriptionStyleModel",
          "state": {
            "_model_module": "@jupyter-widgets/controls",
            "_model_module_version": "1.5.0",
            "_model_name": "DescriptionStyleModel",
            "_view_count": null,
            "_view_module": "@jupyter-widgets/base",
            "_view_module_version": "1.2.0",
            "_view_name": "StyleView",
            "description_width": ""
          }
        },
        "1890aa8d18ea445a8a347902de894262": {
          "model_module": "@jupyter-widgets/controls",
          "model_module_version": "1.5.0",
          "model_name": "LabelModel",
          "state": {
            "_dom_classes": [],
            "_model_module": "@jupyter-widgets/controls",
            "_model_module_version": "1.5.0",
            "_model_name": "LabelModel",
            "_view_count": null,
            "_view_module": "@jupyter-widgets/controls",
            "_view_module_version": "1.5.0",
            "_view_name": "LabelView",
            "description": "",
            "description_tooltip": null,
            "layout": "IPY_MODEL_8eabb1fe30dd4dc184a7d62079a2a737",
            "placeholder": "​",
            "style": "IPY_MODEL_3ff87a32105640a0b2b17b35ce27ce01",
            "value": "Token is valid (permission: write)."
          }
        },
        "1a32dcf9b45b4a878137ddbad4a4a55d": {
          "model_module": "@jupyter-widgets/controls",
          "model_module_version": "1.5.0",
          "model_name": "HTMLModel",
          "state": {
            "_dom_classes": [],
            "_model_module": "@jupyter-widgets/controls",
            "_model_module_version": "1.5.0",
            "_model_name": "HTMLModel",
            "_view_count": null,
            "_view_module": "@jupyter-widgets/controls",
            "_view_module_version": "1.5.0",
            "_view_name": "HTMLView",
            "description": "",
            "description_tooltip": null,
            "layout": "IPY_MODEL_87c8d1710e0543a2b056b65b903d7962",
            "placeholder": "​",
            "style": "IPY_MODEL_a00645571ddb4bb3b9808058ae761877",
            "value": "training_args.bin: 100%"
          }
        },
        "1c88aecefcd940ba9cd5557280842b74": {
          "model_module": "@jupyter-widgets/controls",
          "model_module_version": "1.5.0",
          "model_name": "HTMLModel",
          "state": {
            "_dom_classes": [],
            "_model_module": "@jupyter-widgets/controls",
            "_model_module_version": "1.5.0",
            "_model_name": "HTMLModel",
            "_view_count": null,
            "_view_module": "@jupyter-widgets/controls",
            "_view_module_version": "1.5.0",
            "_view_name": "HTMLView",
            "description": "",
            "description_tooltip": null,
            "layout": "IPY_MODEL_db666eff11a44211a6d922cee08634ce",
            "placeholder": "​",
            "style": "IPY_MODEL_f4e354f0ce0f4f96a349659b47955216",
            "value": " 6/6 [00:06&lt;00:00,  6.19s/it]"
          }
        },
        "28cf168bc7aa4157aa30374767a2f89d": {
          "model_module": "@jupyter-widgets/base",
          "model_module_version": "1.2.0",
          "model_name": "LayoutModel",
          "state": {
            "_model_module": "@jupyter-widgets/base",
            "_model_module_version": "1.2.0",
            "_model_name": "LayoutModel",
            "_view_count": null,
            "_view_module": "@jupyter-widgets/base",
            "_view_module_version": "1.2.0",
            "_view_name": "LayoutView",
            "align_content": null,
            "align_items": "center",
            "align_self": null,
            "border": null,
            "bottom": null,
            "display": "flex",
            "flex": null,
            "flex_flow": "column",
            "grid_area": null,
            "grid_auto_columns": null,
            "grid_auto_flow": null,
            "grid_auto_rows": null,
            "grid_column": null,
            "grid_gap": null,
            "grid_row": null,
            "grid_template_areas": null,
            "grid_template_columns": null,
            "grid_template_rows": null,
            "height": null,
            "justify_content": null,
            "justify_items": null,
            "left": null,
            "margin": null,
            "max_height": null,
            "max_width": null,
            "min_height": null,
            "min_width": null,
            "object_fit": null,
            "object_position": null,
            "order": null,
            "overflow": null,
            "overflow_x": null,
            "overflow_y": null,
            "padding": null,
            "right": null,
            "top": null,
            "visibility": null,
            "width": "50%"
          }
        },
        "2ff90308a48f414b8e5068369fc7201f": {
          "model_module": "@jupyter-widgets/base",
          "model_module_version": "1.2.0",
          "model_name": "LayoutModel",
          "state": {
            "_model_module": "@jupyter-widgets/base",
            "_model_module_version": "1.2.0",
            "_model_name": "LayoutModel",
            "_view_count": null,
            "_view_module": "@jupyter-widgets/base",
            "_view_module_version": "1.2.0",
            "_view_name": "LayoutView",
            "align_content": null,
            "align_items": null,
            "align_self": null,
            "border": null,
            "bottom": null,
            "display": null,
            "flex": null,
            "flex_flow": null,
            "grid_area": null,
            "grid_auto_columns": null,
            "grid_auto_flow": null,
            "grid_auto_rows": null,
            "grid_column": null,
            "grid_gap": null,
            "grid_row": null,
            "grid_template_areas": null,
            "grid_template_columns": null,
            "grid_template_rows": null,
            "height": null,
            "justify_content": null,
            "justify_items": null,
            "left": null,
            "margin": null,
            "max_height": null,
            "max_width": null,
            "min_height": null,
            "min_width": null,
            "object_fit": null,
            "object_position": null,
            "order": null,
            "overflow": null,
            "overflow_x": null,
            "overflow_y": null,
            "padding": null,
            "right": null,
            "top": null,
            "visibility": null,
            "width": null
          }
        },
        "30ca5ee4ad664286976531ddc472a246": {
          "model_module": "@jupyter-widgets/controls",
          "model_module_version": "1.5.0",
          "model_name": "HTMLModel",
          "state": {
            "_dom_classes": [],
            "_model_module": "@jupyter-widgets/controls",
            "_model_module_version": "1.5.0",
            "_model_name": "HTMLModel",
            "_view_count": null,
            "_view_module": "@jupyter-widgets/controls",
            "_view_module_version": "1.5.0",
            "_view_name": "HTMLView",
            "description": "",
            "description_tooltip": null,
            "layout": "IPY_MODEL_41c4ce4280814c949e05b9cd4f9e1e48",
            "placeholder": "​",
            "style": "IPY_MODEL_dd8134b2417d4dc2b48d6d6d5ecb55fb",
            "value": " 3/3 [00:10&lt;00:00,  3.60s/it]"
          }
        },
        "3330f1bc90c24fa780d2d6bfc4675f40": {
          "model_module": "@jupyter-widgets/base",
          "model_module_version": "1.2.0",
          "model_name": "LayoutModel",
          "state": {
            "_model_module": "@jupyter-widgets/base",
            "_model_module_version": "1.2.0",
            "_model_name": "LayoutModel",
            "_view_count": null,
            "_view_module": "@jupyter-widgets/base",
            "_view_module_version": "1.2.0",
            "_view_name": "LayoutView",
            "align_content": null,
            "align_items": null,
            "align_self": null,
            "border": null,
            "bottom": null,
            "display": null,
            "flex": null,
            "flex_flow": null,
            "grid_area": null,
            "grid_auto_columns": null,
            "grid_auto_flow": null,
            "grid_auto_rows": null,
            "grid_column": null,
            "grid_gap": null,
            "grid_row": null,
            "grid_template_areas": null,
            "grid_template_columns": null,
            "grid_template_rows": null,
            "height": null,
            "justify_content": null,
            "justify_items": null,
            "left": null,
            "margin": null,
            "max_height": null,
            "max_width": null,
            "min_height": null,
            "min_width": null,
            "object_fit": null,
            "object_position": null,
            "order": null,
            "overflow": null,
            "overflow_x": null,
            "overflow_y": null,
            "padding": null,
            "right": null,
            "top": null,
            "visibility": null,
            "width": null
          }
        },
        "333e667135f345c98eb3f852f5713c09": {
          "model_module": "@jupyter-widgets/base",
          "model_module_version": "1.2.0",
          "model_name": "LayoutModel",
          "state": {
            "_model_module": "@jupyter-widgets/base",
            "_model_module_version": "1.2.0",
            "_model_name": "LayoutModel",
            "_view_count": null,
            "_view_module": "@jupyter-widgets/base",
            "_view_module_version": "1.2.0",
            "_view_name": "LayoutView",
            "align_content": null,
            "align_items": null,
            "align_self": null,
            "border": null,
            "bottom": null,
            "display": null,
            "flex": null,
            "flex_flow": null,
            "grid_area": null,
            "grid_auto_columns": null,
            "grid_auto_flow": null,
            "grid_auto_rows": null,
            "grid_column": null,
            "grid_gap": null,
            "grid_row": null,
            "grid_template_areas": null,
            "grid_template_columns": null,
            "grid_template_rows": null,
            "height": null,
            "justify_content": null,
            "justify_items": null,
            "left": null,
            "margin": null,
            "max_height": null,
            "max_width": null,
            "min_height": null,
            "min_width": null,
            "object_fit": null,
            "object_position": null,
            "order": null,
            "overflow": null,
            "overflow_x": null,
            "overflow_y": null,
            "padding": null,
            "right": null,
            "top": null,
            "visibility": null,
            "width": null
          }
        },
        "38cbe44e1aa94c1a8017e519c6ef7f2c": {
          "model_module": "@jupyter-widgets/base",
          "model_module_version": "1.2.0",
          "model_name": "LayoutModel",
          "state": {
            "_model_module": "@jupyter-widgets/base",
            "_model_module_version": "1.2.0",
            "_model_name": "LayoutModel",
            "_view_count": null,
            "_view_module": "@jupyter-widgets/base",
            "_view_module_version": "1.2.0",
            "_view_name": "LayoutView",
            "align_content": null,
            "align_items": null,
            "align_self": null,
            "border": null,
            "bottom": null,
            "display": null,
            "flex": null,
            "flex_flow": null,
            "grid_area": null,
            "grid_auto_columns": null,
            "grid_auto_flow": null,
            "grid_auto_rows": null,
            "grid_column": null,
            "grid_gap": null,
            "grid_row": null,
            "grid_template_areas": null,
            "grid_template_columns": null,
            "grid_template_rows": null,
            "height": null,
            "justify_content": null,
            "justify_items": null,
            "left": null,
            "margin": null,
            "max_height": null,
            "max_width": null,
            "min_height": null,
            "min_width": null,
            "object_fit": null,
            "object_position": null,
            "order": null,
            "overflow": null,
            "overflow_x": null,
            "overflow_y": null,
            "padding": null,
            "right": null,
            "top": null,
            "visibility": null,
            "width": null
          }
        },
        "3b335478bc1c4fc08a2966039800f743": {
          "model_module": "@jupyter-widgets/base",
          "model_module_version": "1.2.0",
          "model_name": "LayoutModel",
          "state": {
            "_model_module": "@jupyter-widgets/base",
            "_model_module_version": "1.2.0",
            "_model_name": "LayoutModel",
            "_view_count": null,
            "_view_module": "@jupyter-widgets/base",
            "_view_module_version": "1.2.0",
            "_view_name": "LayoutView",
            "align_content": null,
            "align_items": null,
            "align_self": null,
            "border": null,
            "bottom": null,
            "display": null,
            "flex": null,
            "flex_flow": null,
            "grid_area": null,
            "grid_auto_columns": null,
            "grid_auto_flow": null,
            "grid_auto_rows": null,
            "grid_column": null,
            "grid_gap": null,
            "grid_row": null,
            "grid_template_areas": null,
            "grid_template_columns": null,
            "grid_template_rows": null,
            "height": null,
            "justify_content": null,
            "justify_items": null,
            "left": null,
            "margin": null,
            "max_height": null,
            "max_width": null,
            "min_height": null,
            "min_width": null,
            "object_fit": null,
            "object_position": null,
            "order": null,
            "overflow": null,
            "overflow_x": null,
            "overflow_y": null,
            "padding": null,
            "right": null,
            "top": null,
            "visibility": null,
            "width": null
          }
        },
        "3b836f3c74c6423d9bf2ac7c25b6de36": {
          "model_module": "@jupyter-widgets/base",
          "model_module_version": "1.2.0",
          "model_name": "LayoutModel",
          "state": {
            "_model_module": "@jupyter-widgets/base",
            "_model_module_version": "1.2.0",
            "_model_name": "LayoutModel",
            "_view_count": null,
            "_view_module": "@jupyter-widgets/base",
            "_view_module_version": "1.2.0",
            "_view_name": "LayoutView",
            "align_content": null,
            "align_items": null,
            "align_self": null,
            "border": null,
            "bottom": null,
            "display": null,
            "flex": null,
            "flex_flow": null,
            "grid_area": null,
            "grid_auto_columns": null,
            "grid_auto_flow": null,
            "grid_auto_rows": null,
            "grid_column": null,
            "grid_gap": null,
            "grid_row": null,
            "grid_template_areas": null,
            "grid_template_columns": null,
            "grid_template_rows": null,
            "height": null,
            "justify_content": null,
            "justify_items": null,
            "left": null,
            "margin": null,
            "max_height": null,
            "max_width": null,
            "min_height": null,
            "min_width": null,
            "object_fit": null,
            "object_position": null,
            "order": null,
            "overflow": null,
            "overflow_x": null,
            "overflow_y": null,
            "padding": null,
            "right": null,
            "top": null,
            "visibility": null,
            "width": null
          }
        },
        "3df9930e8f994d818692a7a22a1df2d7": {
          "model_module": "@jupyter-widgets/controls",
          "model_module_version": "1.5.0",
          "model_name": "DescriptionStyleModel",
          "state": {
            "_model_module": "@jupyter-widgets/controls",
            "_model_module_version": "1.5.0",
            "_model_name": "DescriptionStyleModel",
            "_view_count": null,
            "_view_module": "@jupyter-widgets/base",
            "_view_module_version": "1.2.0",
            "_view_name": "StyleView",
            "description_width": ""
          }
        },
        "3f111ffab44f4e498ff64f7f177c1499": {
          "model_module": "@jupyter-widgets/base",
          "model_module_version": "1.2.0",
          "model_name": "LayoutModel",
          "state": {
            "_model_module": "@jupyter-widgets/base",
            "_model_module_version": "1.2.0",
            "_model_name": "LayoutModel",
            "_view_count": null,
            "_view_module": "@jupyter-widgets/base",
            "_view_module_version": "1.2.0",
            "_view_name": "LayoutView",
            "align_content": null,
            "align_items": null,
            "align_self": null,
            "border": null,
            "bottom": null,
            "display": null,
            "flex": null,
            "flex_flow": null,
            "grid_area": null,
            "grid_auto_columns": null,
            "grid_auto_flow": null,
            "grid_auto_rows": null,
            "grid_column": null,
            "grid_gap": null,
            "grid_row": null,
            "grid_template_areas": null,
            "grid_template_columns": null,
            "grid_template_rows": null,
            "height": null,
            "justify_content": null,
            "justify_items": null,
            "left": null,
            "margin": null,
            "max_height": null,
            "max_width": null,
            "min_height": null,
            "min_width": null,
            "object_fit": null,
            "object_position": null,
            "order": null,
            "overflow": null,
            "overflow_x": null,
            "overflow_y": null,
            "padding": null,
            "right": null,
            "top": null,
            "visibility": null,
            "width": null
          }
        },
        "3fc94fe0a3684f8ea58a8da969d645c3": {
          "model_module": "@jupyter-widgets/base",
          "model_module_version": "1.2.0",
          "model_name": "LayoutModel",
          "state": {
            "_model_module": "@jupyter-widgets/base",
            "_model_module_version": "1.2.0",
            "_model_name": "LayoutModel",
            "_view_count": null,
            "_view_module": "@jupyter-widgets/base",
            "_view_module_version": "1.2.0",
            "_view_name": "LayoutView",
            "align_content": null,
            "align_items": null,
            "align_self": null,
            "border": null,
            "bottom": null,
            "display": null,
            "flex": null,
            "flex_flow": null,
            "grid_area": null,
            "grid_auto_columns": null,
            "grid_auto_flow": null,
            "grid_auto_rows": null,
            "grid_column": null,
            "grid_gap": null,
            "grid_row": null,
            "grid_template_areas": null,
            "grid_template_columns": null,
            "grid_template_rows": null,
            "height": null,
            "justify_content": null,
            "justify_items": null,
            "left": null,
            "margin": null,
            "max_height": null,
            "max_width": null,
            "min_height": null,
            "min_width": null,
            "object_fit": null,
            "object_position": null,
            "order": null,
            "overflow": null,
            "overflow_x": null,
            "overflow_y": null,
            "padding": null,
            "right": null,
            "top": null,
            "visibility": null,
            "width": null
          }
        },
        "3ff87a32105640a0b2b17b35ce27ce01": {
          "model_module": "@jupyter-widgets/controls",
          "model_module_version": "1.5.0",
          "model_name": "DescriptionStyleModel",
          "state": {
            "_model_module": "@jupyter-widgets/controls",
            "_model_module_version": "1.5.0",
            "_model_name": "DescriptionStyleModel",
            "_view_count": null,
            "_view_module": "@jupyter-widgets/base",
            "_view_module_version": "1.2.0",
            "_view_name": "StyleView",
            "description_width": ""
          }
        },
        "41898678bb4e4c1294f27fa9b91ea4c5": {
          "model_module": "@jupyter-widgets/controls",
          "model_module_version": "1.5.0",
          "model_name": "HBoxModel",
          "state": {
            "_dom_classes": [],
            "_model_module": "@jupyter-widgets/controls",
            "_model_module_version": "1.5.0",
            "_model_name": "HBoxModel",
            "_view_count": null,
            "_view_module": "@jupyter-widgets/controls",
            "_view_module_version": "1.5.0",
            "_view_name": "HBoxView",
            "box_style": "",
            "children": [
              "IPY_MODEL_e45c6d73325f42b58b5a0910273fa918",
              "IPY_MODEL_9413b1f0928c40b2a98a689b24998ec8",
              "IPY_MODEL_30ca5ee4ad664286976531ddc472a246"
            ],
            "layout": "IPY_MODEL_3b335478bc1c4fc08a2966039800f743"
          }
        },
        "41c4ce4280814c949e05b9cd4f9e1e48": {
          "model_module": "@jupyter-widgets/base",
          "model_module_version": "1.2.0",
          "model_name": "LayoutModel",
          "state": {
            "_model_module": "@jupyter-widgets/base",
            "_model_module_version": "1.2.0",
            "_model_name": "LayoutModel",
            "_view_count": null,
            "_view_module": "@jupyter-widgets/base",
            "_view_module_version": "1.2.0",
            "_view_name": "LayoutView",
            "align_content": null,
            "align_items": null,
            "align_self": null,
            "border": null,
            "bottom": null,
            "display": null,
            "flex": null,
            "flex_flow": null,
            "grid_area": null,
            "grid_auto_columns": null,
            "grid_auto_flow": null,
            "grid_auto_rows": null,
            "grid_column": null,
            "grid_gap": null,
            "grid_row": null,
            "grid_template_areas": null,
            "grid_template_columns": null,
            "grid_template_rows": null,
            "height": null,
            "justify_content": null,
            "justify_items": null,
            "left": null,
            "margin": null,
            "max_height": null,
            "max_width": null,
            "min_height": null,
            "min_width": null,
            "object_fit": null,
            "object_position": null,
            "order": null,
            "overflow": null,
            "overflow_x": null,
            "overflow_y": null,
            "padding": null,
            "right": null,
            "top": null,
            "visibility": null,
            "width": null
          }
        },
        "425fa2aa7c494e88a41704126bbe7344": {
          "model_module": "@jupyter-widgets/base",
          "model_module_version": "1.2.0",
          "model_name": "LayoutModel",
          "state": {
            "_model_module": "@jupyter-widgets/base",
            "_model_module_version": "1.2.0",
            "_model_name": "LayoutModel",
            "_view_count": null,
            "_view_module": "@jupyter-widgets/base",
            "_view_module_version": "1.2.0",
            "_view_name": "LayoutView",
            "align_content": null,
            "align_items": null,
            "align_self": null,
            "border": null,
            "bottom": null,
            "display": null,
            "flex": null,
            "flex_flow": null,
            "grid_area": null,
            "grid_auto_columns": null,
            "grid_auto_flow": null,
            "grid_auto_rows": null,
            "grid_column": null,
            "grid_gap": null,
            "grid_row": null,
            "grid_template_areas": null,
            "grid_template_columns": null,
            "grid_template_rows": null,
            "height": null,
            "justify_content": null,
            "justify_items": null,
            "left": null,
            "margin": null,
            "max_height": null,
            "max_width": null,
            "min_height": null,
            "min_width": null,
            "object_fit": null,
            "object_position": null,
            "order": null,
            "overflow": null,
            "overflow_x": null,
            "overflow_y": null,
            "padding": null,
            "right": null,
            "top": null,
            "visibility": null,
            "width": null
          }
        },
        "44cb13d9e8a848789f40a8659f8c3bcb": {
          "model_module": "@jupyter-widgets/controls",
          "model_module_version": "1.5.0",
          "model_name": "HBoxModel",
          "state": {
            "_dom_classes": [],
            "_model_module": "@jupyter-widgets/controls",
            "_model_module_version": "1.5.0",
            "_model_name": "HBoxModel",
            "_view_count": null,
            "_view_module": "@jupyter-widgets/controls",
            "_view_module_version": "1.5.0",
            "_view_name": "HBoxView",
            "box_style": "",
            "children": [
              "IPY_MODEL_126f16a27f244a8d9a68d1efcd55626b",
              "IPY_MODEL_b7412d1c00ec4c46baf47eccbcbf80cd",
              "IPY_MODEL_f87ab72fecc64b1dbce8b7e467e30fa0"
            ],
            "layout": "IPY_MODEL_94625eb29f3c47759528d76282e52311"
          }
        },
        "471c5f4dbd764e53a94950dc671525b5": {
          "model_module": "@jupyter-widgets/controls",
          "model_module_version": "1.5.0",
          "model_name": "HBoxModel",
          "state": {
            "_dom_classes": [],
            "_model_module": "@jupyter-widgets/controls",
            "_model_module_version": "1.5.0",
            "_model_name": "HBoxModel",
            "_view_count": null,
            "_view_module": "@jupyter-widgets/controls",
            "_view_module_version": "1.5.0",
            "_view_name": "HBoxView",
            "box_style": "",
            "children": [
              "IPY_MODEL_de51b89ecca54cc1a4f970b0a545caa6",
              "IPY_MODEL_0b3b8a07c87146a48f63b8da981ecb3d",
              "IPY_MODEL_947b23773eac4f358d57de55a9720692"
            ],
            "layout": "IPY_MODEL_9a6acc5bf136410f86d769721307d297"
          }
        },
        "47d09b90c3f84e5e8b4f8e11061c44d4": {
          "model_module": "@jupyter-widgets/controls",
          "model_module_version": "1.5.0",
          "model_name": "DescriptionStyleModel",
          "state": {
            "_model_module": "@jupyter-widgets/controls",
            "_model_module_version": "1.5.0",
            "_model_name": "DescriptionStyleModel",
            "_view_count": null,
            "_view_module": "@jupyter-widgets/base",
            "_view_module_version": "1.2.0",
            "_view_name": "StyleView",
            "description_width": ""
          }
        },
        "47d9136f41fb4eefa8a9b04bb614487f": {
          "model_module": "@jupyter-widgets/controls",
          "model_module_version": "1.5.0",
          "model_name": "DescriptionStyleModel",
          "state": {
            "_model_module": "@jupyter-widgets/controls",
            "_model_module_version": "1.5.0",
            "_model_name": "DescriptionStyleModel",
            "_view_count": null,
            "_view_module": "@jupyter-widgets/base",
            "_view_module_version": "1.2.0",
            "_view_name": "StyleView",
            "description_width": ""
          }
        },
        "4ab814e1926b43a39d3fcaab31103199": {
          "model_module": "@jupyter-widgets/controls",
          "model_module_version": "1.5.0",
          "model_name": "HTMLModel",
          "state": {
            "_dom_classes": [],
            "_model_module": "@jupyter-widgets/controls",
            "_model_module_version": "1.5.0",
            "_model_name": "HTMLModel",
            "_view_count": null,
            "_view_module": "@jupyter-widgets/controls",
            "_view_module_version": "1.5.0",
            "_view_name": "HTMLView",
            "description": "",
            "description_tooltip": null,
            "layout": "IPY_MODEL_84caaf332b96446b8de8e61d8db88964",
            "placeholder": "​",
            "style": "IPY_MODEL_ccb526c6be3744f7ac87df5b6f5fb16a",
            "value": "tokenizer.model: 100%"
          }
        },
        "4ac95f88b15e45fd9502ed2d6d8d2833": {
          "model_module": "@jupyter-widgets/controls",
          "model_module_version": "1.5.0",
          "model_name": "ProgressStyleModel",
          "state": {
            "_model_module": "@jupyter-widgets/controls",
            "_model_module_version": "1.5.0",
            "_model_name": "ProgressStyleModel",
            "_view_count": null,
            "_view_module": "@jupyter-widgets/base",
            "_view_module_version": "1.2.0",
            "_view_name": "StyleView",
            "bar_color": null,
            "description_width": ""
          }
        },
        "4af0aae026ee464fa4effd6ebbf2cc65": {
          "model_module": "@jupyter-widgets/controls",
          "model_module_version": "1.5.0",
          "model_name": "HTMLModel",
          "state": {
            "_dom_classes": [],
            "_model_module": "@jupyter-widgets/controls",
            "_model_module_version": "1.5.0",
            "_model_name": "HTMLModel",
            "_view_count": null,
            "_view_module": "@jupyter-widgets/controls",
            "_view_module_version": "1.5.0",
            "_view_name": "HTMLView",
            "description": "",
            "description_tooltip": null,
            "layout": "IPY_MODEL_aa67922852864c4d96d35d47b95e7fdc",
            "placeholder": "​",
            "style": "IPY_MODEL_0cdc032650254375a33450344fd0983e",
            "value": " 493k/493k [00:01&lt;00:00, 65.0kB/s]"
          }
        },
        "4cedb381167345abb531d091c1d7deed": {
          "model_module": "@jupyter-widgets/controls",
          "model_module_version": "1.5.0",
          "model_name": "HBoxModel",
          "state": {
            "_dom_classes": [],
            "_model_module": "@jupyter-widgets/controls",
            "_model_module_version": "1.5.0",
            "_model_name": "HBoxModel",
            "_view_count": null,
            "_view_module": "@jupyter-widgets/controls",
            "_view_module_version": "1.5.0",
            "_view_name": "HBoxView",
            "box_style": "",
            "children": [
              "IPY_MODEL_0b17d1a50d4146a88ffd2b5264fdcdae",
              "IPY_MODEL_b8fc9504cb8e412582b07b523ba1f39c",
              "IPY_MODEL_619f73d7aaf14f51a38b06d5374c0f8a"
            ],
            "layout": "IPY_MODEL_81660184c30e4ee4bfe1f4fce46c9b4d"
          }
        },
        "522e502f02fc410a95004c6430422e5f": {
          "model_module": "@jupyter-widgets/controls",
          "model_module_version": "1.5.0",
          "model_name": "CheckboxModel",
          "state": {
            "_dom_classes": [],
            "_model_module": "@jupyter-widgets/controls",
            "_model_module_version": "1.5.0",
            "_model_name": "CheckboxModel",
            "_view_count": null,
            "_view_module": "@jupyter-widgets/controls",
            "_view_module_version": "1.5.0",
            "_view_name": "CheckboxView",
            "description": "Add token as git credential?",
            "description_tooltip": null,
            "disabled": false,
            "indent": true,
            "layout": "IPY_MODEL_8a4cb3de6a4049f9b25d7851d9623345",
            "style": "IPY_MODEL_63232ed550be4565b7f2a93f3ec8bda7",
            "value": true
          }
        },
        "527c5f72cc424c86817aa7466207d7ed": {
          "model_module": "@jupyter-widgets/controls",
          "model_module_version": "1.5.0",
          "model_name": "DescriptionStyleModel",
          "state": {
            "_model_module": "@jupyter-widgets/controls",
            "_model_module_version": "1.5.0",
            "_model_name": "DescriptionStyleModel",
            "_view_count": null,
            "_view_module": "@jupyter-widgets/base",
            "_view_module_version": "1.2.0",
            "_view_name": "StyleView",
            "description_width": ""
          }
        },
        "54c7bf9decbf4b1bb1933b3db1098485": {
          "model_module": "@jupyter-widgets/controls",
          "model_module_version": "1.5.0",
          "model_name": "HTMLModel",
          "state": {
            "_dom_classes": [],
            "_model_module": "@jupyter-widgets/controls",
            "_model_module_version": "1.5.0",
            "_model_name": "HTMLModel",
            "_view_count": null,
            "_view_module": "@jupyter-widgets/controls",
            "_view_module_version": "1.5.0",
            "_view_name": "HTMLView",
            "description": "",
            "description_tooltip": null,
            "layout": "IPY_MODEL_a4dd5943f4404d96bb127337ced709e2",
            "placeholder": "​",
            "style": "IPY_MODEL_a89b53ebf8054858a23ef937374d4f48",
            "value": " 4.92k/4.92k [00:00&lt;00:00, 18.8kB/s]"
          }
        },
        "550a05e45482408086f30306dca0534d": {
          "model_module": "@jupyter-widgets/base",
          "model_module_version": "1.2.0",
          "model_name": "LayoutModel",
          "state": {
            "_model_module": "@jupyter-widgets/base",
            "_model_module_version": "1.2.0",
            "_model_name": "LayoutModel",
            "_view_count": null,
            "_view_module": "@jupyter-widgets/base",
            "_view_module_version": "1.2.0",
            "_view_name": "LayoutView",
            "align_content": null,
            "align_items": null,
            "align_self": null,
            "border": null,
            "bottom": null,
            "display": null,
            "flex": null,
            "flex_flow": null,
            "grid_area": null,
            "grid_auto_columns": null,
            "grid_auto_flow": null,
            "grid_auto_rows": null,
            "grid_column": null,
            "grid_gap": null,
            "grid_row": null,
            "grid_template_areas": null,
            "grid_template_columns": null,
            "grid_template_rows": null,
            "height": null,
            "justify_content": null,
            "justify_items": null,
            "left": null,
            "margin": null,
            "max_height": null,
            "max_width": null,
            "min_height": null,
            "min_width": null,
            "object_fit": null,
            "object_position": null,
            "order": null,
            "overflow": null,
            "overflow_x": null,
            "overflow_y": null,
            "padding": null,
            "right": null,
            "top": null,
            "visibility": null,
            "width": null
          }
        },
        "55a4de73a5b94cd4b199752f1c38d024": {
          "model_module": "@jupyter-widgets/controls",
          "model_module_version": "1.5.0",
          "model_name": "ButtonModel",
          "state": {
            "_dom_classes": [],
            "_model_module": "@jupyter-widgets/controls",
            "_model_module_version": "1.5.0",
            "_model_name": "ButtonModel",
            "_view_count": null,
            "_view_module": "@jupyter-widgets/controls",
            "_view_module_version": "1.5.0",
            "_view_name": "ButtonView",
            "button_style": "",
            "description": "Login",
            "disabled": false,
            "icon": "",
            "layout": "IPY_MODEL_faac4d03a8bb4b6189fb2df0f9303666",
            "style": "IPY_MODEL_e5df79dffb2b4fdd912ed64ce0fa1c3d",
            "tooltip": ""
          }
        },
        "58381d6e91c04e3683c1015b8aa76d8a": {
          "model_module": "@jupyter-widgets/controls",
          "model_module_version": "1.5.0",
          "model_name": "DescriptionStyleModel",
          "state": {
            "_model_module": "@jupyter-widgets/controls",
            "_model_module_version": "1.5.0",
            "_model_name": "DescriptionStyleModel",
            "_view_count": null,
            "_view_module": "@jupyter-widgets/base",
            "_view_module_version": "1.2.0",
            "_view_name": "StyleView",
            "description_width": ""
          }
        },
        "619f73d7aaf14f51a38b06d5374c0f8a": {
          "model_module": "@jupyter-widgets/controls",
          "model_module_version": "1.5.0",
          "model_name": "HTMLModel",
          "state": {
            "_dom_classes": [],
            "_model_module": "@jupyter-widgets/controls",
            "_model_module_version": "1.5.0",
            "_model_name": "HTMLModel",
            "_view_count": null,
            "_view_module": "@jupyter-widgets/controls",
            "_view_module_version": "1.5.0",
            "_view_name": "HTMLView",
            "description": "",
            "description_tooltip": null,
            "layout": "IPY_MODEL_bd092faddf3b42299a19755d921a4290",
            "placeholder": "​",
            "style": "IPY_MODEL_cf14c0e9b8744e3ea4b26b1a6db4b3db",
            "value": " 5.05k/5.05k [00:00&lt;00:00, 17.1kB/s]"
          }
        },
        "62d2690e61304e50a18bc5bbdfbb5c00": {
          "model_module": "@jupyter-widgets/controls",
          "model_module_version": "1.5.0",
          "model_name": "DescriptionStyleModel",
          "state": {
            "_model_module": "@jupyter-widgets/controls",
            "_model_module_version": "1.5.0",
            "_model_name": "DescriptionStyleModel",
            "_view_count": null,
            "_view_module": "@jupyter-widgets/base",
            "_view_module_version": "1.2.0",
            "_view_name": "StyleView",
            "description_width": ""
          }
        },
        "63232ed550be4565b7f2a93f3ec8bda7": {
          "model_module": "@jupyter-widgets/controls",
          "model_module_version": "1.5.0",
          "model_name": "DescriptionStyleModel",
          "state": {
            "_model_module": "@jupyter-widgets/controls",
            "_model_module_version": "1.5.0",
            "_model_name": "DescriptionStyleModel",
            "_view_count": null,
            "_view_module": "@jupyter-widgets/base",
            "_view_module_version": "1.2.0",
            "_view_name": "StyleView",
            "description_width": ""
          }
        },
        "63fea19087d44a6bbcda2015e13f7d06": {
          "model_module": "@jupyter-widgets/base",
          "model_module_version": "1.2.0",
          "model_name": "LayoutModel",
          "state": {
            "_model_module": "@jupyter-widgets/base",
            "_model_module_version": "1.2.0",
            "_model_name": "LayoutModel",
            "_view_count": null,
            "_view_module": "@jupyter-widgets/base",
            "_view_module_version": "1.2.0",
            "_view_name": "LayoutView",
            "align_content": null,
            "align_items": null,
            "align_self": null,
            "border": null,
            "bottom": null,
            "display": null,
            "flex": null,
            "flex_flow": null,
            "grid_area": null,
            "grid_auto_columns": null,
            "grid_auto_flow": null,
            "grid_auto_rows": null,
            "grid_column": null,
            "grid_gap": null,
            "grid_row": null,
            "grid_template_areas": null,
            "grid_template_columns": null,
            "grid_template_rows": null,
            "height": null,
            "justify_content": null,
            "justify_items": null,
            "left": null,
            "margin": null,
            "max_height": null,
            "max_width": null,
            "min_height": null,
            "min_width": null,
            "object_fit": null,
            "object_position": null,
            "order": null,
            "overflow": null,
            "overflow_x": null,
            "overflow_y": null,
            "padding": null,
            "right": null,
            "top": null,
            "visibility": null,
            "width": null
          }
        },
        "690d24cc9272429cb5027d684255d332": {
          "model_module": "@jupyter-widgets/controls",
          "model_module_version": "1.5.0",
          "model_name": "ProgressStyleModel",
          "state": {
            "_model_module": "@jupyter-widgets/controls",
            "_model_module_version": "1.5.0",
            "_model_name": "ProgressStyleModel",
            "_view_count": null,
            "_view_module": "@jupyter-widgets/base",
            "_view_module_version": "1.2.0",
            "_view_name": "StyleView",
            "bar_color": null,
            "description_width": ""
          }
        },
        "6b746a3f9abb43e4985bac049acb1c06": {
          "model_module": "@jupyter-widgets/controls",
          "model_module_version": "1.5.0",
          "model_name": "HBoxModel",
          "state": {
            "_dom_classes": [],
            "_model_module": "@jupyter-widgets/controls",
            "_model_module_version": "1.5.0",
            "_model_name": "HBoxModel",
            "_view_count": null,
            "_view_module": "@jupyter-widgets/controls",
            "_view_module_version": "1.5.0",
            "_view_name": "HBoxView",
            "box_style": "",
            "children": [
              "IPY_MODEL_db4befddf76643e989e5a3ca7255194f",
              "IPY_MODEL_7fff644da05b4ab994bd5fb083aeeecf",
              "IPY_MODEL_1c88aecefcd940ba9cd5557280842b74"
            ],
            "layout": "IPY_MODEL_3b836f3c74c6423d9bf2ac7c25b6de36"
          }
        },
        "6e3b3f2915fa484cba8f31ccd909da25": {
          "model_module": "@jupyter-widgets/base",
          "model_module_version": "1.2.0",
          "model_name": "LayoutModel",
          "state": {
            "_model_module": "@jupyter-widgets/base",
            "_model_module_version": "1.2.0",
            "_model_name": "LayoutModel",
            "_view_count": null,
            "_view_module": "@jupyter-widgets/base",
            "_view_module_version": "1.2.0",
            "_view_name": "LayoutView",
            "align_content": null,
            "align_items": null,
            "align_self": null,
            "border": null,
            "bottom": null,
            "display": null,
            "flex": null,
            "flex_flow": null,
            "grid_area": null,
            "grid_auto_columns": null,
            "grid_auto_flow": null,
            "grid_auto_rows": null,
            "grid_column": null,
            "grid_gap": null,
            "grid_row": null,
            "grid_template_areas": null,
            "grid_template_columns": null,
            "grid_template_rows": null,
            "height": null,
            "justify_content": null,
            "justify_items": null,
            "left": null,
            "margin": null,
            "max_height": null,
            "max_width": null,
            "min_height": null,
            "min_width": null,
            "object_fit": null,
            "object_position": null,
            "order": null,
            "overflow": null,
            "overflow_x": null,
            "overflow_y": null,
            "padding": null,
            "right": null,
            "top": null,
            "visibility": null,
            "width": null
          }
        },
        "7f3a935fc6c74994b2c05378ad10d9da": {
          "model_module": "@jupyter-widgets/base",
          "model_module_version": "1.2.0",
          "model_name": "LayoutModel",
          "state": {
            "_model_module": "@jupyter-widgets/base",
            "_model_module_version": "1.2.0",
            "_model_name": "LayoutModel",
            "_view_count": null,
            "_view_module": "@jupyter-widgets/base",
            "_view_module_version": "1.2.0",
            "_view_name": "LayoutView",
            "align_content": null,
            "align_items": null,
            "align_self": null,
            "border": null,
            "bottom": null,
            "display": null,
            "flex": null,
            "flex_flow": null,
            "grid_area": null,
            "grid_auto_columns": null,
            "grid_auto_flow": null,
            "grid_auto_rows": null,
            "grid_column": null,
            "grid_gap": null,
            "grid_row": null,
            "grid_template_areas": null,
            "grid_template_columns": null,
            "grid_template_rows": null,
            "height": null,
            "justify_content": null,
            "justify_items": null,
            "left": null,
            "margin": null,
            "max_height": null,
            "max_width": null,
            "min_height": null,
            "min_width": null,
            "object_fit": null,
            "object_position": null,
            "order": null,
            "overflow": null,
            "overflow_x": null,
            "overflow_y": null,
            "padding": null,
            "right": null,
            "top": null,
            "visibility": null,
            "width": null
          }
        },
        "7fff644da05b4ab994bd5fb083aeeecf": {
          "model_module": "@jupyter-widgets/controls",
          "model_module_version": "1.5.0",
          "model_name": "FloatProgressModel",
          "state": {
            "_dom_classes": [],
            "_model_module": "@jupyter-widgets/controls",
            "_model_module_version": "1.5.0",
            "_model_name": "FloatProgressModel",
            "_view_count": null,
            "_view_module": "@jupyter-widgets/controls",
            "_view_module_version": "1.5.0",
            "_view_name": "ProgressView",
            "bar_style": "success",
            "description": "",
            "description_tooltip": null,
            "layout": "IPY_MODEL_ff777ad346324307b85377d020b82159",
            "max": 6,
            "min": 0,
            "orientation": "horizontal",
            "style": "IPY_MODEL_9ba434279ca34d75b6905836e88eb752",
            "value": 6
          }
        },
        "81660184c30e4ee4bfe1f4fce46c9b4d": {
          "model_module": "@jupyter-widgets/base",
          "model_module_version": "1.2.0",
          "model_name": "LayoutModel",
          "state": {
            "_model_module": "@jupyter-widgets/base",
            "_model_module_version": "1.2.0",
            "_model_name": "LayoutModel",
            "_view_count": null,
            "_view_module": "@jupyter-widgets/base",
            "_view_module_version": "1.2.0",
            "_view_name": "LayoutView",
            "align_content": null,
            "align_items": null,
            "align_self": null,
            "border": null,
            "bottom": null,
            "display": null,
            "flex": null,
            "flex_flow": null,
            "grid_area": null,
            "grid_auto_columns": null,
            "grid_auto_flow": null,
            "grid_auto_rows": null,
            "grid_column": null,
            "grid_gap": null,
            "grid_row": null,
            "grid_template_areas": null,
            "grid_template_columns": null,
            "grid_template_rows": null,
            "height": null,
            "justify_content": null,
            "justify_items": null,
            "left": null,
            "margin": null,
            "max_height": null,
            "max_width": null,
            "min_height": null,
            "min_width": null,
            "object_fit": null,
            "object_position": null,
            "order": null,
            "overflow": null,
            "overflow_x": null,
            "overflow_y": null,
            "padding": null,
            "right": null,
            "top": null,
            "visibility": null,
            "width": null
          }
        },
        "83d97572b3ae482bab424a023c36f20b": {
          "model_module": "@jupyter-widgets/controls",
          "model_module_version": "1.5.0",
          "model_name": "HTMLModel",
          "state": {
            "_dom_classes": [],
            "_model_module": "@jupyter-widgets/controls",
            "_model_module_version": "1.5.0",
            "_model_name": "HTMLModel",
            "_view_count": null,
            "_view_module": "@jupyter-widgets/controls",
            "_view_module_version": "1.5.0",
            "_view_name": "HTMLView",
            "description": "",
            "description_tooltip": null,
            "layout": "IPY_MODEL_0518f95d1ab74e95ac8171fb375b2ade",
            "placeholder": "​",
            "style": "IPY_MODEL_93b1fac730a342489edce0fc80c83ed5",
            "value": "<center> <img\nsrc=https://huggingface.co/front/assets/huggingface_logo-noborder.svg\nalt='Hugging Face'> <br> Copy a token from <a\nhref=\"https://huggingface.co/settings/tokens\" target=\"_blank\">your Hugging Face\ntokens page</a> and paste it below. <br> Immediately click login after copying\nyour token or it might be stored in plain text in this notebook file. </center>"
          }
        },
        "84caaf332b96446b8de8e61d8db88964": {
          "model_module": "@jupyter-widgets/base",
          "model_module_version": "1.2.0",
          "model_name": "LayoutModel",
          "state": {
            "_model_module": "@jupyter-widgets/base",
            "_model_module_version": "1.2.0",
            "_model_name": "LayoutModel",
            "_view_count": null,
            "_view_module": "@jupyter-widgets/base",
            "_view_module_version": "1.2.0",
            "_view_name": "LayoutView",
            "align_content": null,
            "align_items": null,
            "align_self": null,
            "border": null,
            "bottom": null,
            "display": null,
            "flex": null,
            "flex_flow": null,
            "grid_area": null,
            "grid_auto_columns": null,
            "grid_auto_flow": null,
            "grid_auto_rows": null,
            "grid_column": null,
            "grid_gap": null,
            "grid_row": null,
            "grid_template_areas": null,
            "grid_template_columns": null,
            "grid_template_rows": null,
            "height": null,
            "justify_content": null,
            "justify_items": null,
            "left": null,
            "margin": null,
            "max_height": null,
            "max_width": null,
            "min_height": null,
            "min_width": null,
            "object_fit": null,
            "object_position": null,
            "order": null,
            "overflow": null,
            "overflow_x": null,
            "overflow_y": null,
            "padding": null,
            "right": null,
            "top": null,
            "visibility": null,
            "width": null
          }
        },
        "87c8d1710e0543a2b056b65b903d7962": {
          "model_module": "@jupyter-widgets/base",
          "model_module_version": "1.2.0",
          "model_name": "LayoutModel",
          "state": {
            "_model_module": "@jupyter-widgets/base",
            "_model_module_version": "1.2.0",
            "_model_name": "LayoutModel",
            "_view_count": null,
            "_view_module": "@jupyter-widgets/base",
            "_view_module_version": "1.2.0",
            "_view_name": "LayoutView",
            "align_content": null,
            "align_items": null,
            "align_self": null,
            "border": null,
            "bottom": null,
            "display": null,
            "flex": null,
            "flex_flow": null,
            "grid_area": null,
            "grid_auto_columns": null,
            "grid_auto_flow": null,
            "grid_auto_rows": null,
            "grid_column": null,
            "grid_gap": null,
            "grid_row": null,
            "grid_template_areas": null,
            "grid_template_columns": null,
            "grid_template_rows": null,
            "height": null,
            "justify_content": null,
            "justify_items": null,
            "left": null,
            "margin": null,
            "max_height": null,
            "max_width": null,
            "min_height": null,
            "min_width": null,
            "object_fit": null,
            "object_position": null,
            "order": null,
            "overflow": null,
            "overflow_x": null,
            "overflow_y": null,
            "padding": null,
            "right": null,
            "top": null,
            "visibility": null,
            "width": null
          }
        },
        "88cf7145286f40008b3b2af44f57c0c0": {
          "model_module": "@jupyter-widgets/controls",
          "model_module_version": "1.5.0",
          "model_name": "LabelModel",
          "state": {
            "_dom_classes": [],
            "_model_module": "@jupyter-widgets/controls",
            "_model_module_version": "1.5.0",
            "_model_name": "LabelModel",
            "_view_count": null,
            "_view_module": "@jupyter-widgets/controls",
            "_view_module_version": "1.5.0",
            "_view_name": "LabelView",
            "description": "",
            "description_tooltip": null,
            "layout": "IPY_MODEL_a8dc337251d94100a668c25366b99114",
            "placeholder": "​",
            "style": "IPY_MODEL_47d9136f41fb4eefa8a9b04bb614487f",
            "value": "Your token has been saved in your configured git credential helpers (store)."
          }
        },
        "89e45dc80bcb406bb918450882570a6a": {
          "model_module": "@jupyter-widgets/base",
          "model_module_version": "1.2.0",
          "model_name": "LayoutModel",
          "state": {
            "_model_module": "@jupyter-widgets/base",
            "_model_module_version": "1.2.0",
            "_model_name": "LayoutModel",
            "_view_count": null,
            "_view_module": "@jupyter-widgets/base",
            "_view_module_version": "1.2.0",
            "_view_name": "LayoutView",
            "align_content": null,
            "align_items": null,
            "align_self": null,
            "border": null,
            "bottom": null,
            "display": null,
            "flex": null,
            "flex_flow": null,
            "grid_area": null,
            "grid_auto_columns": null,
            "grid_auto_flow": null,
            "grid_auto_rows": null,
            "grid_column": null,
            "grid_gap": null,
            "grid_row": null,
            "grid_template_areas": null,
            "grid_template_columns": null,
            "grid_template_rows": null,
            "height": null,
            "justify_content": null,
            "justify_items": null,
            "left": null,
            "margin": null,
            "max_height": null,
            "max_width": null,
            "min_height": null,
            "min_width": null,
            "object_fit": null,
            "object_position": null,
            "order": null,
            "overflow": null,
            "overflow_x": null,
            "overflow_y": null,
            "padding": null,
            "right": null,
            "top": null,
            "visibility": null,
            "width": null
          }
        },
        "8a4cb3de6a4049f9b25d7851d9623345": {
          "model_module": "@jupyter-widgets/base",
          "model_module_version": "1.2.0",
          "model_name": "LayoutModel",
          "state": {
            "_model_module": "@jupyter-widgets/base",
            "_model_module_version": "1.2.0",
            "_model_name": "LayoutModel",
            "_view_count": null,
            "_view_module": "@jupyter-widgets/base",
            "_view_module_version": "1.2.0",
            "_view_name": "LayoutView",
            "align_content": null,
            "align_items": null,
            "align_self": null,
            "border": null,
            "bottom": null,
            "display": null,
            "flex": null,
            "flex_flow": null,
            "grid_area": null,
            "grid_auto_columns": null,
            "grid_auto_flow": null,
            "grid_auto_rows": null,
            "grid_column": null,
            "grid_gap": null,
            "grid_row": null,
            "grid_template_areas": null,
            "grid_template_columns": null,
            "grid_template_rows": null,
            "height": null,
            "justify_content": null,
            "justify_items": null,
            "left": null,
            "margin": null,
            "max_height": null,
            "max_width": null,
            "min_height": null,
            "min_width": null,
            "object_fit": null,
            "object_position": null,
            "order": null,
            "overflow": null,
            "overflow_x": null,
            "overflow_y": null,
            "padding": null,
            "right": null,
            "top": null,
            "visibility": null,
            "width": null
          }
        },
        "8b2212419c8845ce8beba2dd1944a633": {
          "model_module": "@jupyter-widgets/controls",
          "model_module_version": "1.5.0",
          "model_name": "HBoxModel",
          "state": {
            "_dom_classes": [],
            "_model_module": "@jupyter-widgets/controls",
            "_model_module_version": "1.5.0",
            "_model_name": "HBoxModel",
            "_view_count": null,
            "_view_module": "@jupyter-widgets/controls",
            "_view_module_version": "1.5.0",
            "_view_name": "HBoxView",
            "box_style": "",
            "children": [
              "IPY_MODEL_4ab814e1926b43a39d3fcaab31103199",
              "IPY_MODEL_0479d55ba72b4983a129ab999cafda98",
              "IPY_MODEL_4af0aae026ee464fa4effd6ebbf2cc65"
            ],
            "layout": "IPY_MODEL_9e5d061c876f4ac5b4fceb8315f616cd"
          }
        },
        "8eabb1fe30dd4dc184a7d62079a2a737": {
          "model_module": "@jupyter-widgets/base",
          "model_module_version": "1.2.0",
          "model_name": "LayoutModel",
          "state": {
            "_model_module": "@jupyter-widgets/base",
            "_model_module_version": "1.2.0",
            "_model_name": "LayoutModel",
            "_view_count": null,
            "_view_module": "@jupyter-widgets/base",
            "_view_module_version": "1.2.0",
            "_view_name": "LayoutView",
            "align_content": null,
            "align_items": null,
            "align_self": null,
            "border": null,
            "bottom": null,
            "display": null,
            "flex": null,
            "flex_flow": null,
            "grid_area": null,
            "grid_auto_columns": null,
            "grid_auto_flow": null,
            "grid_auto_rows": null,
            "grid_column": null,
            "grid_gap": null,
            "grid_row": null,
            "grid_template_areas": null,
            "grid_template_columns": null,
            "grid_template_rows": null,
            "height": null,
            "justify_content": null,
            "justify_items": null,
            "left": null,
            "margin": null,
            "max_height": null,
            "max_width": null,
            "min_height": null,
            "min_width": null,
            "object_fit": null,
            "object_position": null,
            "order": null,
            "overflow": null,
            "overflow_x": null,
            "overflow_y": null,
            "padding": null,
            "right": null,
            "top": null,
            "visibility": null,
            "width": null
          }
        },
        "93775186903e4f9082b7a2d067a612b8": {
          "model_module": "@jupyter-widgets/base",
          "model_module_version": "1.2.0",
          "model_name": "LayoutModel",
          "state": {
            "_model_module": "@jupyter-widgets/base",
            "_model_module_version": "1.2.0",
            "_model_name": "LayoutModel",
            "_view_count": null,
            "_view_module": "@jupyter-widgets/base",
            "_view_module_version": "1.2.0",
            "_view_name": "LayoutView",
            "align_content": null,
            "align_items": null,
            "align_self": null,
            "border": null,
            "bottom": null,
            "display": null,
            "flex": null,
            "flex_flow": null,
            "grid_area": null,
            "grid_auto_columns": null,
            "grid_auto_flow": null,
            "grid_auto_rows": null,
            "grid_column": null,
            "grid_gap": null,
            "grid_row": null,
            "grid_template_areas": null,
            "grid_template_columns": null,
            "grid_template_rows": null,
            "height": null,
            "justify_content": null,
            "justify_items": null,
            "left": null,
            "margin": null,
            "max_height": null,
            "max_width": null,
            "min_height": null,
            "min_width": null,
            "object_fit": null,
            "object_position": null,
            "order": null,
            "overflow": null,
            "overflow_x": null,
            "overflow_y": null,
            "padding": null,
            "right": null,
            "top": null,
            "visibility": null,
            "width": null
          }
        },
        "93b1fac730a342489edce0fc80c83ed5": {
          "model_module": "@jupyter-widgets/controls",
          "model_module_version": "1.5.0",
          "model_name": "DescriptionStyleModel",
          "state": {
            "_model_module": "@jupyter-widgets/controls",
            "_model_module_version": "1.5.0",
            "_model_name": "DescriptionStyleModel",
            "_view_count": null,
            "_view_module": "@jupyter-widgets/base",
            "_view_module_version": "1.2.0",
            "_view_name": "StyleView",
            "description_width": ""
          }
        },
        "9413b1f0928c40b2a98a689b24998ec8": {
          "model_module": "@jupyter-widgets/controls",
          "model_module_version": "1.5.0",
          "model_name": "FloatProgressModel",
          "state": {
            "_dom_classes": [],
            "_model_module": "@jupyter-widgets/controls",
            "_model_module_version": "1.5.0",
            "_model_name": "FloatProgressModel",
            "_view_count": null,
            "_view_module": "@jupyter-widgets/controls",
            "_view_module_version": "1.5.0",
            "_view_name": "ProgressView",
            "bar_style": "success",
            "description": "",
            "description_tooltip": null,
            "layout": "IPY_MODEL_b99076c778b9469091ee356a3e121ad4",
            "max": 3,
            "min": 0,
            "orientation": "horizontal",
            "style": "IPY_MODEL_b6d9b660332b404f9f52c3739a7fd771",
            "value": 3
          }
        },
        "94625eb29f3c47759528d76282e52311": {
          "model_module": "@jupyter-widgets/base",
          "model_module_version": "1.2.0",
          "model_name": "LayoutModel",
          "state": {
            "_model_module": "@jupyter-widgets/base",
            "_model_module_version": "1.2.0",
            "_model_name": "LayoutModel",
            "_view_count": null,
            "_view_module": "@jupyter-widgets/base",
            "_view_module_version": "1.2.0",
            "_view_name": "LayoutView",
            "align_content": null,
            "align_items": null,
            "align_self": null,
            "border": null,
            "bottom": null,
            "display": null,
            "flex": null,
            "flex_flow": null,
            "grid_area": null,
            "grid_auto_columns": null,
            "grid_auto_flow": null,
            "grid_auto_rows": null,
            "grid_column": null,
            "grid_gap": null,
            "grid_row": null,
            "grid_template_areas": null,
            "grid_template_columns": null,
            "grid_template_rows": null,
            "height": null,
            "justify_content": null,
            "justify_items": null,
            "left": null,
            "margin": null,
            "max_height": null,
            "max_width": null,
            "min_height": null,
            "min_width": null,
            "object_fit": null,
            "object_position": null,
            "order": null,
            "overflow": null,
            "overflow_x": null,
            "overflow_y": null,
            "padding": null,
            "right": null,
            "top": null,
            "visibility": null,
            "width": null
          }
        },
        "947b23773eac4f358d57de55a9720692": {
          "model_module": "@jupyter-widgets/controls",
          "model_module_version": "1.5.0",
          "model_name": "HTMLModel",
          "state": {
            "_dom_classes": [],
            "_model_module": "@jupyter-widgets/controls",
            "_model_module_version": "1.5.0",
            "_model_name": "HTMLModel",
            "_view_count": null,
            "_view_module": "@jupyter-widgets/controls",
            "_view_module_version": "1.5.0",
            "_view_name": "HTMLView",
            "description": "",
            "description_tooltip": null,
            "layout": "IPY_MODEL_3f111ffab44f4e498ff64f7f177c1499",
            "placeholder": "​",
            "style": "IPY_MODEL_62d2690e61304e50a18bc5bbdfbb5c00",
            "value": " 6.35k/6.35k [00:00&lt;00:00, 21.8kB/s]"
          }
        },
        "9782ceb0961741bf84fafe623365a668": {
          "model_module": "@jupyter-widgets/controls",
          "model_module_version": "1.5.0",
          "model_name": "DescriptionStyleModel",
          "state": {
            "_model_module": "@jupyter-widgets/controls",
            "_model_module_version": "1.5.0",
            "_model_name": "DescriptionStyleModel",
            "_view_count": null,
            "_view_module": "@jupyter-widgets/base",
            "_view_module_version": "1.2.0",
            "_view_name": "StyleView",
            "description_width": ""
          }
        },
        "9a1a00385cb14a98892869f06dc9d7a4": {
          "model_module": "@jupyter-widgets/controls",
          "model_module_version": "1.5.0",
          "model_name": "VBoxModel",
          "state": {
            "_dom_classes": [],
            "_model_module": "@jupyter-widgets/controls",
            "_model_module_version": "1.5.0",
            "_model_name": "VBoxModel",
            "_view_count": null,
            "_view_module": "@jupyter-widgets/controls",
            "_view_module_version": "1.5.0",
            "_view_name": "VBoxView",
            "box_style": "",
            "children": [
              "IPY_MODEL_1890aa8d18ea445a8a347902de894262",
              "IPY_MODEL_88cf7145286f40008b3b2af44f57c0c0",
              "IPY_MODEL_0f353f1f05df4b57b7fe3a0c49c82ab9",
              "IPY_MODEL_a92140cd3ac746d2af84a4fc666d7ca1"
            ],
            "layout": "IPY_MODEL_28cf168bc7aa4157aa30374767a2f89d"
          }
        },
        "9a6acc5bf136410f86d769721307d297": {
          "model_module": "@jupyter-widgets/base",
          "model_module_version": "1.2.0",
          "model_name": "LayoutModel",
          "state": {
            "_model_module": "@jupyter-widgets/base",
            "_model_module_version": "1.2.0",
            "_model_name": "LayoutModel",
            "_view_count": null,
            "_view_module": "@jupyter-widgets/base",
            "_view_module_version": "1.2.0",
            "_view_name": "LayoutView",
            "align_content": null,
            "align_items": null,
            "align_self": null,
            "border": null,
            "bottom": null,
            "display": null,
            "flex": null,
            "flex_flow": null,
            "grid_area": null,
            "grid_auto_columns": null,
            "grid_auto_flow": null,
            "grid_auto_rows": null,
            "grid_column": null,
            "grid_gap": null,
            "grid_row": null,
            "grid_template_areas": null,
            "grid_template_columns": null,
            "grid_template_rows": null,
            "height": null,
            "justify_content": null,
            "justify_items": null,
            "left": null,
            "margin": null,
            "max_height": null,
            "max_width": null,
            "min_height": null,
            "min_width": null,
            "object_fit": null,
            "object_position": null,
            "order": null,
            "overflow": null,
            "overflow_x": null,
            "overflow_y": null,
            "padding": null,
            "right": null,
            "top": null,
            "visibility": null,
            "width": null
          }
        },
        "9af0f7b2e97e47ab996a029e928898ed": {
          "model_module": "@jupyter-widgets/base",
          "model_module_version": "1.2.0",
          "model_name": "LayoutModel",
          "state": {
            "_model_module": "@jupyter-widgets/base",
            "_model_module_version": "1.2.0",
            "_model_name": "LayoutModel",
            "_view_count": null,
            "_view_module": "@jupyter-widgets/base",
            "_view_module_version": "1.2.0",
            "_view_name": "LayoutView",
            "align_content": null,
            "align_items": null,
            "align_self": null,
            "border": null,
            "bottom": null,
            "display": null,
            "flex": null,
            "flex_flow": null,
            "grid_area": null,
            "grid_auto_columns": null,
            "grid_auto_flow": null,
            "grid_auto_rows": null,
            "grid_column": null,
            "grid_gap": null,
            "grid_row": null,
            "grid_template_areas": null,
            "grid_template_columns": null,
            "grid_template_rows": null,
            "height": null,
            "justify_content": null,
            "justify_items": null,
            "left": null,
            "margin": null,
            "max_height": null,
            "max_width": null,
            "min_height": null,
            "min_width": null,
            "object_fit": null,
            "object_position": null,
            "order": null,
            "overflow": null,
            "overflow_x": null,
            "overflow_y": null,
            "padding": null,
            "right": null,
            "top": null,
            "visibility": null,
            "width": null
          }
        },
        "9ba434279ca34d75b6905836e88eb752": {
          "model_module": "@jupyter-widgets/controls",
          "model_module_version": "1.5.0",
          "model_name": "ProgressStyleModel",
          "state": {
            "_model_module": "@jupyter-widgets/controls",
            "_model_module_version": "1.5.0",
            "_model_name": "ProgressStyleModel",
            "_view_count": null,
            "_view_module": "@jupyter-widgets/base",
            "_view_module_version": "1.2.0",
            "_view_name": "StyleView",
            "bar_color": null,
            "description_width": ""
          }
        },
        "9d7df2a0187f4e53a7030e50a1ace9e9": {
          "model_module": "@jupyter-widgets/controls",
          "model_module_version": "1.5.0",
          "model_name": "HBoxModel",
          "state": {
            "_dom_classes": [],
            "_model_module": "@jupyter-widgets/controls",
            "_model_module_version": "1.5.0",
            "_model_name": "HBoxModel",
            "_view_count": null,
            "_view_module": "@jupyter-widgets/controls",
            "_view_module_version": "1.5.0",
            "_view_name": "HBoxView",
            "box_style": "",
            "children": [
              "IPY_MODEL_c890606537bb4bd8b68cf15606dd6ea1",
              "IPY_MODEL_ca34da3482ee44f7b7ceba79740e98cd",
              "IPY_MODEL_069efb20a3004208b11ab72c50dcfe86"
            ],
            "layout": "IPY_MODEL_333e667135f345c98eb3f852f5713c09"
          }
        },
        "9e5d061c876f4ac5b4fceb8315f616cd": {
          "model_module": "@jupyter-widgets/base",
          "model_module_version": "1.2.0",
          "model_name": "LayoutModel",
          "state": {
            "_model_module": "@jupyter-widgets/base",
            "_model_module_version": "1.2.0",
            "_model_name": "LayoutModel",
            "_view_count": null,
            "_view_module": "@jupyter-widgets/base",
            "_view_module_version": "1.2.0",
            "_view_name": "LayoutView",
            "align_content": null,
            "align_items": null,
            "align_self": null,
            "border": null,
            "bottom": null,
            "display": null,
            "flex": null,
            "flex_flow": null,
            "grid_area": null,
            "grid_auto_columns": null,
            "grid_auto_flow": null,
            "grid_auto_rows": null,
            "grid_column": null,
            "grid_gap": null,
            "grid_row": null,
            "grid_template_areas": null,
            "grid_template_columns": null,
            "grid_template_rows": null,
            "height": null,
            "justify_content": null,
            "justify_items": null,
            "left": null,
            "margin": null,
            "max_height": null,
            "max_width": null,
            "min_height": null,
            "min_width": null,
            "object_fit": null,
            "object_position": null,
            "order": null,
            "overflow": null,
            "overflow_x": null,
            "overflow_y": null,
            "padding": null,
            "right": null,
            "top": null,
            "visibility": null,
            "width": null
          }
        },
        "a00645571ddb4bb3b9808058ae761877": {
          "model_module": "@jupyter-widgets/controls",
          "model_module_version": "1.5.0",
          "model_name": "DescriptionStyleModel",
          "state": {
            "_model_module": "@jupyter-widgets/controls",
            "_model_module_version": "1.5.0",
            "_model_name": "DescriptionStyleModel",
            "_view_count": null,
            "_view_module": "@jupyter-widgets/base",
            "_view_module_version": "1.2.0",
            "_view_name": "StyleView",
            "description_width": ""
          }
        },
        "a399922ca31d4c00874140d1394cda43": {
          "model_module": "@jupyter-widgets/base",
          "model_module_version": "1.2.0",
          "model_name": "LayoutModel",
          "state": {
            "_model_module": "@jupyter-widgets/base",
            "_model_module_version": "1.2.0",
            "_model_name": "LayoutModel",
            "_view_count": null,
            "_view_module": "@jupyter-widgets/base",
            "_view_module_version": "1.2.0",
            "_view_name": "LayoutView",
            "align_content": null,
            "align_items": null,
            "align_self": null,
            "border": null,
            "bottom": null,
            "display": null,
            "flex": null,
            "flex_flow": null,
            "grid_area": null,
            "grid_auto_columns": null,
            "grid_auto_flow": null,
            "grid_auto_rows": null,
            "grid_column": null,
            "grid_gap": null,
            "grid_row": null,
            "grid_template_areas": null,
            "grid_template_columns": null,
            "grid_template_rows": null,
            "height": null,
            "justify_content": null,
            "justify_items": null,
            "left": null,
            "margin": null,
            "max_height": null,
            "max_width": null,
            "min_height": null,
            "min_width": null,
            "object_fit": null,
            "object_position": null,
            "order": null,
            "overflow": null,
            "overflow_x": null,
            "overflow_y": null,
            "padding": null,
            "right": null,
            "top": null,
            "visibility": null,
            "width": null
          }
        },
        "a4dd5943f4404d96bb127337ced709e2": {
          "model_module": "@jupyter-widgets/base",
          "model_module_version": "1.2.0",
          "model_name": "LayoutModel",
          "state": {
            "_model_module": "@jupyter-widgets/base",
            "_model_module_version": "1.2.0",
            "_model_name": "LayoutModel",
            "_view_count": null,
            "_view_module": "@jupyter-widgets/base",
            "_view_module_version": "1.2.0",
            "_view_name": "LayoutView",
            "align_content": null,
            "align_items": null,
            "align_self": null,
            "border": null,
            "bottom": null,
            "display": null,
            "flex": null,
            "flex_flow": null,
            "grid_area": null,
            "grid_auto_columns": null,
            "grid_auto_flow": null,
            "grid_auto_rows": null,
            "grid_column": null,
            "grid_gap": null,
            "grid_row": null,
            "grid_template_areas": null,
            "grid_template_columns": null,
            "grid_template_rows": null,
            "height": null,
            "justify_content": null,
            "justify_items": null,
            "left": null,
            "margin": null,
            "max_height": null,
            "max_width": null,
            "min_height": null,
            "min_width": null,
            "object_fit": null,
            "object_position": null,
            "order": null,
            "overflow": null,
            "overflow_x": null,
            "overflow_y": null,
            "padding": null,
            "right": null,
            "top": null,
            "visibility": null,
            "width": null
          }
        },
        "a5bf3dbc1e224dfdab39fb4174edbf1c": {
          "model_module": "@jupyter-widgets/controls",
          "model_module_version": "1.5.0",
          "model_name": "DescriptionStyleModel",
          "state": {
            "_model_module": "@jupyter-widgets/controls",
            "_model_module_version": "1.5.0",
            "_model_name": "DescriptionStyleModel",
            "_view_count": null,
            "_view_module": "@jupyter-widgets/base",
            "_view_module_version": "1.2.0",
            "_view_name": "StyleView",
            "description_width": ""
          }
        },
        "a89b53ebf8054858a23ef937374d4f48": {
          "model_module": "@jupyter-widgets/controls",
          "model_module_version": "1.5.0",
          "model_name": "DescriptionStyleModel",
          "state": {
            "_model_module": "@jupyter-widgets/controls",
            "_model_module_version": "1.5.0",
            "_model_name": "DescriptionStyleModel",
            "_view_count": null,
            "_view_module": "@jupyter-widgets/base",
            "_view_module_version": "1.2.0",
            "_view_name": "StyleView",
            "description_width": ""
          }
        },
        "a8dc337251d94100a668c25366b99114": {
          "model_module": "@jupyter-widgets/base",
          "model_module_version": "1.2.0",
          "model_name": "LayoutModel",
          "state": {
            "_model_module": "@jupyter-widgets/base",
            "_model_module_version": "1.2.0",
            "_model_name": "LayoutModel",
            "_view_count": null,
            "_view_module": "@jupyter-widgets/base",
            "_view_module_version": "1.2.0",
            "_view_name": "LayoutView",
            "align_content": null,
            "align_items": null,
            "align_self": null,
            "border": null,
            "bottom": null,
            "display": null,
            "flex": null,
            "flex_flow": null,
            "grid_area": null,
            "grid_auto_columns": null,
            "grid_auto_flow": null,
            "grid_auto_rows": null,
            "grid_column": null,
            "grid_gap": null,
            "grid_row": null,
            "grid_template_areas": null,
            "grid_template_columns": null,
            "grid_template_rows": null,
            "height": null,
            "justify_content": null,
            "justify_items": null,
            "left": null,
            "margin": null,
            "max_height": null,
            "max_width": null,
            "min_height": null,
            "min_width": null,
            "object_fit": null,
            "object_position": null,
            "order": null,
            "overflow": null,
            "overflow_x": null,
            "overflow_y": null,
            "padding": null,
            "right": null,
            "top": null,
            "visibility": null,
            "width": null
          }
        },
        "a92140cd3ac746d2af84a4fc666d7ca1": {
          "model_module": "@jupyter-widgets/controls",
          "model_module_version": "1.5.0",
          "model_name": "LabelModel",
          "state": {
            "_dom_classes": [],
            "_model_module": "@jupyter-widgets/controls",
            "_model_module_version": "1.5.0",
            "_model_name": "LabelModel",
            "_view_count": null,
            "_view_module": "@jupyter-widgets/controls",
            "_view_module_version": "1.5.0",
            "_view_name": "LabelView",
            "description": "",
            "description_tooltip": null,
            "layout": "IPY_MODEL_9af0f7b2e97e47ab996a029e928898ed",
            "placeholder": "​",
            "style": "IPY_MODEL_1580b1136e4b4b9eaa6f7ebd8cc742ee",
            "value": "Login successful"
          }
        },
        "aa67922852864c4d96d35d47b95e7fdc": {
          "model_module": "@jupyter-widgets/base",
          "model_module_version": "1.2.0",
          "model_name": "LayoutModel",
          "state": {
            "_model_module": "@jupyter-widgets/base",
            "_model_module_version": "1.2.0",
            "_model_name": "LayoutModel",
            "_view_count": null,
            "_view_module": "@jupyter-widgets/base",
            "_view_module_version": "1.2.0",
            "_view_name": "LayoutView",
            "align_content": null,
            "align_items": null,
            "align_self": null,
            "border": null,
            "bottom": null,
            "display": null,
            "flex": null,
            "flex_flow": null,
            "grid_area": null,
            "grid_auto_columns": null,
            "grid_auto_flow": null,
            "grid_auto_rows": null,
            "grid_column": null,
            "grid_gap": null,
            "grid_row": null,
            "grid_template_areas": null,
            "grid_template_columns": null,
            "grid_template_rows": null,
            "height": null,
            "justify_content": null,
            "justify_items": null,
            "left": null,
            "margin": null,
            "max_height": null,
            "max_width": null,
            "min_height": null,
            "min_width": null,
            "object_fit": null,
            "object_position": null,
            "order": null,
            "overflow": null,
            "overflow_x": null,
            "overflow_y": null,
            "padding": null,
            "right": null,
            "top": null,
            "visibility": null,
            "width": null
          }
        },
        "aa6ef38bb45b493ab69c2d1a195ecccd": {
          "model_module": "@jupyter-widgets/base",
          "model_module_version": "1.2.0",
          "model_name": "LayoutModel",
          "state": {
            "_model_module": "@jupyter-widgets/base",
            "_model_module_version": "1.2.0",
            "_model_name": "LayoutModel",
            "_view_count": null,
            "_view_module": "@jupyter-widgets/base",
            "_view_module_version": "1.2.0",
            "_view_name": "LayoutView",
            "align_content": null,
            "align_items": null,
            "align_self": null,
            "border": null,
            "bottom": null,
            "display": null,
            "flex": null,
            "flex_flow": null,
            "grid_area": null,
            "grid_auto_columns": null,
            "grid_auto_flow": null,
            "grid_auto_rows": null,
            "grid_column": null,
            "grid_gap": null,
            "grid_row": null,
            "grid_template_areas": null,
            "grid_template_columns": null,
            "grid_template_rows": null,
            "height": null,
            "justify_content": null,
            "justify_items": null,
            "left": null,
            "margin": null,
            "max_height": null,
            "max_width": null,
            "min_height": null,
            "min_width": null,
            "object_fit": null,
            "object_position": null,
            "order": null,
            "overflow": null,
            "overflow_x": null,
            "overflow_y": null,
            "padding": null,
            "right": null,
            "top": null,
            "visibility": null,
            "width": null
          }
        },
        "adba2dfa32a24dfca2922d3b5d1c7a8d": {
          "model_module": "@jupyter-widgets/base",
          "model_module_version": "1.2.0",
          "model_name": "LayoutModel",
          "state": {
            "_model_module": "@jupyter-widgets/base",
            "_model_module_version": "1.2.0",
            "_model_name": "LayoutModel",
            "_view_count": null,
            "_view_module": "@jupyter-widgets/base",
            "_view_module_version": "1.2.0",
            "_view_name": "LayoutView",
            "align_content": null,
            "align_items": null,
            "align_self": null,
            "border": null,
            "bottom": null,
            "display": null,
            "flex": null,
            "flex_flow": null,
            "grid_area": null,
            "grid_auto_columns": null,
            "grid_auto_flow": null,
            "grid_auto_rows": null,
            "grid_column": null,
            "grid_gap": null,
            "grid_row": null,
            "grid_template_areas": null,
            "grid_template_columns": null,
            "grid_template_rows": null,
            "height": null,
            "justify_content": null,
            "justify_items": null,
            "left": null,
            "margin": null,
            "max_height": null,
            "max_width": null,
            "min_height": null,
            "min_width": null,
            "object_fit": null,
            "object_position": null,
            "order": null,
            "overflow": null,
            "overflow_x": null,
            "overflow_y": null,
            "padding": null,
            "right": null,
            "top": null,
            "visibility": null,
            "width": null
          }
        },
        "b6d9b660332b404f9f52c3739a7fd771": {
          "model_module": "@jupyter-widgets/controls",
          "model_module_version": "1.5.0",
          "model_name": "ProgressStyleModel",
          "state": {
            "_model_module": "@jupyter-widgets/controls",
            "_model_module_version": "1.5.0",
            "_model_name": "ProgressStyleModel",
            "_view_count": null,
            "_view_module": "@jupyter-widgets/base",
            "_view_module_version": "1.2.0",
            "_view_name": "StyleView",
            "bar_color": null,
            "description_width": ""
          }
        },
        "b7412d1c00ec4c46baf47eccbcbf80cd": {
          "model_module": "@jupyter-widgets/controls",
          "model_module_version": "1.5.0",
          "model_name": "FloatProgressModel",
          "state": {
            "_dom_classes": [],
            "_model_module": "@jupyter-widgets/controls",
            "_model_module_version": "1.5.0",
            "_model_name": "FloatProgressModel",
            "_view_count": null,
            "_view_module": "@jupyter-widgets/controls",
            "_view_module_version": "1.5.0",
            "_view_name": "ProgressView",
            "bar_style": "success",
            "description": "",
            "description_tooltip": null,
            "layout": "IPY_MODEL_adba2dfa32a24dfca2922d3b5d1c7a8d",
            "max": 6966,
            "min": 0,
            "orientation": "horizontal",
            "style": "IPY_MODEL_0d5429e8fffe47008b15c6bf7485ada5",
            "value": 6966
          }
        },
        "b8fc9504cb8e412582b07b523ba1f39c": {
          "model_module": "@jupyter-widgets/controls",
          "model_module_version": "1.5.0",
          "model_name": "FloatProgressModel",
          "state": {
            "_dom_classes": [],
            "_model_module": "@jupyter-widgets/controls",
            "_model_module_version": "1.5.0",
            "_model_name": "FloatProgressModel",
            "_view_count": null,
            "_view_module": "@jupyter-widgets/controls",
            "_view_module_version": "1.5.0",
            "_view_name": "ProgressView",
            "bar_style": "success",
            "description": "",
            "description_tooltip": null,
            "layout": "IPY_MODEL_aa6ef38bb45b493ab69c2d1a195ecccd",
            "max": 5052,
            "min": 0,
            "orientation": "horizontal",
            "style": "IPY_MODEL_f753559322c3468bb138bc3131f14b8e",
            "value": 5052
          }
        },
        "b99076c778b9469091ee356a3e121ad4": {
          "model_module": "@jupyter-widgets/base",
          "model_module_version": "1.2.0",
          "model_name": "LayoutModel",
          "state": {
            "_model_module": "@jupyter-widgets/base",
            "_model_module_version": "1.2.0",
            "_model_name": "LayoutModel",
            "_view_count": null,
            "_view_module": "@jupyter-widgets/base",
            "_view_module_version": "1.2.0",
            "_view_name": "LayoutView",
            "align_content": null,
            "align_items": null,
            "align_self": null,
            "border": null,
            "bottom": null,
            "display": null,
            "flex": null,
            "flex_flow": null,
            "grid_area": null,
            "grid_auto_columns": null,
            "grid_auto_flow": null,
            "grid_auto_rows": null,
            "grid_column": null,
            "grid_gap": null,
            "grid_row": null,
            "grid_template_areas": null,
            "grid_template_columns": null,
            "grid_template_rows": null,
            "height": null,
            "justify_content": null,
            "justify_items": null,
            "left": null,
            "margin": null,
            "max_height": null,
            "max_width": null,
            "min_height": null,
            "min_width": null,
            "object_fit": null,
            "object_position": null,
            "order": null,
            "overflow": null,
            "overflow_x": null,
            "overflow_y": null,
            "padding": null,
            "right": null,
            "top": null,
            "visibility": null,
            "width": null
          }
        },
        "ba117f36cd28484bba64fcc59587fb69": {
          "model_module": "@jupyter-widgets/controls",
          "model_module_version": "1.5.0",
          "model_name": "HTMLModel",
          "state": {
            "_dom_classes": [],
            "_model_module": "@jupyter-widgets/controls",
            "_model_module_version": "1.5.0",
            "_model_name": "HTMLModel",
            "_view_count": null,
            "_view_module": "@jupyter-widgets/controls",
            "_view_module_version": "1.5.0",
            "_view_name": "HTMLView",
            "description": "",
            "description_tooltip": null,
            "layout": "IPY_MODEL_3fc94fe0a3684f8ea58a8da969d645c3",
            "placeholder": "​",
            "style": "IPY_MODEL_eff37e27ce124c42826f1a41250a7c6e",
            "value": "\n<b>Pro Tip:</b> If you don't already have one, you can create a dedicated\n'notebooks' token with 'write' access, that you can then easily reuse for all\nnotebooks. </center>"
          }
        },
        "bd092faddf3b42299a19755d921a4290": {
          "model_module": "@jupyter-widgets/base",
          "model_module_version": "1.2.0",
          "model_name": "LayoutModel",
          "state": {
            "_model_module": "@jupyter-widgets/base",
            "_model_module_version": "1.2.0",
            "_model_name": "LayoutModel",
            "_view_count": null,
            "_view_module": "@jupyter-widgets/base",
            "_view_module_version": "1.2.0",
            "_view_name": "LayoutView",
            "align_content": null,
            "align_items": null,
            "align_self": null,
            "border": null,
            "bottom": null,
            "display": null,
            "flex": null,
            "flex_flow": null,
            "grid_area": null,
            "grid_auto_columns": null,
            "grid_auto_flow": null,
            "grid_auto_rows": null,
            "grid_column": null,
            "grid_gap": null,
            "grid_row": null,
            "grid_template_areas": null,
            "grid_template_columns": null,
            "grid_template_rows": null,
            "height": null,
            "justify_content": null,
            "justify_items": null,
            "left": null,
            "margin": null,
            "max_height": null,
            "max_width": null,
            "min_height": null,
            "min_width": null,
            "object_fit": null,
            "object_position": null,
            "order": null,
            "overflow": null,
            "overflow_x": null,
            "overflow_y": null,
            "padding": null,
            "right": null,
            "top": null,
            "visibility": null,
            "width": null
          }
        },
        "c890606537bb4bd8b68cf15606dd6ea1": {
          "model_module": "@jupyter-widgets/controls",
          "model_module_version": "1.5.0",
          "model_name": "HTMLModel",
          "state": {
            "_dom_classes": [],
            "_model_module": "@jupyter-widgets/controls",
            "_model_module_version": "1.5.0",
            "_model_name": "HTMLModel",
            "_view_count": null,
            "_view_module": "@jupyter-widgets/controls",
            "_view_module_version": "1.5.0",
            "_view_name": "HTMLView",
            "description": "",
            "description_tooltip": null,
            "layout": "IPY_MODEL_dc58144aac8c4ad1a7a9f1eeca4099ee",
            "placeholder": "​",
            "style": "IPY_MODEL_a5bf3dbc1e224dfdab39fb4174edbf1c",
            "value": "adapter_model.safetensors: 100%"
          }
        },
        "ca34da3482ee44f7b7ceba79740e98cd": {
          "model_module": "@jupyter-widgets/controls",
          "model_module_version": "1.5.0",
          "model_name": "FloatProgressModel",
          "state": {
            "_dom_classes": [],
            "_model_module": "@jupyter-widgets/controls",
            "_model_module_version": "1.5.0",
            "_model_name": "FloatProgressModel",
            "_view_count": null,
            "_view_module": "@jupyter-widgets/controls",
            "_view_module_version": "1.5.0",
            "_view_name": "ProgressView",
            "bar_style": "success",
            "description": "",
            "description_tooltip": null,
            "layout": "IPY_MODEL_7f3a935fc6c74994b2c05378ad10d9da",
            "max": 27280152,
            "min": 0,
            "orientation": "horizontal",
            "style": "IPY_MODEL_690d24cc9272429cb5027d684255d332",
            "value": 27280152
          }
        },
        "cc1794d053a2413c8d2bf5dde5921897": {
          "model_module": "@jupyter-widgets/controls",
          "model_module_version": "1.5.0",
          "model_name": "DescriptionStyleModel",
          "state": {
            "_model_module": "@jupyter-widgets/controls",
            "_model_module_version": "1.5.0",
            "_model_name": "DescriptionStyleModel",
            "_view_count": null,
            "_view_module": "@jupyter-widgets/base",
            "_view_module_version": "1.2.0",
            "_view_name": "StyleView",
            "description_width": ""
          }
        },
        "ccb526c6be3744f7ac87df5b6f5fb16a": {
          "model_module": "@jupyter-widgets/controls",
          "model_module_version": "1.5.0",
          "model_name": "DescriptionStyleModel",
          "state": {
            "_model_module": "@jupyter-widgets/controls",
            "_model_module_version": "1.5.0",
            "_model_name": "DescriptionStyleModel",
            "_view_count": null,
            "_view_module": "@jupyter-widgets/base",
            "_view_module_version": "1.2.0",
            "_view_name": "StyleView",
            "description_width": ""
          }
        },
        "cf14c0e9b8744e3ea4b26b1a6db4b3db": {
          "model_module": "@jupyter-widgets/controls",
          "model_module_version": "1.5.0",
          "model_name": "DescriptionStyleModel",
          "state": {
            "_model_module": "@jupyter-widgets/controls",
            "_model_module_version": "1.5.0",
            "_model_name": "DescriptionStyleModel",
            "_view_count": null,
            "_view_module": "@jupyter-widgets/base",
            "_view_module_version": "1.2.0",
            "_view_name": "StyleView",
            "description_width": ""
          }
        },
        "cfa353c987f94972a80b9bb8c60c4ea7": {
          "model_module": "@jupyter-widgets/base",
          "model_module_version": "1.2.0",
          "model_name": "LayoutModel",
          "state": {
            "_model_module": "@jupyter-widgets/base",
            "_model_module_version": "1.2.0",
            "_model_name": "LayoutModel",
            "_view_count": null,
            "_view_module": "@jupyter-widgets/base",
            "_view_module_version": "1.2.0",
            "_view_name": "LayoutView",
            "align_content": null,
            "align_items": null,
            "align_self": null,
            "border": null,
            "bottom": null,
            "display": null,
            "flex": null,
            "flex_flow": null,
            "grid_area": null,
            "grid_auto_columns": null,
            "grid_auto_flow": null,
            "grid_auto_rows": null,
            "grid_column": null,
            "grid_gap": null,
            "grid_row": null,
            "grid_template_areas": null,
            "grid_template_columns": null,
            "grid_template_rows": null,
            "height": null,
            "justify_content": null,
            "justify_items": null,
            "left": null,
            "margin": null,
            "max_height": null,
            "max_width": null,
            "min_height": null,
            "min_width": null,
            "object_fit": null,
            "object_position": null,
            "order": null,
            "overflow": null,
            "overflow_x": null,
            "overflow_y": null,
            "padding": null,
            "right": null,
            "top": null,
            "visibility": null,
            "width": null
          }
        },
        "d4dea0b1c0bd4195882bfa6b24d24b54": {
          "model_module": "@jupyter-widgets/controls",
          "model_module_version": "1.5.0",
          "model_name": "PasswordModel",
          "state": {
            "_dom_classes": [],
            "_model_module": "@jupyter-widgets/controls",
            "_model_module_version": "1.5.0",
            "_model_name": "PasswordModel",
            "_view_count": null,
            "_view_module": "@jupyter-widgets/controls",
            "_view_module_version": "1.5.0",
            "_view_name": "PasswordView",
            "continuous_update": true,
            "description": "Token:",
            "description_tooltip": null,
            "disabled": false,
            "layout": "IPY_MODEL_eb2d6d449d7b422483615c195cb7cf4c",
            "placeholder": "​",
            "style": "IPY_MODEL_1118531964af46ef97c048b13c8af41f",
            "value": ""
          }
        },
        "db4befddf76643e989e5a3ca7255194f": {
          "model_module": "@jupyter-widgets/controls",
          "model_module_version": "1.5.0",
          "model_name": "HTMLModel",
          "state": {
            "_dom_classes": [],
            "_model_module": "@jupyter-widgets/controls",
            "_model_module_version": "1.5.0",
            "_model_name": "HTMLModel",
            "_view_count": null,
            "_view_module": "@jupyter-widgets/controls",
            "_view_module_version": "1.5.0",
            "_view_name": "HTMLView",
            "description": "",
            "description_tooltip": null,
            "layout": "IPY_MODEL_cfa353c987f94972a80b9bb8c60c4ea7",
            "placeholder": "​",
            "style": "IPY_MODEL_0bfcf8b75c414bcf9bad9fae499bf9bd",
            "value": "Upload 6 LFS files: 100%"
          }
        },
        "db666eff11a44211a6d922cee08634ce": {
          "model_module": "@jupyter-widgets/base",
          "model_module_version": "1.2.0",
          "model_name": "LayoutModel",
          "state": {
            "_model_module": "@jupyter-widgets/base",
            "_model_module_version": "1.2.0",
            "_model_name": "LayoutModel",
            "_view_count": null,
            "_view_module": "@jupyter-widgets/base",
            "_view_module_version": "1.2.0",
            "_view_name": "LayoutView",
            "align_content": null,
            "align_items": null,
            "align_self": null,
            "border": null,
            "bottom": null,
            "display": null,
            "flex": null,
            "flex_flow": null,
            "grid_area": null,
            "grid_auto_columns": null,
            "grid_auto_flow": null,
            "grid_auto_rows": null,
            "grid_column": null,
            "grid_gap": null,
            "grid_row": null,
            "grid_template_areas": null,
            "grid_template_columns": null,
            "grid_template_rows": null,
            "height": null,
            "justify_content": null,
            "justify_items": null,
            "left": null,
            "margin": null,
            "max_height": null,
            "max_width": null,
            "min_height": null,
            "min_width": null,
            "object_fit": null,
            "object_position": null,
            "order": null,
            "overflow": null,
            "overflow_x": null,
            "overflow_y": null,
            "padding": null,
            "right": null,
            "top": null,
            "visibility": null,
            "width": null
          }
        },
        "dc58144aac8c4ad1a7a9f1eeca4099ee": {
          "model_module": "@jupyter-widgets/base",
          "model_module_version": "1.2.0",
          "model_name": "LayoutModel",
          "state": {
            "_model_module": "@jupyter-widgets/base",
            "_model_module_version": "1.2.0",
            "_model_name": "LayoutModel",
            "_view_count": null,
            "_view_module": "@jupyter-widgets/base",
            "_view_module_version": "1.2.0",
            "_view_name": "LayoutView",
            "align_content": null,
            "align_items": null,
            "align_self": null,
            "border": null,
            "bottom": null,
            "display": null,
            "flex": null,
            "flex_flow": null,
            "grid_area": null,
            "grid_auto_columns": null,
            "grid_auto_flow": null,
            "grid_auto_rows": null,
            "grid_column": null,
            "grid_gap": null,
            "grid_row": null,
            "grid_template_areas": null,
            "grid_template_columns": null,
            "grid_template_rows": null,
            "height": null,
            "justify_content": null,
            "justify_items": null,
            "left": null,
            "margin": null,
            "max_height": null,
            "max_width": null,
            "min_height": null,
            "min_width": null,
            "object_fit": null,
            "object_position": null,
            "order": null,
            "overflow": null,
            "overflow_x": null,
            "overflow_y": null,
            "padding": null,
            "right": null,
            "top": null,
            "visibility": null,
            "width": null
          }
        },
        "dd8134b2417d4dc2b48d6d6d5ecb55fb": {
          "model_module": "@jupyter-widgets/controls",
          "model_module_version": "1.5.0",
          "model_name": "DescriptionStyleModel",
          "state": {
            "_model_module": "@jupyter-widgets/controls",
            "_model_module_version": "1.5.0",
            "_model_name": "DescriptionStyleModel",
            "_view_count": null,
            "_view_module": "@jupyter-widgets/base",
            "_view_module_version": "1.2.0",
            "_view_name": "StyleView",
            "description_width": ""
          }
        },
        "de51b89ecca54cc1a4f970b0a545caa6": {
          "model_module": "@jupyter-widgets/controls",
          "model_module_version": "1.5.0",
          "model_name": "HTMLModel",
          "state": {
            "_dom_classes": [],
            "_model_module": "@jupyter-widgets/controls",
            "_model_module_version": "1.5.0",
            "_model_name": "HTMLModel",
            "_view_count": null,
            "_view_module": "@jupyter-widgets/controls",
            "_view_module_version": "1.5.0",
            "_view_name": "HTMLView",
            "description": "",
            "description_tooltip": null,
            "layout": "IPY_MODEL_550a05e45482408086f30306dca0534d",
            "placeholder": "​",
            "style": "IPY_MODEL_0f68334488a74ba8b147f39cec8fa9e1",
            "value": "events.out.tfevents.1709067161.58ad8fef54b1.979.1: 100%"
          }
        },
        "dec59b14b22c4b40b81766f1ae057749": {
          "model_module": "@jupyter-widgets/controls",
          "model_module_version": "1.5.0",
          "model_name": "DescriptionStyleModel",
          "state": {
            "_model_module": "@jupyter-widgets/controls",
            "_model_module_version": "1.5.0",
            "_model_name": "DescriptionStyleModel",
            "_view_count": null,
            "_view_module": "@jupyter-widgets/base",
            "_view_module_version": "1.2.0",
            "_view_name": "StyleView",
            "description_width": ""
          }
        },
        "e45c6d73325f42b58b5a0910273fa918": {
          "model_module": "@jupyter-widgets/controls",
          "model_module_version": "1.5.0",
          "model_name": "HTMLModel",
          "state": {
            "_dom_classes": [],
            "_model_module": "@jupyter-widgets/controls",
            "_model_module_version": "1.5.0",
            "_model_name": "HTMLModel",
            "_view_count": null,
            "_view_module": "@jupyter-widgets/controls",
            "_view_module_version": "1.5.0",
            "_view_name": "HTMLView",
            "description": "",
            "description_tooltip": null,
            "layout": "IPY_MODEL_e4df123fa442428aa6f28148e2384452",
            "placeholder": "​",
            "style": "IPY_MODEL_58381d6e91c04e3683c1015b8aa76d8a",
            "value": "Loading checkpoint shards: 100%"
          }
        },
        "e4df123fa442428aa6f28148e2384452": {
          "model_module": "@jupyter-widgets/base",
          "model_module_version": "1.2.0",
          "model_name": "LayoutModel",
          "state": {
            "_model_module": "@jupyter-widgets/base",
            "_model_module_version": "1.2.0",
            "_model_name": "LayoutModel",
            "_view_count": null,
            "_view_module": "@jupyter-widgets/base",
            "_view_module_version": "1.2.0",
            "_view_name": "LayoutView",
            "align_content": null,
            "align_items": null,
            "align_self": null,
            "border": null,
            "bottom": null,
            "display": null,
            "flex": null,
            "flex_flow": null,
            "grid_area": null,
            "grid_auto_columns": null,
            "grid_auto_flow": null,
            "grid_auto_rows": null,
            "grid_column": null,
            "grid_gap": null,
            "grid_row": null,
            "grid_template_areas": null,
            "grid_template_columns": null,
            "grid_template_rows": null,
            "height": null,
            "justify_content": null,
            "justify_items": null,
            "left": null,
            "margin": null,
            "max_height": null,
            "max_width": null,
            "min_height": null,
            "min_width": null,
            "object_fit": null,
            "object_position": null,
            "order": null,
            "overflow": null,
            "overflow_x": null,
            "overflow_y": null,
            "padding": null,
            "right": null,
            "top": null,
            "visibility": null,
            "width": null
          }
        },
        "e5398b01196b4f6fad534f27e488a1cb": {
          "model_module": "@jupyter-widgets/controls",
          "model_module_version": "1.5.0",
          "model_name": "ProgressStyleModel",
          "state": {
            "_model_module": "@jupyter-widgets/controls",
            "_model_module_version": "1.5.0",
            "_model_name": "ProgressStyleModel",
            "_view_count": null,
            "_view_module": "@jupyter-widgets/base",
            "_view_module_version": "1.2.0",
            "_view_name": "StyleView",
            "bar_color": null,
            "description_width": ""
          }
        },
        "e5df79dffb2b4fdd912ed64ce0fa1c3d": {
          "model_module": "@jupyter-widgets/controls",
          "model_module_version": "1.5.0",
          "model_name": "ButtonStyleModel",
          "state": {
            "_model_module": "@jupyter-widgets/controls",
            "_model_module_version": "1.5.0",
            "_model_name": "ButtonStyleModel",
            "_view_count": null,
            "_view_module": "@jupyter-widgets/base",
            "_view_module_version": "1.2.0",
            "_view_name": "StyleView",
            "button_color": null,
            "font_weight": ""
          }
        },
        "e937ea4e83ac4ed384d09bdabada1891": {
          "model_module": "@jupyter-widgets/controls",
          "model_module_version": "1.5.0",
          "model_name": "FloatProgressModel",
          "state": {
            "_dom_classes": [],
            "_model_module": "@jupyter-widgets/controls",
            "_model_module_version": "1.5.0",
            "_model_name": "FloatProgressModel",
            "_view_count": null,
            "_view_module": "@jupyter-widgets/controls",
            "_view_module_version": "1.5.0",
            "_view_name": "ProgressView",
            "bar_style": "success",
            "description": "",
            "description_tooltip": null,
            "layout": "IPY_MODEL_63fea19087d44a6bbcda2015e13f7d06",
            "max": 4920,
            "min": 0,
            "orientation": "horizontal",
            "style": "IPY_MODEL_0c09346797e943bc9bab79c189a4d5c2",
            "value": 4920
          }
        },
        "eb2d6d449d7b422483615c195cb7cf4c": {
          "model_module": "@jupyter-widgets/base",
          "model_module_version": "1.2.0",
          "model_name": "LayoutModel",
          "state": {
            "_model_module": "@jupyter-widgets/base",
            "_model_module_version": "1.2.0",
            "_model_name": "LayoutModel",
            "_view_count": null,
            "_view_module": "@jupyter-widgets/base",
            "_view_module_version": "1.2.0",
            "_view_name": "LayoutView",
            "align_content": null,
            "align_items": null,
            "align_self": null,
            "border": null,
            "bottom": null,
            "display": null,
            "flex": null,
            "flex_flow": null,
            "grid_area": null,
            "grid_auto_columns": null,
            "grid_auto_flow": null,
            "grid_auto_rows": null,
            "grid_column": null,
            "grid_gap": null,
            "grid_row": null,
            "grid_template_areas": null,
            "grid_template_columns": null,
            "grid_template_rows": null,
            "height": null,
            "justify_content": null,
            "justify_items": null,
            "left": null,
            "margin": null,
            "max_height": null,
            "max_width": null,
            "min_height": null,
            "min_width": null,
            "object_fit": null,
            "object_position": null,
            "order": null,
            "overflow": null,
            "overflow_x": null,
            "overflow_y": null,
            "padding": null,
            "right": null,
            "top": null,
            "visibility": null,
            "width": null
          }
        },
        "eff37e27ce124c42826f1a41250a7c6e": {
          "model_module": "@jupyter-widgets/controls",
          "model_module_version": "1.5.0",
          "model_name": "DescriptionStyleModel",
          "state": {
            "_model_module": "@jupyter-widgets/controls",
            "_model_module_version": "1.5.0",
            "_model_name": "DescriptionStyleModel",
            "_view_count": null,
            "_view_module": "@jupyter-widgets/base",
            "_view_module_version": "1.2.0",
            "_view_name": "StyleView",
            "description_width": ""
          }
        },
        "f4e354f0ce0f4f96a349659b47955216": {
          "model_module": "@jupyter-widgets/controls",
          "model_module_version": "1.5.0",
          "model_name": "DescriptionStyleModel",
          "state": {
            "_model_module": "@jupyter-widgets/controls",
            "_model_module_version": "1.5.0",
            "_model_name": "DescriptionStyleModel",
            "_view_count": null,
            "_view_module": "@jupyter-widgets/base",
            "_view_module_version": "1.2.0",
            "_view_name": "StyleView",
            "description_width": ""
          }
        },
        "f753559322c3468bb138bc3131f14b8e": {
          "model_module": "@jupyter-widgets/controls",
          "model_module_version": "1.5.0",
          "model_name": "ProgressStyleModel",
          "state": {
            "_model_module": "@jupyter-widgets/controls",
            "_model_module_version": "1.5.0",
            "_model_name": "ProgressStyleModel",
            "_view_count": null,
            "_view_module": "@jupyter-widgets/base",
            "_view_module_version": "1.2.0",
            "_view_name": "StyleView",
            "bar_color": null,
            "description_width": ""
          }
        },
        "f80949c7c0734631a0302e291ed3e71d": {
          "model_module": "@jupyter-widgets/base",
          "model_module_version": "1.2.0",
          "model_name": "LayoutModel",
          "state": {
            "_model_module": "@jupyter-widgets/base",
            "_model_module_version": "1.2.0",
            "_model_name": "LayoutModel",
            "_view_count": null,
            "_view_module": "@jupyter-widgets/base",
            "_view_module_version": "1.2.0",
            "_view_name": "LayoutView",
            "align_content": null,
            "align_items": null,
            "align_self": null,
            "border": null,
            "bottom": null,
            "display": null,
            "flex": null,
            "flex_flow": null,
            "grid_area": null,
            "grid_auto_columns": null,
            "grid_auto_flow": null,
            "grid_auto_rows": null,
            "grid_column": null,
            "grid_gap": null,
            "grid_row": null,
            "grid_template_areas": null,
            "grid_template_columns": null,
            "grid_template_rows": null,
            "height": null,
            "justify_content": null,
            "justify_items": null,
            "left": null,
            "margin": null,
            "max_height": null,
            "max_width": null,
            "min_height": null,
            "min_width": null,
            "object_fit": null,
            "object_position": null,
            "order": null,
            "overflow": null,
            "overflow_x": null,
            "overflow_y": null,
            "padding": null,
            "right": null,
            "top": null,
            "visibility": null,
            "width": null
          }
        },
        "f87ab72fecc64b1dbce8b7e467e30fa0": {
          "model_module": "@jupyter-widgets/controls",
          "model_module_version": "1.5.0",
          "model_name": "HTMLModel",
          "state": {
            "_dom_classes": [],
            "_model_module": "@jupyter-widgets/controls",
            "_model_module_version": "1.5.0",
            "_model_name": "HTMLModel",
            "_view_count": null,
            "_view_module": "@jupyter-widgets/controls",
            "_view_module_version": "1.5.0",
            "_view_name": "HTMLView",
            "description": "",
            "description_tooltip": null,
            "layout": "IPY_MODEL_89e45dc80bcb406bb918450882570a6a",
            "placeholder": "​",
            "style": "IPY_MODEL_527c5f72cc424c86817aa7466207d7ed",
            "value": " 6.97k/6.97k [00:00&lt;00:00, 24.2kB/s]"
          }
        },
        "faac4d03a8bb4b6189fb2df0f9303666": {
          "model_module": "@jupyter-widgets/base",
          "model_module_version": "1.2.0",
          "model_name": "LayoutModel",
          "state": {
            "_model_module": "@jupyter-widgets/base",
            "_model_module_version": "1.2.0",
            "_model_name": "LayoutModel",
            "_view_count": null,
            "_view_module": "@jupyter-widgets/base",
            "_view_module_version": "1.2.0",
            "_view_name": "LayoutView",
            "align_content": null,
            "align_items": null,
            "align_self": null,
            "border": null,
            "bottom": null,
            "display": null,
            "flex": null,
            "flex_flow": null,
            "grid_area": null,
            "grid_auto_columns": null,
            "grid_auto_flow": null,
            "grid_auto_rows": null,
            "grid_column": null,
            "grid_gap": null,
            "grid_row": null,
            "grid_template_areas": null,
            "grid_template_columns": null,
            "grid_template_rows": null,
            "height": null,
            "justify_content": null,
            "justify_items": null,
            "left": null,
            "margin": null,
            "max_height": null,
            "max_width": null,
            "min_height": null,
            "min_width": null,
            "object_fit": null,
            "object_position": null,
            "order": null,
            "overflow": null,
            "overflow_x": null,
            "overflow_y": null,
            "padding": null,
            "right": null,
            "top": null,
            "visibility": null,
            "width": null
          }
        },
        "ff777ad346324307b85377d020b82159": {
          "model_module": "@jupyter-widgets/base",
          "model_module_version": "1.2.0",
          "model_name": "LayoutModel",
          "state": {
            "_model_module": "@jupyter-widgets/base",
            "_model_module_version": "1.2.0",
            "_model_name": "LayoutModel",
            "_view_count": null,
            "_view_module": "@jupyter-widgets/base",
            "_view_module_version": "1.2.0",
            "_view_name": "LayoutView",
            "align_content": null,
            "align_items": null,
            "align_self": null,
            "border": null,
            "bottom": null,
            "display": null,
            "flex": null,
            "flex_flow": null,
            "grid_area": null,
            "grid_auto_columns": null,
            "grid_auto_flow": null,
            "grid_auto_rows": null,
            "grid_column": null,
            "grid_gap": null,
            "grid_row": null,
            "grid_template_areas": null,
            "grid_template_columns": null,
            "grid_template_rows": null,
            "height": null,
            "justify_content": null,
            "justify_items": null,
            "left": null,
            "margin": null,
            "max_height": null,
            "max_width": null,
            "min_height": null,
            "min_width": null,
            "object_fit": null,
            "object_position": null,
            "order": null,
            "overflow": null,
            "overflow_x": null,
            "overflow_y": null,
            "padding": null,
            "right": null,
            "top": null,
            "visibility": null,
            "width": null
          }
        }
      }
    }
  },
  "nbformat": 4,
  "nbformat_minor": 0
}
