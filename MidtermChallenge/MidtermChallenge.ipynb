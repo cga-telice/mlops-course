{
 "cells": [
  {
   "cell_type": "markdown",
   "id": "6b2e07ca-cccd-40cc-ba5b-43dfb8c879bb",
   "metadata": {},
   "source": [
    "# Install dependencies"
   ]
  },
  {
   "cell_type": "code",
   "execution_count": 1,
   "id": "4633458a-3aee-47ab-b58f-bdfa5bcac0fc",
   "metadata": {},
   "outputs": [
    {
     "name": "stderr",
     "output_type": "stream",
     "text": [
      "\n",
      "[notice] A new release of pip is available: 23.3.1 -> 24.0\n",
      "[notice] To update, run: python.exe -m pip install --upgrade pip\n"
     ]
    }
   ],
   "source": [
    "!pip install -qU langchain langchain-core langchain-community langchain-openai"
   ]
  },
  {
   "cell_type": "code",
   "execution_count": 2,
   "id": "705f0c55-68dd-4044-bdef-55a077352feb",
   "metadata": {},
   "outputs": [
    {
     "name": "stderr",
     "output_type": "stream",
     "text": [
      "\n",
      "[notice] A new release of pip is available: 23.3.1 -> 24.0\n",
      "[notice] To update, run: python.exe -m pip install --upgrade pip\n"
     ]
    }
   ],
   "source": [
    "!pip install -qU tiktoken pymupdf"
   ]
  },
  {
   "cell_type": "code",
   "execution_count": 3,
   "id": "8009fdb0-2c92-4295-a0b9-3462f88c38b3",
   "metadata": {},
   "outputs": [
    {
     "name": "stderr",
     "output_type": "stream",
     "text": [
      "\n",
      "[notice] A new release of pip is available: 23.3.1 -> 24.0\n",
      "[notice] To update, run: python.exe -m pip install --upgrade pip\n"
     ]
    }
   ],
   "source": [
    "!pip install -qU ragas"
   ]
  },
  {
   "cell_type": "code",
   "execution_count": 4,
   "id": "3a9bb75e-85d8-4242-949d-c92581fa4bf4",
   "metadata": {},
   "outputs": [
    {
     "name": "stderr",
     "output_type": "stream",
     "text": [
      "\n",
      "[notice] A new release of pip is available: 23.3.1 -> 24.0\n",
      "[notice] To update, run: python.exe -m pip install --upgrade pip\n"
     ]
    }
   ],
   "source": [
    "!pip install -qU faiss_cpu"
   ]
  },
  {
   "cell_type": "markdown",
   "id": "c394f153-bfe0-4673-bbd7-ac1930284247",
   "metadata": {},
   "source": [
    "# Set enviroment values"
   ]
  },
  {
   "cell_type": "code",
   "execution_count": 5,
   "id": "9e5ee059-56d7-4ab0-bdd5-589904a6af1f",
   "metadata": {},
   "outputs": [
    {
     "name": "stdin",
     "output_type": "stream",
     "text": [
      "Please provide your OpenAI Key:  ········\n"
     ]
    }
   ],
   "source": [
    "import os\n",
    "import openai\n",
    "from getpass import getpass\n",
    "\n",
    "openai.api_key = getpass(\"Please provide your OpenAI Key: \")\n",
    "os.environ[\"OPENAI_API_KEY\"] = openai.api_key"
   ]
  },
  {
   "cell_type": "code",
   "execution_count": 6,
   "id": "e564b6ef-1ae5-40a9-9269-30dd5cb81c7c",
   "metadata": {},
   "outputs": [],
   "source": [
    "os.chdir('mlops-course/AI-Engineering/MidtermChallenge')"
   ]
  },
  {
   "cell_type": "markdown",
   "id": "005c231a-fe94-4e6b-af01-2de2d96b2a2b",
   "metadata": {},
   "source": [
    "# Load document"
   ]
  },
  {
   "cell_type": "code",
   "execution_count": 7,
   "id": "4f379ca8-ff7d-44f2-8597-69a80990d5fa",
   "metadata": {},
   "outputs": [],
   "source": [
    "from langchain_community.document_loaders import PyMuPDFLoader\n",
    "\n",
    "loader = PyMuPDFLoader(\n",
    "    \"Nvidia_10k_Filings.pdf\",\n",
    ")\n",
    "\n",
    "documents = loader.load()"
   ]
  },
  {
   "cell_type": "code",
   "execution_count": 13,
   "id": "f64aa3be-a517-4453-b9f8-eef507b21b3c",
   "metadata": {
    "scrolled": true
   },
   "outputs": [
    {
     "data": {
      "text/plain": [
       "{'source': 'Nvidia_10k_Filings.pdf',\n",
       " 'file_path': 'Nvidia_10k_Filings.pdf',\n",
       " 'page': 0,\n",
       " 'total_pages': 96,\n",
       " 'format': 'PDF 1.4',\n",
       " 'title': '0001045810-24-000029',\n",
       " 'author': 'EDGAR® Online LLC, a subsidiary of OTC Markets Group',\n",
       " 'subject': 'Form 10-K filed on 2024-02-21 for the period ending 2024-01-28',\n",
       " 'keywords': '0001045810-24-000029; ; 10-K',\n",
       " 'creator': 'EDGAR Filing HTML Converter',\n",
       " 'producer': 'EDGRpdf Service w/ EO.Pdf 22.0.40.0',\n",
       " 'creationDate': \"D:20240221173732-05'00'\",\n",
       " 'modDate': \"D:20240221173744-05'00'\",\n",
       " 'trapped': '',\n",
       " 'encryption': 'Standard V2 R3 128-bit RC4'}"
      ]
     },
     "execution_count": 13,
     "metadata": {},
     "output_type": "execute_result"
    }
   ],
   "source": [
    "documents[0].metadata"
   ]
  },
  {
   "cell_type": "markdown",
   "id": "e91b6a6e-fbff-4bdf-9be0-3f94e4d73cf2",
   "metadata": {},
   "source": [
    "# Document chunks"
   ]
  },
  {
   "cell_type": "code",
   "execution_count": 8,
   "id": "aad958b6-fb77-48c3-9db7-15948a118dee",
   "metadata": {},
   "outputs": [],
   "source": [
    "from langchain.text_splitter import RecursiveCharacterTextSplitter\n",
    "\n",
    "text_splitter = RecursiveCharacterTextSplitter(\n",
    "    chunk_size = 700,\n",
    "    chunk_overlap = 50\n",
    ")\n",
    "\n",
    "documents = text_splitter.split_documents(documents)"
   ]
  },
  {
   "cell_type": "code",
   "execution_count": 9,
   "id": "5b12cb7b-2ff3-490f-9540-154d5443620f",
   "metadata": {},
   "outputs": [
    {
     "data": {
      "text/plain": [
       "624"
      ]
     },
     "execution_count": 9,
     "metadata": {},
     "output_type": "execute_result"
    }
   ],
   "source": [
    "len(documents)"
   ]
  },
  {
   "cell_type": "markdown",
   "id": "9f644c2c-b9fe-49ed-87eb-8e677bd4a0af",
   "metadata": {},
   "source": [
    "# Load embedding model"
   ]
  },
  {
   "cell_type": "code",
   "execution_count": 10,
   "id": "6f6e2974-0651-4c12-a719-5d35c3067456",
   "metadata": {},
   "outputs": [],
   "source": [
    "from langchain_openai import OpenAIEmbeddings\n",
    "\n",
    "embeddings = OpenAIEmbeddings(\n",
    "    model=\"text-embedding-3-small\"\n",
    ")"
   ]
  },
  {
   "cell_type": "markdown",
   "id": "24ab51e0-7179-41a0-9cd2-7dcc53e58329",
   "metadata": {},
   "source": [
    "# Create FAISS VectorStore and Retriever"
   ]
  },
  {
   "cell_type": "code",
   "execution_count": 11,
   "id": "1f2e6701-a061-480d-b1c5-51054bfb2b70",
   "metadata": {},
   "outputs": [],
   "source": [
    "from langchain_community.vectorstores import FAISS\n",
    "\n",
    "vector_store = FAISS.from_documents(documents, embeddings)"
   ]
  },
  {
   "cell_type": "code",
   "execution_count": 12,
   "id": "04394635-0eca-4be0-a56f-a14e713b48cd",
   "metadata": {},
   "outputs": [],
   "source": [
    "retriever = vector_store.as_retriever()"
   ]
  },
  {
   "cell_type": "markdown",
   "id": "4867c2de-9dcf-4f7e-ac08-fd79bfbfd953",
   "metadata": {},
   "source": [
    "# Test the Retriever"
   ]
  },
  {
   "cell_type": "code",
   "execution_count": 13,
   "id": "947cd814-a03e-4e24-8fd2-fdd0336f794e",
   "metadata": {},
   "outputs": [],
   "source": [
    "retrieved_documents = retriever.invoke(\"What is Ndivia?\")"
   ]
  },
  {
   "cell_type": "code",
   "execution_count": 20,
   "id": "c208dc8b-9ba9-46ee-8bd6-5a5feb52b31e",
   "metadata": {
    "scrolled": true
   },
   "outputs": [
    {
     "name": "stdout",
     "output_type": "stream",
     "text": [
      "page_content='expanded to several other large and important computationally intensive fields. NVIDIA has leveraged its GPU architecture to create platforms for accelerated\\ncomputing, AI solutions, scientific computing, data science, AV, robotics, metaverse and 3D internet applications.\\nOur two operating segments are \"Compute & Networking\" and \"Graphics.\" Refer to Note 17 of the Notes to the Consolidated Financial Statements in Part IV,\\nItem 15 of this Annual Report on Form 10-K for additional information.\\nHeadquartered in Santa Clara, California, NVIDIA was incorporated in California in April 1993 and reincorporated in Delaware in April 1998.\\nRecent Developments, Future Objectives and Challenges' metadata={'source': 'Nvidia_10k_Filings.pdf', 'file_path': 'Nvidia_10k_Filings.pdf', 'page': 33, 'total_pages': 96, 'format': 'PDF 1.4', 'title': '0001045810-24-000029', 'author': 'EDGAR® Online LLC, a subsidiary of OTC Markets Group', 'subject': 'Form 10-K filed on 2024-02-21 for the period ending 2024-01-28', 'keywords': '0001045810-24-000029; ; 10-K', 'creator': 'EDGAR Filing HTML Converter', 'producer': 'EDGRpdf Service w/ EO.Pdf 22.0.40.0', 'creationDate': \"D:20240221173732-05'00'\", 'modDate': \"D:20240221173744-05'00'\", 'trapped': '', 'encryption': 'Standard V2 R3 128-bit RC4'}\n",
      "page_content='AI-specific features to our GPU architecture to further extend our leadership position. In addition, we offer DGX Cloud, an AI-training-as-a-service platform, and\\nNeMo – a complete solution for building enterprise-ready Large Language Models, or LLMs, using open source and proprietary LLMs created by NVIDIA and\\nthird parties. Our AI technology leadership is reinforced by our large and expanding ecosystem in a virtuous cycle. Our computing platforms are available from\\nvirtually every major server maker and CSP, as well as on our own AI supercomputers. There are over 4.7 million developers worldwide using CUDA and our' metadata={'source': 'Nvidia_10k_Filings.pdf', 'file_path': 'Nvidia_10k_Filings.pdf', 'page': 6, 'total_pages': 96, 'format': 'PDF 1.4', 'title': '0001045810-24-000029', 'author': 'EDGAR® Online LLC, a subsidiary of OTC Markets Group', 'subject': 'Form 10-K filed on 2024-02-21 for the period ending 2024-01-28', 'keywords': '0001045810-24-000029; ; 10-K', 'creator': 'EDGAR Filing HTML Converter', 'producer': 'EDGRpdf Service w/ EO.Pdf 22.0.40.0', 'creationDate': \"D:20240221173732-05'00'\", 'modDate': \"D:20240221173744-05'00'\", 'trapped': '', 'encryption': 'Standard V2 R3 128-bit RC4'}\n",
      "page_content='other software tools to help deploy our technology in our target markets. We evangelize AI through partnerships with hundreds of universities and thousands of\\nstartups through our Inception program. Additionally, our Deep Learning Institute provides instruction on the latest techniques on how to design, train, and deploy\\nneural networks in applications using our accelerated computing platform.\\nExtending our technology and platform leadership in computer graphics. We believe that computer graphics infused with AI is fundamental to the\\ncontinued expansion and evolution of computing. We apply our research and development resources to enhance the user experience for consumer' metadata={'source': 'Nvidia_10k_Filings.pdf', 'file_path': 'Nvidia_10k_Filings.pdf', 'page': 6, 'total_pages': 96, 'format': 'PDF 1.4', 'title': '0001045810-24-000029', 'author': 'EDGAR® Online LLC, a subsidiary of OTC Markets Group', 'subject': 'Form 10-K filed on 2024-02-21 for the period ending 2024-01-28', 'keywords': '0001045810-24-000029; ; 10-K', 'creator': 'EDGAR Filing HTML Converter', 'producer': 'EDGRpdf Service w/ EO.Pdf 22.0.40.0', 'creationDate': \"D:20240221173732-05'00'\", 'modDate': \"D:20240221173744-05'00'\", 'trapped': '', 'encryption': 'Standard V2 R3 128-bit RC4'}\n",
      "page_content='Table of Contents\\nstrategy, planning, reporting and business development for the division. Prior to joining Microsoft, Ms. Kress spent eight years at Texas Instruments Incorporated,\\na semiconductor company, where she held a variety of finance positions. Ms. Kress holds a B.S. degree in Finance from University of Arizona and an M.B.A.\\ndegree from Southern Methodist University.\\nAjay K. Puri joined NVIDIA in 2005 as Senior Vice President, Worldwide Sales and became Executive Vice President, Worldwide Field Operations in 2009. Prior\\nto NVIDIA, he held positions in sales, marketing, and general management over a 22-year career at Sun Microsystems, Inc., a computing systems company. Mr.' metadata={'source': 'Nvidia_10k_Filings.pdf', 'file_path': 'Nvidia_10k_Filings.pdf', 'page': 12, 'total_pages': 96, 'format': 'PDF 1.4', 'title': '0001045810-24-000029', 'author': 'EDGAR® Online LLC, a subsidiary of OTC Markets Group', 'subject': 'Form 10-K filed on 2024-02-21 for the period ending 2024-01-28', 'keywords': '0001045810-24-000029; ; 10-K', 'creator': 'EDGAR Filing HTML Converter', 'producer': 'EDGRpdf Service w/ EO.Pdf 22.0.40.0', 'creationDate': \"D:20240221173732-05'00'\", 'modDate': \"D:20240221173744-05'00'\", 'trapped': '', 'encryption': 'Standard V2 R3 128-bit RC4'}\n"
     ]
    }
   ],
   "source": [
    "for doc in retrieved_documents:\n",
    "  print(doc)"
   ]
  },
  {
   "cell_type": "markdown",
   "id": "95a164f9-cb62-46af-bf91-0dfbac01c0f4",
   "metadata": {},
   "source": [
    "# Create the RAG Chain"
   ]
  },
  {
   "cell_type": "code",
   "execution_count": 14,
   "id": "bdabbac9-caa2-4645-9ee2-575f86c2c7a9",
   "metadata": {},
   "outputs": [
    {
     "name": "stdout",
     "output_type": "stream",
     "text": [
      "Requirement already satisfied: langchainhub in c:\\users\\cesar\\appdata\\local\\programs\\python\\python312\\lib\\site-packages (0.1.15)\n",
      "Requirement already satisfied: requests<3,>=2 in c:\\users\\cesar\\appdata\\local\\programs\\python\\python312\\lib\\site-packages (from langchainhub) (2.31.0)\n",
      "Requirement already satisfied: types-requests<3.0.0.0,>=2.31.0.2 in c:\\users\\cesar\\appdata\\local\\programs\\python\\python312\\lib\\site-packages (from langchainhub) (2.31.0.20240311)\n",
      "Requirement already satisfied: charset-normalizer<4,>=2 in c:\\users\\cesar\\appdata\\local\\programs\\python\\python312\\lib\\site-packages (from requests<3,>=2->langchainhub) (3.3.1)\n",
      "Requirement already satisfied: idna<4,>=2.5 in c:\\users\\cesar\\appdata\\local\\programs\\python\\python312\\lib\\site-packages (from requests<3,>=2->langchainhub) (3.4)\n",
      "Requirement already satisfied: urllib3<3,>=1.21.1 in c:\\users\\cesar\\appdata\\local\\programs\\python\\python312\\lib\\site-packages (from requests<3,>=2->langchainhub) (2.0.7)\n",
      "Requirement already satisfied: certifi>=2017.4.17 in c:\\users\\cesar\\appdata\\local\\programs\\python\\python312\\lib\\site-packages (from requests<3,>=2->langchainhub) (2023.7.22)\n"
     ]
    },
    {
     "name": "stderr",
     "output_type": "stream",
     "text": [
      "\n",
      "[notice] A new release of pip is available: 23.3.1 -> 24.0\n",
      "[notice] To update, run: python.exe -m pip install --upgrade pip\n"
     ]
    }
   ],
   "source": [
    "!pip install langchainhub"
   ]
  },
  {
   "cell_type": "code",
   "execution_count": 15,
   "id": "6286679c-a121-497c-a272-109b6e040133",
   "metadata": {},
   "outputs": [],
   "source": [
    "from langchain import hub\n",
    "\n",
    "retrieval_qa_prompt = hub.pull(\"langchain-ai/retrieval-qa-chat\")"
   ]
  },
  {
   "cell_type": "code",
   "execution_count": 16,
   "id": "13ebccdb-eb62-402f-8bda-497535c6e1c2",
   "metadata": {},
   "outputs": [
    {
     "name": "stdout",
     "output_type": "stream",
     "text": [
      "Answer any use questions based solely on the context below:\n",
      "\n",
      "<context>\n",
      "{context}\n",
      "</context>\n"
     ]
    }
   ],
   "source": [
    "print(retrieval_qa_prompt.messages[0].prompt.template)"
   ]
  },
  {
   "cell_type": "code",
   "execution_count": 17,
   "id": "55e73d61-10f6-47b4-bd64-904d21500e91",
   "metadata": {},
   "outputs": [],
   "source": [
    "from langchain.prompts import ChatPromptTemplate\n",
    "\n",
    "template = \"\"\"Answer the question based only on the following context. If you cannot answer the question with the context, please respond with 'I don't know':\n",
    "\n",
    "Context:\n",
    "{context}\n",
    "\n",
    "Question:\n",
    "{question}\n",
    "\"\"\"\n",
    "\n",
    "prompt = ChatPromptTemplate.from_template(template)"
   ]
  },
  {
   "cell_type": "code",
   "execution_count": 19,
   "id": "2284bb84-791e-4c02-a933-6ecca419f477",
   "metadata": {},
   "outputs": [],
   "source": [
    "from operator import itemgetter\n",
    "\n",
    "from langchain_openai import ChatOpenAI\n",
    "from langchain_core.output_parsers import StrOutputParser\n",
    "from langchain_core.runnables import RunnablePassthrough\n",
    "\n",
    "primary_qa_llm = ChatOpenAI(model_name=\"gpt-3.5-turbo\", temperature=0)\n",
    "\n",
    "retrieval_augmented_qa_chain = (\n",
    "    # INVOKE CHAIN WITH: {\"question\" : \"<>\"}\n",
    "    # \"question\" : populated by getting the value of the \"question\" key\n",
    "    # \"context\"  : populated by getting the value of the \"question\" key and chaining it into the base_retriever\n",
    "    {\"context\": itemgetter(\"question\") | retriever, \"question\": itemgetter(\"question\")}\n",
    "    # \"context\"  : is assigned to a RunnablePassthrough object (will not be called or considered in the next step)\n",
    "    #              by getting the value of the \"context\" key from the previous step\n",
    "    | RunnablePassthrough.assign(context=itemgetter(\"context\"))\n",
    "    # \"response\" : the \"context\" and \"question\" values are used to format our prompt object and then piped\n",
    "    #              into the LLM and stored in a key called \"response\"\n",
    "    # \"context\"  : populated by getting the value of the \"context\" key from the previous step\n",
    "    | {\"response\": prompt | primary_qa_llm, \"context\": itemgetter(\"context\")}\n",
    ")"
   ]
  },
  {
   "cell_type": "markdown",
   "id": "244e4a26-a079-4080-bb60-de04a042f1d9",
   "metadata": {},
   "source": [
    "# Testing the chain"
   ]
  },
  {
   "cell_type": "code",
   "execution_count": 20,
   "id": "d84bc423-4d54-459c-9913-d61c8a139d4d",
   "metadata": {},
   "outputs": [
    {
     "name": "stdout",
     "output_type": "stream",
     "text": [
      "Nvidia is a company that has leveraged its GPU architecture to create platforms for accelerated computing, AI solutions, scientific computing, data science, AV, robotics, metaverse, and 3D internet applications.\n"
     ]
    }
   ],
   "source": [
    "question = \"What is Nvidia?\"\n",
    "\n",
    "result = retrieval_augmented_qa_chain.invoke({\"question\" : question})\n",
    "\n",
    "print(result[\"response\"].content)"
   ]
  },
  {
   "cell_type": "markdown",
   "id": "dfb1bea8-f00e-4947-90a5-bfdecdb66d1b",
   "metadata": {},
   "source": [
    "### Pretty cool but the next one is dissapointing"
   ]
  },
  {
   "cell_type": "code",
   "execution_count": 21,
   "id": "f8c5f77e-5dfa-4c53-a9c5-023a97e23264",
   "metadata": {},
   "outputs": [
    {
     "name": "stdout",
     "output_type": "stream",
     "text": [
      "I don't know.\n",
      "[Document(page_content='32.1#*\\nCertification of Chief Executive Officer as required by Rule 13a-14(b) of the Securities Exchange Act of 1934\\n32.2#*\\nCertification of Chief Financial Officer as required by Rule 13a-14(b) of the Securities Exchange Act of 1934\\n97.1+*\\nCompensation Recovery Policy, as amended and restated November 30, 2023\\n101.INS*\\nXBRL Instance Document\\n101.SCH*\\nXBRL Taxonomy Extension Schema Document\\n101.CAL*\\nXBRL Taxonomy Extension Calculation Linkbase Document\\n101.DEF*\\nXBRL Taxonomy Extension Definition Linkbase Document\\n101.LAB*\\nXBRL Taxonomy Extension Labels Linkbase Document\\n101.PRE*\\nXBRL Taxonomy Extension Presentation Linkbase Document\\n104', metadata={'source': 'Nvidia_10k_Filings.pdf', 'file_path': 'Nvidia_10k_Filings.pdf', 'page': 82, 'total_pages': 96, 'format': 'PDF 1.4', 'title': '0001045810-24-000029', 'author': 'EDGAR® Online LLC, a subsidiary of OTC Markets Group', 'subject': 'Form 10-K filed on 2024-02-21 for the period ending 2024-01-28', 'keywords': '0001045810-24-000029; ; 10-K', 'creator': 'EDGAR Filing HTML Converter', 'producer': 'EDGRpdf Service w/ EO.Pdf 22.0.40.0', 'creationDate': \"D:20240221173732-05'00'\", 'modDate': \"D:20240221173744-05'00'\", 'trapped': '', 'encryption': 'Standard V2 R3 128-bit RC4'}), Document(page_content=\"104\\nCover Page Interactive Data File - the cover page interactive data file does not appear in the Interactive Data File because its XBRL tags\\nare embedded within the Inline XBRL document\\n*  Filed herewith.\\n+  Management contract or compensatory plan or arrangement.\\n# In accordance with Item 601(b)(32)(ii) of Regulation S-K and SEC Release Nos. 33-8238 and 34-47986, Final Rule: Management's Reports on Internal Control Over Financial Reporting and Certification of\\nDisclosure in Exchange Act Periodic Reports, the certifications furnished in Exhibits 32.1 and 32.2 hereto are deemed to accompany this Annual Report on Form 10-K and will not be deemed “filed” for\", metadata={'source': 'Nvidia_10k_Filings.pdf', 'file_path': 'Nvidia_10k_Filings.pdf', 'page': 82, 'total_pages': 96, 'format': 'PDF 1.4', 'title': '0001045810-24-000029', 'author': 'EDGAR® Online LLC, a subsidiary of OTC Markets Group', 'subject': 'Form 10-K filed on 2024-02-21 for the period ending 2024-01-28', 'keywords': '0001045810-24-000029; ; 10-K', 'creator': 'EDGAR Filing HTML Converter', 'producer': 'EDGRpdf Service w/ EO.Pdf 22.0.40.0', 'creationDate': \"D:20240221173732-05'00'\", 'modDate': \"D:20240221173744-05'00'\", 'trapped': '', 'encryption': 'Standard V2 R3 128-bit RC4'}), Document(page_content=\"8-K\\nAnnex B-1 to\\nExhibit 4.2\\n3/31/2020\\n4.10\\nForm of 2050 Note\\n8-K\\nAnnex C-1 to\\nExhibit 4.2\\n3/31/2020\\n4.11\\nForm of 2060 Note\\n8-K\\nAnnex D-1 to\\nExhibit 4.2\\n3/31/2020\\n4.12\\nOfficers' Certificate, dated as of June 16, 2021\\n8-K\\n4.2\\n6/16/2021\\n4.13\\nForm of 2023 Note\\n8-K\\nAnnex A-1 to\\nExhibit 4.2\\n6/16/2021\\n4.14\\nForm of 2024 Note\\n8-K\\nAnnex B-1 to\\nExhibit 4.2\\n6/16/2021\\n4.15\\nForm of 2028 Note\\n8-K\\nAnnex C-1 to\\nExhibit 4.2\\n6/16/2021\\n4.16\\nForm of 2031 Note\\n8-K\\nAnnex D-1 to\\nExhibit 4.2\\n6/16/2021\\n10.1\\nForm of Indemnity Agreement between NVIDIA Corporation and each of its\\ndirectors and officers\\n8-K\\n10.1\\n3/7/2006\\n10.2+\\nAmended and Restated 2007 Equity Incentive Plan\\n10-K\\n10.2\\n2/24/2023\\n10.3+\", metadata={'source': 'Nvidia_10k_Filings.pdf', 'file_path': 'Nvidia_10k_Filings.pdf', 'page': 81, 'total_pages': 96, 'format': 'PDF 1.4', 'title': '0001045810-24-000029', 'author': 'EDGAR® Online LLC, a subsidiary of OTC Markets Group', 'subject': 'Form 10-K filed on 2024-02-21 for the period ending 2024-01-28', 'keywords': '0001045810-24-000029; ; 10-K', 'creator': 'EDGAR Filing HTML Converter', 'producer': 'EDGRpdf Service w/ EO.Pdf 22.0.40.0', 'creationDate': \"D:20240221173732-05'00'\", 'modDate': \"D:20240221173744-05'00'\", 'trapped': '', 'encryption': 'Standard V2 R3 128-bit RC4'}), Document(page_content='8-K\\n10.1\\n3/9/2022\\n10.12+\\nVariable Compensation Plan - Fiscal Year 2024\\n8-K\\n10.1\\n3/8/2023\\n10.13\\nForm of Commercial Paper Dealer Agreement between NVIDIA Corporation, as\\nIssuer, and the Dealer party thereto\\n8-K\\n10.1\\n12/15/2017\\n21.1*\\nSubsidiaries of Registrant\\n23.1*\\nConsent of PricewaterhouseCoopers LLP\\n24.1*\\nPower of Attorney (included in signature page)\\n31.1*\\nCertification of Chief Executive Officer as required by Rule 13a-14(a) of the Securities Exchange Act of 1934\\n31.2*\\nCertification of Chief Financial Officer as required by Rule 13a-14(a) of the Securities Exchange Act of 1934\\n32.1#*', metadata={'source': 'Nvidia_10k_Filings.pdf', 'file_path': 'Nvidia_10k_Filings.pdf', 'page': 82, 'total_pages': 96, 'format': 'PDF 1.4', 'title': '0001045810-24-000029', 'author': 'EDGAR® Online LLC, a subsidiary of OTC Markets Group', 'subject': 'Form 10-K filed on 2024-02-21 for the period ending 2024-01-28', 'keywords': '0001045810-24-000029; ; 10-K', 'creator': 'EDGAR Filing HTML Converter', 'producer': 'EDGRpdf Service w/ EO.Pdf 22.0.40.0', 'creationDate': \"D:20240221173732-05'00'\", 'modDate': \"D:20240221173744-05'00'\", 'trapped': '', 'encryption': 'Standard V2 R3 128-bit RC4'})]\n"
     ]
    }
   ],
   "source": [
    "question = \"What is this document about?\"\n",
    "\n",
    "result = retrieval_augmented_qa_chain.invoke({\"question\" : question})\n",
    "\n",
    "print(result[\"response\"].content)\n",
    "print(result[\"context\"])"
   ]
  },
  {
   "cell_type": "code",
   "execution_count": null,
   "id": "6d00840f-6a3d-49cb-a6ac-20cf95e53eb1",
   "metadata": {
    "jupyter": {
     "source_hidden": true
    }
   },
   "outputs": [],
   "source": []
  },
  {
   "cell_type": "markdown",
   "id": "1d9684b2-7c66-4c4a-8561-ad2f01e035fd",
   "metadata": {},
   "source": [
    "# Synthetic Dataset Generation using Ragas"
   ]
  },
  {
   "cell_type": "code",
   "execution_count": 23,
   "id": "f4556fae-7dff-4a40-9711-bfdb36211336",
   "metadata": {},
   "outputs": [],
   "source": [
    "eval_documents = documents\n",
    "\n",
    "text_splitter = RecursiveCharacterTextSplitter(\n",
    "    chunk_size = 1500,\n",
    "    chunk_overlap = 400\n",
    ")\n",
    "\n",
    "eval_documents = text_splitter.split_documents(eval_documents)"
   ]
  },
  {
   "cell_type": "code",
   "execution_count": 26,
   "id": "a9aa7603-c5af-41da-bb10-359bdec651d9",
   "metadata": {},
   "outputs": [
    {
     "data": {
      "application/vnd.jupyter.widget-view+json": {
       "model_id": "",
       "version_major": 2,
       "version_minor": 0
      },
      "text/plain": [
       "embedding nodes:   0%|          | 0/1248 [00:00<?, ?it/s]"
      ]
     },
     "metadata": {},
     "output_type": "display_data"
    },
    {
     "name": "stderr",
     "output_type": "stream",
     "text": [
      "Filename and doc_id are the same for all nodes.\n"
     ]
    },
    {
     "data": {
      "application/vnd.jupyter.widget-view+json": {
       "model_id": "e27abab75ade470c89aa726025e42955",
       "version_major": 2,
       "version_minor": 0
      },
      "text/plain": [
       "Generating:   0%|          | 0/10 [00:00<?, ?it/s]"
      ]
     },
     "metadata": {},
     "output_type": "display_data"
    }
   ],
   "source": [
    "from ragas.testset.generator import TestsetGenerator\n",
    "from ragas.testset.evolutions import simple, reasoning, multi_context\n",
    "\n",
    "generator = TestsetGenerator.with_openai()\n",
    "\n",
    "testset = generator.generate_with_langchain_docs(documents, test_size=10, distributions={simple: 0.25, reasoning: 0.25, multi_context: 0.5},raise_exceptions=False)\n",
    "     "
   ]
  },
  {
   "cell_type": "markdown",
   "id": "b19b5238-1785-4029-83ea-7f252ee410a1",
   "metadata": {},
   "source": [
    "### I had issues with the RPM here. I tried reducing the test size but it didn´t work. I finally used 'raise_excepctions=False' but it seemed to complete the work"
   ]
  },
  {
   "cell_type": "code",
   "execution_count": 27,
   "id": "119e1227-6d25-4f80-bb1c-b17cf4266f91",
   "metadata": {
    "scrolled": true
   },
   "outputs": [
    {
     "data": {
      "text/plain": [
       "DataRow(question='What factors contribute to inconsistent spikes and drops in demand for our products?', contexts=['impact demand for our products, including by leading to inconsistent spikes and drops in demand. For example, several years ago, our Gaming GPUs began to\\nbe used for mining digital currencies, such as Ethereum. It is difficult for us to estimate with any reasonable degree of precision the past or current impact of\\ncryptocurrency mining, or forecast the future impact of cryptocurrency mining, on demand for our products. Volatility in the cryptocurrency market, including new\\ncompute technologies, price changes in cryptocurrencies, government cryptocurrency policies and regulations, new cryptocurrency standards and changes in'], ground_truth='mining digital currencies, such as Ethereum', evolution_type='simple')"
      ]
     },
     "execution_count": 27,
     "metadata": {},
     "output_type": "execute_result"
    }
   ],
   "source": [
    "testset.test_data[0]"
   ]
  },
  {
   "cell_type": "markdown",
   "id": "0fdfbb6a-8a05-4601-8f73-09188782d112",
   "metadata": {},
   "source": [
    "# Generate the responses to the test questions"
   ]
  },
  {
   "cell_type": "code",
   "execution_count": 28,
   "id": "563546c0-4c89-41bd-b4c5-69e880f5d824",
   "metadata": {},
   "outputs": [],
   "source": [
    "test_df = testset.to_pandas()"
   ]
  },
  {
   "cell_type": "code",
   "execution_count": 29,
   "id": "df0abac6-2e27-44b5-a708-e9cbe77e873b",
   "metadata": {},
   "outputs": [
    {
     "data": {
      "text/html": [
       "<div>\n",
       "<style scoped>\n",
       "    .dataframe tbody tr th:only-of-type {\n",
       "        vertical-align: middle;\n",
       "    }\n",
       "\n",
       "    .dataframe tbody tr th {\n",
       "        vertical-align: top;\n",
       "    }\n",
       "\n",
       "    .dataframe thead th {\n",
       "        text-align: right;\n",
       "    }\n",
       "</style>\n",
       "<table border=\"1\" class=\"dataframe\">\n",
       "  <thead>\n",
       "    <tr style=\"text-align: right;\">\n",
       "      <th></th>\n",
       "      <th>question</th>\n",
       "      <th>contexts</th>\n",
       "      <th>ground_truth</th>\n",
       "      <th>evolution_type</th>\n",
       "      <th>episode_done</th>\n",
       "    </tr>\n",
       "  </thead>\n",
       "  <tbody>\n",
       "    <tr>\n",
       "      <th>0</th>\n",
       "      <td>What factors contribute to inconsistent spikes...</td>\n",
       "      <td>[impact demand for our products, including by ...</td>\n",
       "      <td>mining digital currencies, such as Ethereum</td>\n",
       "      <td>simple</td>\n",
       "      <td>True</td>\n",
       "    </tr>\n",
       "    <tr>\n",
       "      <th>1</th>\n",
       "      <td>What percentage of total revenue for fiscal ye...</td>\n",
       "      <td>[Table of Contents\\nAll Other operating loss -...</td>\n",
       "      <td>56%</td>\n",
       "      <td>simple</td>\n",
       "      <td>True</td>\n",
       "    </tr>\n",
       "    <tr>\n",
       "      <th>2</th>\n",
       "      <td>How would export controls on networking produc...</td>\n",
       "      <td>[controls to restrict additional gaming produc...</td>\n",
       "      <td>Export controls on networking products would n...</td>\n",
       "      <td>reasoning</td>\n",
       "      <td>True</td>\n",
       "    </tr>\n",
       "    <tr>\n",
       "      <th>3</th>\n",
       "      <td>Which countries are affected by export restric...</td>\n",
       "      <td>[supercomputing industries. These restrictions...</td>\n",
       "      <td>China and Russia are affected by export restri...</td>\n",
       "      <td>reasoning</td>\n",
       "      <td>True</td>\n",
       "    </tr>\n",
       "    <tr>\n",
       "      <th>4</th>\n",
       "      <td>\"How do we account for impairment of non-marke...</td>\n",
       "      <td>[based on quantitative and qualitative factors...</td>\n",
       "      <td>We write down the investment to its fair value...</td>\n",
       "      <td>multi_context</td>\n",
       "      <td>True</td>\n",
       "    </tr>\n",
       "    <tr>\n",
       "      <th>5</th>\n",
       "      <td>What factors can affect a business's effective...</td>\n",
       "      <td>[adjustments to income taxes upon finalization...</td>\n",
       "      <td>adjustments to income taxes upon finalization ...</td>\n",
       "      <td>multi_context</td>\n",
       "      <td>True</td>\n",
       "    </tr>\n",
       "    <tr>\n",
       "      <th>6</th>\n",
       "      <td>What are the consequences of violating export ...</td>\n",
       "      <td>[and generally fulfill our contractual obligat...</td>\n",
       "      <td>If we were ever found to have violated export ...</td>\n",
       "      <td>multi_context</td>\n",
       "      <td>True</td>\n",
       "    </tr>\n",
       "    <tr>\n",
       "      <th>7</th>\n",
       "      <td>What legal challenges do companies like ours f...</td>\n",
       "      <td>[expensed using an accelerated amortization mo...</td>\n",
       "      <td>Companies like ours face legal challenges in r...</td>\n",
       "      <td>multi_context</td>\n",
       "      <td>True</td>\n",
       "    </tr>\n",
       "    <tr>\n",
       "      <th>8</th>\n",
       "      <td>How does the integration of cloud-based infras...</td>\n",
       "      <td>[criteria, our financial results may be harmed...</td>\n",
       "      <td>The integration of cloud-based infrastructure ...</td>\n",
       "      <td>multi_context</td>\n",
       "      <td>True</td>\n",
       "    </tr>\n",
       "    <tr>\n",
       "      <th>9</th>\n",
       "      <td>Which integrated circuits are affected by expo...</td>\n",
       "      <td>[supercomputing industries. These restrictions...</td>\n",
       "      <td>The A100 and H100 integrated circuits are affe...</td>\n",
       "      <td>reasoning</td>\n",
       "      <td>True</td>\n",
       "    </tr>\n",
       "  </tbody>\n",
       "</table>\n",
       "</div>"
      ],
      "text/plain": [
       "                                            question  \\\n",
       "0  What factors contribute to inconsistent spikes...   \n",
       "1  What percentage of total revenue for fiscal ye...   \n",
       "2  How would export controls on networking produc...   \n",
       "3  Which countries are affected by export restric...   \n",
       "4  \"How do we account for impairment of non-marke...   \n",
       "5  What factors can affect a business's effective...   \n",
       "6  What are the consequences of violating export ...   \n",
       "7  What legal challenges do companies like ours f...   \n",
       "8  How does the integration of cloud-based infras...   \n",
       "9  Which integrated circuits are affected by expo...   \n",
       "\n",
       "                                            contexts  \\\n",
       "0  [impact demand for our products, including by ...   \n",
       "1  [Table of Contents\\nAll Other operating loss -...   \n",
       "2  [controls to restrict additional gaming produc...   \n",
       "3  [supercomputing industries. These restrictions...   \n",
       "4  [based on quantitative and qualitative factors...   \n",
       "5  [adjustments to income taxes upon finalization...   \n",
       "6  [and generally fulfill our contractual obligat...   \n",
       "7  [expensed using an accelerated amortization mo...   \n",
       "8  [criteria, our financial results may be harmed...   \n",
       "9  [supercomputing industries. These restrictions...   \n",
       "\n",
       "                                        ground_truth evolution_type  \\\n",
       "0        mining digital currencies, such as Ethereum         simple   \n",
       "1                                                56%         simple   \n",
       "2  Export controls on networking products would n...      reasoning   \n",
       "3  China and Russia are affected by export restri...      reasoning   \n",
       "4  We write down the investment to its fair value...  multi_context   \n",
       "5  adjustments to income taxes upon finalization ...  multi_context   \n",
       "6  If we were ever found to have violated export ...  multi_context   \n",
       "7  Companies like ours face legal challenges in r...  multi_context   \n",
       "8  The integration of cloud-based infrastructure ...  multi_context   \n",
       "9  The A100 and H100 integrated circuits are affe...      reasoning   \n",
       "\n",
       "   episode_done  \n",
       "0          True  \n",
       "1          True  \n",
       "2          True  \n",
       "3          True  \n",
       "4          True  \n",
       "5          True  \n",
       "6          True  \n",
       "7          True  \n",
       "8          True  \n",
       "9          True  "
      ]
     },
     "execution_count": 29,
     "metadata": {},
     "output_type": "execute_result"
    }
   ],
   "source": [
    "test_df"
   ]
  },
  {
   "cell_type": "code",
   "execution_count": 30,
   "id": "9b334ee7-598a-4001-b4b7-aa13163e73c2",
   "metadata": {},
   "outputs": [],
   "source": [
    "test_questions = test_df[\"question\"].values.tolist()\n",
    "test_groundtruths = test_df[\"ground_truth\"].values.tolist()"
   ]
  },
  {
   "cell_type": "code",
   "execution_count": 31,
   "id": "73abaf4e-6f2e-4682-9f81-78663efd0218",
   "metadata": {},
   "outputs": [],
   "source": [
    "answers = []\n",
    "contexts = []\n",
    "\n",
    "for question in test_questions:\n",
    "  response = retrieval_augmented_qa_chain.invoke({\"question\" : question})\n",
    "  answers.append(response[\"response\"].content)\n",
    "  contexts.append([context.page_content for context in response[\"context\"]])"
   ]
  },
  {
   "cell_type": "code",
   "execution_count": 32,
   "id": "5cc1c16b-cbb0-4db3-a5b6-0849f78b03ec",
   "metadata": {},
   "outputs": [],
   "source": [
    "from datasets import Dataset\n",
    "\n",
    "response_dataset = Dataset.from_dict({\n",
    "    \"question\" : test_questions,\n",
    "    \"answer\" : answers,\n",
    "    \"contexts\" : contexts,\n",
    "    \"ground_truth\" : test_groundtruths\n",
    "})"
   ]
  },
  {
   "cell_type": "code",
   "execution_count": 33,
   "id": "9f91fee7-046b-4c19-90c4-7709f22533a1",
   "metadata": {
    "scrolled": true
   },
   "outputs": [
    {
     "data": {
      "text/plain": [
       "{'question': 'What factors contribute to inconsistent spikes and drops in demand for our products?',\n",
       " 'answer': 'Factors that contribute to inconsistent spikes and drops in demand for products include changes in customer requirements, new product introductions resulting in less demand for existing products, failure to estimate customer demand properly, ordering in advance of historical lead-times, government regulations, and an increase in demand for competitive products.',\n",
       " 'contexts': ['Many additional factors have caused and/or could in the future cause us to either underestimate or overestimate our customers’ future demand for our products,\\nor otherwise cause a mismatch between supply and demand for our products and impact the timing and volume of our revenue, including:\\n•\\nchanges in product development cycles and time to market;\\n•\\ncompeting technologies and competitor product releases and announcements;\\n•\\nchanges in business and economic conditions resulting in decreased end demand;\\n•\\nsudden or sustained government lockdowns or actions to control case spread of global or local health issues;\\n•\\nrapidly changing technology or customer requirements;\\n•',\n",
       "  '•\\nthe availability of sufficient data center capacity and energy for customers to procure;\\n•\\nnew product introductions and transitions resulting in less demand for existing products;\\n•\\nnew or unexpected end-use cases;\\n•\\nincrease in demand for competitive products, including competitive actions;\\n•\\nbusiness decisions made by third parties;\\n•\\nthe demand for accelerated or AI-related cloud services, including our own software and NVIDIA DGX Cloud services;\\n•\\nchanges that impact the ecosystem for the architectures underlying our products and technologies;\\n•\\nthe demand for our products; or\\n•',\n",
       "  'customer requirements, new product introductions resulting in less demand for existing products or inconsistent spikes in demand, failure to estimate customer\\ndemand properly, ordering in advance of historical lead-times, government regulations and the impact of changes in future demand, or increase in demand for\\ncompetitive products, including competitive actions. Cancellation or deferral of customer purchase orders could result in our holding excess inventory.\\nThe net effect on our gross margin from inventory provisions and sales of items previously written down was an unfavorable impact of 2.7% in fiscal year 2024',\n",
       "  'impact demand for our products, including by leading to inconsistent spikes and drops in demand. For example, several years ago, our Gaming GPUs began to\\nbe used for mining digital currencies, such as Ethereum. It is difficult for us to estimate with any reasonable degree of precision the past or current impact of\\ncryptocurrency mining, or forecast the future impact of cryptocurrency mining, on demand for our products. Volatility in the cryptocurrency market, including new\\ncompute technologies, price changes in cryptocurrencies, government cryptocurrency policies and regulations, new cryptocurrency standards and changes in'],\n",
       " 'ground_truth': 'mining digital currencies, such as Ethereum'}"
      ]
     },
     "execution_count": 33,
     "metadata": {},
     "output_type": "execute_result"
    }
   ],
   "source": [
    "response_dataset[0]"
   ]
  },
  {
   "cell_type": "markdown",
   "id": "ba3f7e59-8637-46cb-a4e9-011fddcf6fca",
   "metadata": {},
   "source": [
    "# Evaluation"
   ]
  },
  {
   "cell_type": "code",
   "execution_count": 34,
   "id": "34a20306-ba53-4b6c-be55-8dd54cb0c5c4",
   "metadata": {},
   "outputs": [],
   "source": [
    "from ragas import evaluate\n",
    "from ragas.metrics import (\n",
    "    faithfulness,\n",
    "    answer_relevancy,\n",
    "    answer_correctness,\n",
    "    context_recall,\n",
    "    context_precision,\n",
    ")\n",
    "\n",
    "metrics = [\n",
    "    faithfulness,\n",
    "    answer_relevancy,\n",
    "    context_recall,\n",
    "    context_precision,\n",
    "    answer_correctness,\n",
    "]"
   ]
  },
  {
   "cell_type": "code",
   "execution_count": 35,
   "id": "d5cfefda-adcb-4130-9b33-50993b5603dd",
   "metadata": {},
   "outputs": [
    {
     "data": {
      "application/vnd.jupyter.widget-view+json": {
       "model_id": "826b773b1f0d4d928b8f554970cab601",
       "version_major": 2,
       "version_minor": 0
      },
      "text/plain": [
       "Evaluating:   0%|          | 0/50 [00:00<?, ?it/s]"
      ]
     },
     "metadata": {},
     "output_type": "display_data"
    }
   ],
   "source": [
    "results = evaluate(response_dataset, metrics)"
   ]
  },
  {
   "cell_type": "code",
   "execution_count": 37,
   "id": "8898119c-11ee-4876-b312-4b8f08bd23ce",
   "metadata": {},
   "outputs": [
    {
     "data": {
      "text/plain": [
       "{'faithfulness': 0.9400, 'answer_relevancy': 0.9377, 'context_recall': 1.0000, 'context_precision': 0.8417, 'answer_correctness': 0.7421}"
      ]
     },
     "execution_count": 37,
     "metadata": {},
     "output_type": "execute_result"
    }
   ],
   "source": [
    "results"
   ]
  },
  {
   "cell_type": "code",
   "execution_count": 36,
   "id": "be81a78f-e95c-4db2-aa5a-6248d3d3cecc",
   "metadata": {
    "scrolled": true
   },
   "outputs": [
    {
     "data": {
      "text/html": [
       "<div>\n",
       "<style scoped>\n",
       "    .dataframe tbody tr th:only-of-type {\n",
       "        vertical-align: middle;\n",
       "    }\n",
       "\n",
       "    .dataframe tbody tr th {\n",
       "        vertical-align: top;\n",
       "    }\n",
       "\n",
       "    .dataframe thead th {\n",
       "        text-align: right;\n",
       "    }\n",
       "</style>\n",
       "<table border=\"1\" class=\"dataframe\">\n",
       "  <thead>\n",
       "    <tr style=\"text-align: right;\">\n",
       "      <th></th>\n",
       "      <th>question</th>\n",
       "      <th>answer</th>\n",
       "      <th>contexts</th>\n",
       "      <th>ground_truth</th>\n",
       "      <th>faithfulness</th>\n",
       "      <th>answer_relevancy</th>\n",
       "      <th>context_recall</th>\n",
       "      <th>context_precision</th>\n",
       "      <th>answer_correctness</th>\n",
       "    </tr>\n",
       "  </thead>\n",
       "  <tbody>\n",
       "    <tr>\n",
       "      <th>0</th>\n",
       "      <td>What factors contribute to inconsistent spikes...</td>\n",
       "      <td>Factors that contribute to inconsistent spikes...</td>\n",
       "      <td>[Many additional factors have caused and/or co...</td>\n",
       "      <td>mining digital currencies, such as Ethereum</td>\n",
       "      <td>1.0</td>\n",
       "      <td>0.986114</td>\n",
       "      <td>1.0</td>\n",
       "      <td>0.250000</td>\n",
       "      <td>0.174126</td>\n",
       "    </tr>\n",
       "    <tr>\n",
       "      <th>1</th>\n",
       "      <td>What percentage of total revenue for fiscal ye...</td>\n",
       "      <td>56%</td>\n",
       "      <td>[10 \\n(2)\\n— \\nTotal\\n$\\n(4,890)\\n$\\n(5,411)\\n...</td>\n",
       "      <td>56%</td>\n",
       "      <td>1.0</td>\n",
       "      <td>1.000000</td>\n",
       "      <td>1.0</td>\n",
       "      <td>0.833333</td>\n",
       "      <td>1.000000</td>\n",
       "    </tr>\n",
       "    <tr>\n",
       "      <th>2</th>\n",
       "      <td>How would export controls on networking produc...</td>\n",
       "      <td>Export controls on networking products could d...</td>\n",
       "      <td>[controls to restrict additional gaming produc...</td>\n",
       "      <td>Export controls on networking products would n...</td>\n",
       "      <td>1.0</td>\n",
       "      <td>0.936295</td>\n",
       "      <td>1.0</td>\n",
       "      <td>1.000000</td>\n",
       "      <td>0.792353</td>\n",
       "    </tr>\n",
       "    <tr>\n",
       "      <th>3</th>\n",
       "      <td>Which countries are affected by export restric...</td>\n",
       "      <td>China and Russia</td>\n",
       "      <td>[supercomputing industries. These restrictions...</td>\n",
       "      <td>China and Russia are affected by export restri...</td>\n",
       "      <td>1.0</td>\n",
       "      <td>0.915674</td>\n",
       "      <td>1.0</td>\n",
       "      <td>0.833333</td>\n",
       "      <td>0.965775</td>\n",
       "    </tr>\n",
       "    <tr>\n",
       "      <th>4</th>\n",
       "      <td>\"How do we account for impairment of non-marke...</td>\n",
       "      <td>We write down the investment to its fair value...</td>\n",
       "      <td>[based on quantitative and qualitative factors...</td>\n",
       "      <td>We write down the investment to its fair value...</td>\n",
       "      <td>1.0</td>\n",
       "      <td>0.857290</td>\n",
       "      <td>1.0</td>\n",
       "      <td>1.000000</td>\n",
       "      <td>0.740468</td>\n",
       "    </tr>\n",
       "    <tr>\n",
       "      <th>5</th>\n",
       "      <td>What factors can affect a business's effective...</td>\n",
       "      <td>Factors that can affect a business's effective...</td>\n",
       "      <td>[adjustments to income taxes upon finalization...</td>\n",
       "      <td>adjustments to income taxes upon finalization ...</td>\n",
       "      <td>1.0</td>\n",
       "      <td>0.952172</td>\n",
       "      <td>1.0</td>\n",
       "      <td>1.000000</td>\n",
       "      <td>0.556940</td>\n",
       "    </tr>\n",
       "    <tr>\n",
       "      <th>6</th>\n",
       "      <td>What are the consequences of violating export ...</td>\n",
       "      <td>Violating export control laws or sanctions cou...</td>\n",
       "      <td>[and generally fulfill our contractual obligat...</td>\n",
       "      <td>If we were ever found to have violated export ...</td>\n",
       "      <td>1.0</td>\n",
       "      <td>0.946798</td>\n",
       "      <td>1.0</td>\n",
       "      <td>1.000000</td>\n",
       "      <td>0.739889</td>\n",
       "    </tr>\n",
       "    <tr>\n",
       "      <th>7</th>\n",
       "      <td>What legal challenges do companies like ours f...</td>\n",
       "      <td>Companies like yours face legal challenges rel...</td>\n",
       "      <td>[and cash repatriation restrictions; data priv...</td>\n",
       "      <td>Companies like ours face legal challenges in r...</td>\n",
       "      <td>0.4</td>\n",
       "      <td>0.929927</td>\n",
       "      <td>1.0</td>\n",
       "      <td>0.500000</td>\n",
       "      <td>0.991025</td>\n",
       "    </tr>\n",
       "    <tr>\n",
       "      <th>8</th>\n",
       "      <td>How does the integration of cloud-based infras...</td>\n",
       "      <td>The integration of cloud-based infrastructure ...</td>\n",
       "      <td>[to some of ours and can use or develop their ...</td>\n",
       "      <td>The integration of cloud-based infrastructure ...</td>\n",
       "      <td>1.0</td>\n",
       "      <td>0.968177</td>\n",
       "      <td>1.0</td>\n",
       "      <td>1.000000</td>\n",
       "      <td>0.489370</td>\n",
       "    </tr>\n",
       "    <tr>\n",
       "      <th>9</th>\n",
       "      <td>Which integrated circuits are affected by expo...</td>\n",
       "      <td>A100 and H100 integrated circuits</td>\n",
       "      <td>[supercomputing industries. These restrictions...</td>\n",
       "      <td>The A100 and H100 integrated circuits are affe...</td>\n",
       "      <td>1.0</td>\n",
       "      <td>0.884453</td>\n",
       "      <td>1.0</td>\n",
       "      <td>1.000000</td>\n",
       "      <td>0.970987</td>\n",
       "    </tr>\n",
       "  </tbody>\n",
       "</table>\n",
       "</div>"
      ],
      "text/plain": [
       "                                            question  \\\n",
       "0  What factors contribute to inconsistent spikes...   \n",
       "1  What percentage of total revenue for fiscal ye...   \n",
       "2  How would export controls on networking produc...   \n",
       "3  Which countries are affected by export restric...   \n",
       "4  \"How do we account for impairment of non-marke...   \n",
       "5  What factors can affect a business's effective...   \n",
       "6  What are the consequences of violating export ...   \n",
       "7  What legal challenges do companies like ours f...   \n",
       "8  How does the integration of cloud-based infras...   \n",
       "9  Which integrated circuits are affected by expo...   \n",
       "\n",
       "                                              answer  \\\n",
       "0  Factors that contribute to inconsistent spikes...   \n",
       "1                                                56%   \n",
       "2  Export controls on networking products could d...   \n",
       "3                                   China and Russia   \n",
       "4  We write down the investment to its fair value...   \n",
       "5  Factors that can affect a business's effective...   \n",
       "6  Violating export control laws or sanctions cou...   \n",
       "7  Companies like yours face legal challenges rel...   \n",
       "8  The integration of cloud-based infrastructure ...   \n",
       "9                  A100 and H100 integrated circuits   \n",
       "\n",
       "                                            contexts  \\\n",
       "0  [Many additional factors have caused and/or co...   \n",
       "1  [10 \\n(2)\\n— \\nTotal\\n$\\n(4,890)\\n$\\n(5,411)\\n...   \n",
       "2  [controls to restrict additional gaming produc...   \n",
       "3  [supercomputing industries. These restrictions...   \n",
       "4  [based on quantitative and qualitative factors...   \n",
       "5  [adjustments to income taxes upon finalization...   \n",
       "6  [and generally fulfill our contractual obligat...   \n",
       "7  [and cash repatriation restrictions; data priv...   \n",
       "8  [to some of ours and can use or develop their ...   \n",
       "9  [supercomputing industries. These restrictions...   \n",
       "\n",
       "                                        ground_truth  faithfulness  \\\n",
       "0        mining digital currencies, such as Ethereum           1.0   \n",
       "1                                                56%           1.0   \n",
       "2  Export controls on networking products would n...           1.0   \n",
       "3  China and Russia are affected by export restri...           1.0   \n",
       "4  We write down the investment to its fair value...           1.0   \n",
       "5  adjustments to income taxes upon finalization ...           1.0   \n",
       "6  If we were ever found to have violated export ...           1.0   \n",
       "7  Companies like ours face legal challenges in r...           0.4   \n",
       "8  The integration of cloud-based infrastructure ...           1.0   \n",
       "9  The A100 and H100 integrated circuits are affe...           1.0   \n",
       "\n",
       "   answer_relevancy  context_recall  context_precision  answer_correctness  \n",
       "0          0.986114             1.0           0.250000            0.174126  \n",
       "1          1.000000             1.0           0.833333            1.000000  \n",
       "2          0.936295             1.0           1.000000            0.792353  \n",
       "3          0.915674             1.0           0.833333            0.965775  \n",
       "4          0.857290             1.0           1.000000            0.740468  \n",
       "5          0.952172             1.0           1.000000            0.556940  \n",
       "6          0.946798             1.0           1.000000            0.739889  \n",
       "7          0.929927             1.0           0.500000            0.991025  \n",
       "8          0.968177             1.0           1.000000            0.489370  \n",
       "9          0.884453             1.0           1.000000            0.970987  "
      ]
     },
     "execution_count": 36,
     "metadata": {},
     "output_type": "execute_result"
    }
   ],
   "source": [
    "results_df = results.to_pandas()\n",
    "results_df"
   ]
  },
  {
   "cell_type": "markdown",
   "id": "9f335b21-a17b-413d-ad54-147066d23ff9",
   "metadata": {},
   "source": [
    "# Question #1"
   ]
  },
  {
   "cell_type": "code",
   "execution_count": 38,
   "id": "6f657927-10c2-4913-8006-02344e9fb09c",
   "metadata": {
    "scrolled": true
   },
   "outputs": [
    {
     "name": "stdout",
     "output_type": "stream",
     "text": [
      "Debora Shoquist is the Executive Vice President, Operations, and she is 69 years old.\n",
      "[Document(page_content='supports diverse hiring, retention, and employee engagement, which we believe makes NVIDIA a great place to work.\\nDuring fiscal year 2025, we will continue to have a flexible work environment and maintain our company wide 2-days off a quarter for employees to rest and\\nrecharge.\\nInformation About Our Executive Officers\\nThe following sets forth certain information regarding our executive officers, their ages, and positions as of February 16, 2024:\\nName\\nAge\\nPosition\\nJen-Hsun Huang\\n60\\nPresident and Chief Executive Officer\\nColette M. Kress\\n56\\nExecutive Vice President and Chief Financial Officer\\nAjay K. Puri\\n69\\nExecutive Vice President, Worldwide Field Operations\\nDebora Shoquist\\n69', metadata={'source': 'Nvidia_10k_Filings.pdf', 'file_path': 'Nvidia_10k_Filings.pdf', 'page': 11, 'total_pages': 96, 'format': 'PDF 1.4', 'title': '0001045810-24-000029', 'author': 'EDGAR® Online LLC, a subsidiary of OTC Markets Group', 'subject': 'Form 10-K filed on 2024-02-21 for the period ending 2024-01-28', 'keywords': '0001045810-24-000029; ; 10-K', 'creator': 'EDGAR Filing HTML Converter', 'producer': 'EDGRpdf Service w/ EO.Pdf 22.0.40.0', 'creationDate': \"D:20240221173732-05'00'\", 'modDate': \"D:20240221173744-05'00'\", 'trapped': '', 'encryption': 'Standard V2 R3 128-bit RC4'}), Document(page_content=\"Debora Shoquist\\n69\\nExecutive Vice President, Operations\\nTimothy S. Teter\\n57\\nExecutive Vice President and General Counsel\\nJen-Hsun Huang co-founded NVIDIA in 1993 and has served as our President, Chief Executive Officer, and a member of the Board of Directors since our\\ninception. From 1985 to 1993, Mr. Huang was employed at LSI Logic Corporation, a computer chip manufacturer, where he held a variety of positions including\\nas Director of Coreware, the business unit responsible for LSI's SOC. From 1983 to 1985, Mr. Huang was a microprocessor designer for AMD, a semiconductor\\ncompany. Mr. Huang holds a B.S.E.E. degree from Oregon State University and an M.S.E.E. degree from Stanford University.\", metadata={'source': 'Nvidia_10k_Filings.pdf', 'file_path': 'Nvidia_10k_Filings.pdf', 'page': 11, 'total_pages': 96, 'format': 'PDF 1.4', 'title': '0001045810-24-000029', 'author': 'EDGAR® Online LLC, a subsidiary of OTC Markets Group', 'subject': 'Form 10-K filed on 2024-02-21 for the period ending 2024-01-28', 'keywords': '0001045810-24-000029; ; 10-K', 'creator': 'EDGAR Filing HTML Converter', 'producer': 'EDGRpdf Service w/ EO.Pdf 22.0.40.0', 'creationDate': \"D:20240221173732-05'00'\", 'modDate': \"D:20240221173744-05'00'\", 'trapped': '', 'encryption': 'Standard V2 R3 128-bit RC4'}), Document(page_content='Puri previously held marketing, management consulting, and product development positions at Hewlett-Packard, an information technology company, Booz Allen\\nHamilton Inc., a management and technology consulting company, and Texas Instruments Incorporated. Mr. Puri holds a B.S.E.E. degree from the University of\\nMinnesota, an M.S.E.E. degree from the California Institute of Technology and an M.B.A. degree from Harvard Business School.\\nDebora Shoquist joined NVIDIA in 2007 as Senior Vice President of Operations and in 2009 became Executive Vice President of Operations. Prior to NVIDIA,', metadata={'source': 'Nvidia_10k_Filings.pdf', 'file_path': 'Nvidia_10k_Filings.pdf', 'page': 12, 'total_pages': 96, 'format': 'PDF 1.4', 'title': '0001045810-24-000029', 'author': 'EDGAR® Online LLC, a subsidiary of OTC Markets Group', 'subject': 'Form 10-K filed on 2024-02-21 for the period ending 2024-01-28', 'keywords': '0001045810-24-000029; ; 10-K', 'creator': 'EDGAR Filing HTML Converter', 'producer': 'EDGRpdf Service w/ EO.Pdf 22.0.40.0', 'creationDate': \"D:20240221173732-05'00'\", 'modDate': \"D:20240221173744-05'00'\", 'trapped': '', 'encryption': 'Standard V2 R3 128-bit RC4'}), Document(page_content='Table of Contents\\nstrategy, planning, reporting and business development for the division. Prior to joining Microsoft, Ms. Kress spent eight years at Texas Instruments Incorporated,\\na semiconductor company, where she held a variety of finance positions. Ms. Kress holds a B.S. degree in Finance from University of Arizona and an M.B.A.\\ndegree from Southern Methodist University.\\nAjay K. Puri joined NVIDIA in 2005 as Senior Vice President, Worldwide Sales and became Executive Vice President, Worldwide Field Operations in 2009. Prior\\nto NVIDIA, he held positions in sales, marketing, and general management over a 22-year career at Sun Microsystems, Inc., a computing systems company. Mr.', metadata={'source': 'Nvidia_10k_Filings.pdf', 'file_path': 'Nvidia_10k_Filings.pdf', 'page': 12, 'total_pages': 96, 'format': 'PDF 1.4', 'title': '0001045810-24-000029', 'author': 'EDGAR® Online LLC, a subsidiary of OTC Markets Group', 'subject': 'Form 10-K filed on 2024-02-21 for the period ending 2024-01-28', 'keywords': '0001045810-24-000029; ; 10-K', 'creator': 'EDGAR Filing HTML Converter', 'producer': 'EDGRpdf Service w/ EO.Pdf 22.0.40.0', 'creationDate': \"D:20240221173732-05'00'\", 'modDate': \"D:20240221173744-05'00'\", 'trapped': '', 'encryption': 'Standard V2 R3 128-bit RC4'})]\n"
     ]
    }
   ],
   "source": [
    "question = \"Who is the E-VP, Operations - and how old are they\"\n",
    "\n",
    "result = retrieval_augmented_qa_chain.invoke({\"question\" : question})\n",
    "\n",
    "print(result[\"response\"].content)\n",
    "print(result[\"context\"])"
   ]
  },
  {
   "cell_type": "markdown",
   "id": "37f0721a-ec30-4216-80f9-4f2044ef479a",
   "metadata": {},
   "source": [
    "# Question #2"
   ]
  },
  {
   "cell_type": "code",
   "execution_count": 39,
   "id": "a54c26f8-8e5b-4e9e-8ed1-a7a0fc29688d",
   "metadata": {},
   "outputs": [
    {
     "name": "stdout",
     "output_type": "stream",
     "text": [
      "$3,539\n",
      "[Document(page_content='Table of Contents\\nNVIDIA Corporation and Subsidiaries\\nNotes to the Consolidated Financial Statements\\n(Continued)\\nNote 7 - Amortizable Intangible Assets\\nThe components of our amortizable intangible assets are as follows:\\n \\nJan 28, 2024\\nJan 29, 2023\\n \\nGross\\nCarrying\\nAmount\\nAccumulated\\nAmortization\\nNet \\nCarrying\\nAmount\\nGross\\nCarrying\\nAmount\\nAccumulated\\nAmortization\\nNet \\nCarrying\\nAmount\\n \\n(In millions)\\nAcquisition-related intangible\\nassets (1)\\n$\\n2,642 \\n$\\n(1,720)\\n$\\n922 \\n$\\n3,093 \\n$\\n(1,614)\\n$\\n1,479 \\nPatents and licensed technology\\n449 \\n(259)\\n190 \\n446 \\n(249)\\n197 \\nTotal intangible assets\\n$\\n3,091 \\n$\\n(1,979)\\n$\\n1,112 \\n$\\n3,539 \\n$\\n(1,863)\\n$\\n1,676', metadata={'source': 'Nvidia_10k_Filings.pdf', 'file_path': 'Nvidia_10k_Filings.pdf', 'page': 63, 'total_pages': 96, 'format': 'PDF 1.4', 'title': '0001045810-24-000029', 'author': 'EDGAR® Online LLC, a subsidiary of OTC Markets Group', 'subject': 'Form 10-K filed on 2024-02-21 for the period ending 2024-01-28', 'keywords': '0001045810-24-000029; ; 10-K', 'creator': 'EDGAR Filing HTML Converter', 'producer': 'EDGRpdf Service w/ EO.Pdf 22.0.40.0', 'creationDate': \"D:20240221173732-05'00'\", 'modDate': \"D:20240221173744-05'00'\", 'trapped': '', 'encryption': 'Standard V2 R3 128-bit RC4'}), Document(page_content='respectively.\\nProperty, equipment and intangible assets acquired by assuming related liabilities during fiscal years 2024, 2023, and 2022 were $170 million, $374 million, and\\n$258 million, respectively.\\n \\nJan 28, 2024\\nJan 29, 2023\\nOther assets:\\n(In millions)\\nPrepaid supply and capacity agreements (1)\\n$\\n2,458 \\n$\\n2,989 \\nInvestments in non-affiliated entities\\n1,546 \\n299 \\nPrepaid royalties\\n364 \\n387 \\nOther\\n132 \\n145 \\nTotal other assets\\n$\\n4,500 \\n$\\n3,820 \\n(1)\\nAs of January 28, 2024 and January 29, 2023, there was an additional $2.5 billion and $458 million of short-term prepaid supply and capacity agreements included in Prepaid expenses and other\\ncurrent assets, respectively.\\n69', metadata={'source': 'Nvidia_10k_Filings.pdf', 'file_path': 'Nvidia_10k_Filings.pdf', 'page': 68, 'total_pages': 96, 'format': 'PDF 1.4', 'title': '0001045810-24-000029', 'author': 'EDGAR® Online LLC, a subsidiary of OTC Markets Group', 'subject': 'Form 10-K filed on 2024-02-21 for the period ending 2024-01-28', 'keywords': '0001045810-24-000029; ; 10-K', 'creator': 'EDGAR Filing HTML Converter', 'producer': 'EDGRpdf Service w/ EO.Pdf 22.0.40.0', 'creationDate': \"D:20240221173732-05'00'\", 'modDate': \"D:20240221173744-05'00'\", 'trapped': '', 'encryption': 'Standard V2 R3 128-bit RC4'}), Document(page_content='$\\n(1,979)\\n$\\n1,112 \\n$\\n3,539 \\n$\\n(1,863)\\n$\\n1,676 \\n(1)    During the first quarter of fiscal year 2023, we commenced amortization of a $630 million in-process research and development intangible asset related to our acquisition of\\nMellanox.\\nAmortization expense associated with intangible assets for fiscal years 2024, 2023, and 2022 was $614 million, $699 million, and $563 million, respectively.\\nThe following table outlines the estimated future amortization expense related to the net carrying amount of intangible assets as of January 28, 2024:\\nFuture Amortization Expense\\n \\n(In millions)\\nFiscal Year:\\n \\n2025\\n$\\n555 \\n2026\\n261 \\n2027\\n150 \\n2028\\n37 \\n2029\\n9 \\n2030 and thereafter\\n100 \\nTotal\\n$\\n1,112 \\n64', metadata={'source': 'Nvidia_10k_Filings.pdf', 'file_path': 'Nvidia_10k_Filings.pdf', 'page': 63, 'total_pages': 96, 'format': 'PDF 1.4', 'title': '0001045810-24-000029', 'author': 'EDGAR® Online LLC, a subsidiary of OTC Markets Group', 'subject': 'Form 10-K filed on 2024-02-21 for the period ending 2024-01-28', 'keywords': '0001045810-24-000029; ; 10-K', 'creator': 'EDGAR Filing HTML Converter', 'producer': 'EDGRpdf Service w/ EO.Pdf 22.0.40.0', 'creationDate': \"D:20240221173732-05'00'\", 'modDate': \"D:20240221173744-05'00'\", 'trapped': '', 'encryption': 'Standard V2 R3 128-bit RC4'}), Document(page_content='Note 6 - Goodwill\\nAs of January 28, 2024, the total carrying amount of goodwill was $4.4 billion, consisting of goodwill balances allocated to our Compute & Networking and\\nGraphics reporting units of $4.1 billion and $370 million, respectively. As of January 29, 2023, the total carrying amount of goodwill was $4.4 billion, consisting of\\ngoodwill balances allocated to our Compute & Networking and Graphics reporting units of $4.0 billion and $370 million, respectively. Goodwill increased by\\n$59 million in fiscal year 2024 from an immaterial acquisition and was allocated to our Compute & Networking reporting unit. During the fourth quarters of fiscal', metadata={'source': 'Nvidia_10k_Filings.pdf', 'file_path': 'Nvidia_10k_Filings.pdf', 'page': 62, 'total_pages': 96, 'format': 'PDF 1.4', 'title': '0001045810-24-000029', 'author': 'EDGAR® Online LLC, a subsidiary of OTC Markets Group', 'subject': 'Form 10-K filed on 2024-02-21 for the period ending 2024-01-28', 'keywords': '0001045810-24-000029; ; 10-K', 'creator': 'EDGAR Filing HTML Converter', 'producer': 'EDGRpdf Service w/ EO.Pdf 22.0.40.0', 'creationDate': \"D:20240221173732-05'00'\", 'modDate': \"D:20240221173744-05'00'\", 'trapped': '', 'encryption': 'Standard V2 R3 128-bit RC4'})]\n"
     ]
    }
   ],
   "source": [
    "question = \"What is the gross carrying amount of Total Amortizable Intangible Assets for Jan 29, 2023?\"\n",
    "\n",
    "result = retrieval_augmented_qa_chain.invoke({\"question\" : question})\n",
    "\n",
    "print(result[\"response\"].content)\n",
    "print(result[\"context\"])"
   ]
  }
 ],
 "metadata": {
  "kernelspec": {
   "display_name": "Python 3 (ipykernel)",
   "language": "python",
   "name": "python3"
  },
  "language_info": {
   "codemirror_mode": {
    "name": "ipython",
    "version": 3
   },
   "file_extension": ".py",
   "mimetype": "text/x-python",
   "name": "python",
   "nbconvert_exporter": "python",
   "pygments_lexer": "ipython3",
   "version": "3.12.0"
  }
 },
 "nbformat": 4,
 "nbformat_minor": 5
}
